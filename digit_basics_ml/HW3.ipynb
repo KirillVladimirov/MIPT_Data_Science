{
 "cells": [
  {
   "cell_type": "markdown",
   "id": "75b7465e-e636-479f-bf36-9846360d260f",
   "metadata": {},
   "source": [
    "# Task 1"
   ]
  },
  {
   "cell_type": "code",
   "execution_count": null,
   "id": "1da88cb2-1d4d-4b3d-b992-3198c7a264f7",
   "metadata": {},
   "outputs": [],
   "source": [
    "0.62"
   ]
  },
  {
   "cell_type": "code",
   "execution_count": null,
   "id": "78d508f3-fad4-4fd4-81e8-dddcd29d803a",
   "metadata": {},
   "outputs": [],
   "source": []
  },
  {
   "cell_type": "code",
   "execution_count": null,
   "id": "40efba49-5ba1-4094-bd68-a1eb40c5ff7c",
   "metadata": {},
   "outputs": [],
   "source": []
  },
  {
   "cell_type": "code",
   "execution_count": null,
   "id": "045a45ac-b66d-4e17-9bf2-228302c55df2",
   "metadata": {},
   "outputs": [],
   "source": []
  },
  {
   "cell_type": "code",
   "execution_count": null,
   "id": "85680c81-53c2-496a-8658-e898c4c200a9",
   "metadata": {},
   "outputs": [],
   "source": []
  },
  {
   "cell_type": "markdown",
   "id": "31572c40-0416-4c58-a25b-efd4aa03e76a",
   "metadata": {},
   "source": [
    "# Task 2"
   ]
  },
  {
   "cell_type": "code",
   "execution_count": 1,
   "id": "d297856e-f915-411b-b07e-9f51c1a56874",
   "metadata": {
    "tags": []
   },
   "outputs": [
    {
     "name": "stderr",
     "output_type": "stream",
     "text": [
      "/home/skitarii/PycharmProjects/mipt-masters/.venv/lib/python3.12/site-packages/tqdm/auto.py:21: TqdmWarning: IProgress not found. Please update jupyter and ipywidgets. See https://ipywidgets.readthedocs.io/en/stable/user_install.html\n",
      "  from .autonotebook import tqdm as notebook_tqdm\n"
     ]
    },
    {
     "name": "stdout",
     "output_type": "stream",
     "text": [
      "Downloading from https://www.kaggle.com/api/v1/datasets/download/larsen0966/student-performance-data-set?dataset_version_number=2...\n"
     ]
    },
    {
     "name": "stderr",
     "output_type": "stream",
     "text": [
      "100%|██████████████████████████████████████████████████████████████████████████████████████████████████████████████████████████████████████████████████████████████████████████████████| 12.1k/12.1k [00:00<00:00, 164kB/s]"
     ]
    },
    {
     "name": "stdout",
     "output_type": "stream",
     "text": [
      "Extracting files...\n",
      "Path to dataset files: /home/skitarii/.cache/kagglehub/datasets/larsen0966/student-performance-data-set/versions/2\n"
     ]
    },
    {
     "name": "stderr",
     "output_type": "stream",
     "text": [
      "\n"
     ]
    }
   ],
   "source": [
    "import kagglehub\n",
    "\n",
    "# Download latest version\n",
    "path = kagglehub.dataset_download(\"larsen0966/student-performance-data-set\")\n",
    "\n",
    "print(\"Path to dataset files:\", path)"
   ]
  },
  {
   "cell_type": "code",
   "execution_count": 2,
   "id": "9939499a-2468-46ca-b54d-da96625a0b2d",
   "metadata": {
    "tags": []
   },
   "outputs": [
    {
     "name": "stdout",
     "output_type": "stream",
     "text": [
      "total 100K\n",
      "drwxrwxr-x 2 skitarii skitarii 4,0K фев 23 00:14 .\n",
      "drwxrwxr-x 3 skitarii skitarii 4,0K фев 23 00:14 ..\n",
      "-rw-rw-r-- 1 skitarii skitarii  92K фев 23 00:14 student-por.csv\n"
     ]
    }
   ],
   "source": [
    "!ls -lah /home/skitarii/.cache/kagglehub/datasets/larsen0966/student-performance-data-set/versions/2/student-por.csv"
   ]
  },
  {
   "cell_type": "code",
   "execution_count": 4,
   "id": "f1601f6d-ff02-47a5-91ba-7b1b72e2cb39",
   "metadata": {
    "tags": []
   },
   "outputs": [],
   "source": [
    "import pandas as pd"
   ]
  },
  {
   "cell_type": "code",
   "execution_count": 9,
   "id": "9b756817-c9fc-44d7-83e7-6c7bacac43d7",
   "metadata": {
    "tags": []
   },
   "outputs": [],
   "source": [
    "df = pd.read_csv(\"student.csv\")"
   ]
  },
  {
   "cell_type": "code",
   "execution_count": 10,
   "id": "96989c90-e8c9-4a91-91b8-f233416e7611",
   "metadata": {
    "tags": []
   },
   "outputs": [
    {
     "data": {
      "text/html": [
       "<div>\n",
       "<style scoped>\n",
       "    .dataframe tbody tr th:only-of-type {\n",
       "        vertical-align: middle;\n",
       "    }\n",
       "\n",
       "    .dataframe tbody tr th {\n",
       "        vertical-align: top;\n",
       "    }\n",
       "\n",
       "    .dataframe thead th {\n",
       "        text-align: right;\n",
       "    }\n",
       "</style>\n",
       "<table border=\"1\" class=\"dataframe\">\n",
       "  <thead>\n",
       "    <tr style=\"text-align: right;\">\n",
       "      <th></th>\n",
       "      <th>age</th>\n",
       "      <th>Medu</th>\n",
       "      <th>Fedu</th>\n",
       "      <th>traveltime</th>\n",
       "      <th>studytime</th>\n",
       "      <th>failures</th>\n",
       "      <th>famrel</th>\n",
       "      <th>freetime</th>\n",
       "      <th>goout</th>\n",
       "      <th>Dalc</th>\n",
       "      <th>Walc</th>\n",
       "      <th>health</th>\n",
       "      <th>absences</th>\n",
       "      <th>grade</th>\n",
       "    </tr>\n",
       "  </thead>\n",
       "  <tbody>\n",
       "    <tr>\n",
       "      <th>0</th>\n",
       "      <td>18</td>\n",
       "      <td>4</td>\n",
       "      <td>4</td>\n",
       "      <td>2</td>\n",
       "      <td>2</td>\n",
       "      <td>0</td>\n",
       "      <td>4</td>\n",
       "      <td>3</td>\n",
       "      <td>4</td>\n",
       "      <td>1</td>\n",
       "      <td>1</td>\n",
       "      <td>3</td>\n",
       "      <td>4</td>\n",
       "      <td>1</td>\n",
       "    </tr>\n",
       "    <tr>\n",
       "      <th>1</th>\n",
       "      <td>17</td>\n",
       "      <td>1</td>\n",
       "      <td>1</td>\n",
       "      <td>1</td>\n",
       "      <td>2</td>\n",
       "      <td>0</td>\n",
       "      <td>5</td>\n",
       "      <td>3</td>\n",
       "      <td>3</td>\n",
       "      <td>1</td>\n",
       "      <td>1</td>\n",
       "      <td>3</td>\n",
       "      <td>2</td>\n",
       "      <td>1</td>\n",
       "    </tr>\n",
       "    <tr>\n",
       "      <th>2</th>\n",
       "      <td>15</td>\n",
       "      <td>1</td>\n",
       "      <td>1</td>\n",
       "      <td>1</td>\n",
       "      <td>2</td>\n",
       "      <td>0</td>\n",
       "      <td>4</td>\n",
       "      <td>3</td>\n",
       "      <td>2</td>\n",
       "      <td>2</td>\n",
       "      <td>3</td>\n",
       "      <td>3</td>\n",
       "      <td>6</td>\n",
       "      <td>1</td>\n",
       "    </tr>\n",
       "    <tr>\n",
       "      <th>3</th>\n",
       "      <td>15</td>\n",
       "      <td>4</td>\n",
       "      <td>2</td>\n",
       "      <td>1</td>\n",
       "      <td>3</td>\n",
       "      <td>0</td>\n",
       "      <td>3</td>\n",
       "      <td>2</td>\n",
       "      <td>2</td>\n",
       "      <td>1</td>\n",
       "      <td>1</td>\n",
       "      <td>5</td>\n",
       "      <td>0</td>\n",
       "      <td>2</td>\n",
       "    </tr>\n",
       "    <tr>\n",
       "      <th>4</th>\n",
       "      <td>16</td>\n",
       "      <td>3</td>\n",
       "      <td>3</td>\n",
       "      <td>1</td>\n",
       "      <td>2</td>\n",
       "      <td>0</td>\n",
       "      <td>4</td>\n",
       "      <td>3</td>\n",
       "      <td>2</td>\n",
       "      <td>1</td>\n",
       "      <td>2</td>\n",
       "      <td>5</td>\n",
       "      <td>0</td>\n",
       "      <td>1</td>\n",
       "    </tr>\n",
       "  </tbody>\n",
       "</table>\n",
       "</div>"
      ],
      "text/plain": [
       "   age  Medu  Fedu  traveltime  studytime  failures  famrel  freetime  goout  \\\n",
       "0   18     4     4           2          2         0       4         3      4   \n",
       "1   17     1     1           1          2         0       5         3      3   \n",
       "2   15     1     1           1          2         0       4         3      2   \n",
       "3   15     4     2           1          3         0       3         2      2   \n",
       "4   16     3     3           1          2         0       4         3      2   \n",
       "\n",
       "   Dalc  Walc  health  absences  grade  \n",
       "0     1     1       3         4      1  \n",
       "1     1     1       3         2      1  \n",
       "2     2     3       3         6      1  \n",
       "3     1     1       5         0      2  \n",
       "4     1     2       5         0      1  "
      ]
     },
     "execution_count": 10,
     "metadata": {},
     "output_type": "execute_result"
    }
   ],
   "source": [
    "df.head()"
   ]
  },
  {
   "cell_type": "code",
   "execution_count": 11,
   "id": "928f40ff-9c99-4997-a65a-168a2189b953",
   "metadata": {
    "tags": []
   },
   "outputs": [
    {
     "data": {
      "text/plain": [
       "(649, 14)"
      ]
     },
     "execution_count": 11,
     "metadata": {},
     "output_type": "execute_result"
    }
   ],
   "source": [
    "df.shape"
   ]
  },
  {
   "cell_type": "code",
   "execution_count": 13,
   "id": "925ce8e7-4ccc-4a85-87ff-4123ca70a108",
   "metadata": {
    "tags": []
   },
   "outputs": [],
   "source": [
    "import pandas as pd\n",
    "from sklearn.model_selection import train_test_split\n",
    "from sklearn.pipeline import Pipeline\n",
    "from sklearn.preprocessing import StandardScaler\n",
    "from sklearn.linear_model import LogisticRegression"
   ]
  },
  {
   "cell_type": "code",
   "execution_count": 14,
   "id": "7f656c92-83a5-467a-bed9-aa6ba30fb2fa",
   "metadata": {
    "tags": []
   },
   "outputs": [
    {
     "name": "stdout",
     "output_type": "stream",
     "text": [
      "Вес для признака studytime: 0.38\n"
     ]
    },
    {
     "name": "stderr",
     "output_type": "stream",
     "text": [
      "/home/skitarii/PycharmProjects/mipt-masters/.venv/lib/python3.12/site-packages/sklearn/linear_model/_logistic.py:465: ConvergenceWarning: lbfgs failed to converge (status=1):\n",
      "STOP: TOTAL NO. OF ITERATIONS REACHED LIMIT.\n",
      "\n",
      "Increase the number of iterations (max_iter) or scale the data as shown in:\n",
      "    https://scikit-learn.org/stable/modules/preprocessing.html\n",
      "Please also refer to the documentation for alternative solver options:\n",
      "    https://scikit-learn.org/stable/modules/linear_model.html#logistic-regression\n",
      "  n_iter_i = _check_optimize_result(\n"
     ]
    }
   ],
   "source": [
    "\n",
    "\n",
    "\n",
    "# Целевой признак – 'grade'\n",
    "# Входные признаки – все, кроме 'grade'\n",
    "X = df.drop('grade', axis=1)\n",
    "y = df['grade']\n",
    "\n",
    "# Разбиение на обучающую и тестовую выборки (80/20, random_state=10)\n",
    "X_train, X_test, y_train, y_test = train_test_split(X, y, test_size=0.2, random_state=10)\n",
    "\n",
    "# Обучение модели логистической регрессии с базовыми параметрами\n",
    "model = LogisticRegression()\n",
    "model.fit(X_train, y_train)\n",
    "\n",
    "# Определяем индекс столбца 'studytime'\n",
    "studytime_index = X_train.columns.get_loc('studytime')\n",
    "\n",
    "# Извлекаем коэффициент для признака studytime\n",
    "coef_studytime = model.coef_[0][studytime_index]\n",
    "\n",
    "print(\"Вес для признака studytime:\", round(coef_studytime, 2))\n"
   ]
  },
  {
   "cell_type": "code",
   "execution_count": 16,
   "id": "a36124eb-768b-460e-84ea-8d242ff3f7ba",
   "metadata": {
    "tags": []
   },
   "outputs": [
    {
     "name": "stdout",
     "output_type": "stream",
     "text": [
      "Вес для признака studytime: 0.31\n"
     ]
    }
   ],
   "source": [
    "\n",
    "# Загрузка данных из файла\n",
    "df = pd.read_csv(\"student.csv\")\n",
    "\n",
    "# Определяем входные признаки и целевой признак\n",
    "X = df.drop('grade', axis=1)\n",
    "y = df['grade']\n",
    "\n",
    "# Разбиваем данные на обучающую и тестовую выборки (80/20, random_state=10)\n",
    "X_train, X_test, y_train, y_test = train_test_split(X, y, test_size=0.2, random_state=10)\n",
    "\n",
    "# Создаем pipeline с масштабированием и логистической регрессией (увеличено число итераций)\n",
    "pipeline = Pipeline([\n",
    "    ('scaler', StandardScaler()),\n",
    "    ('logreg', LogisticRegression(max_iter=1000))\n",
    "])\n",
    "\n",
    "# Обучаем модель\n",
    "pipeline.fit(X_train, y_train)\n",
    "\n",
    "# Определяем индекс столбца 'studytime'\n",
    "studytime_index = X_train.columns.get_loc('studytime')\n",
    "\n",
    "# Извлекаем коэффициент для признака studytime\n",
    "coef_studytime = pipeline.named_steps['logreg'].coef_[0][studytime_index]\n",
    "\n",
    "print(\"Вес для признака studytime:\", round(coef_studytime, 2))\n"
   ]
  },
  {
   "cell_type": "code",
   "execution_count": null,
   "id": "010af34d-1322-4d1c-9bd2-0446ff40b3b1",
   "metadata": {},
   "outputs": [],
   "source": []
  },
  {
   "cell_type": "code",
   "execution_count": null,
   "id": "c6e1bfa5-ddb6-45f5-8c26-8d7ff00ca549",
   "metadata": {},
   "outputs": [],
   "source": []
  },
  {
   "cell_type": "markdown",
   "id": "9db2656c-a32f-421d-90cb-16467de01b2e",
   "metadata": {},
   "source": [
    "# Task 3"
   ]
  },
  {
   "cell_type": "code",
   "execution_count": 17,
   "id": "945e63b2-99b1-4503-8e72-33389305a65b",
   "metadata": {
    "tags": []
   },
   "outputs": [],
   "source": [
    "# Загрузка данных из файла\n",
    "df = pd.read_csv(\"student.csv\")"
   ]
  },
  {
   "cell_type": "code",
   "execution_count": 18,
   "id": "f729b0bd-f9ab-4dfa-9ff6-ae661eb5fd00",
   "metadata": {
    "tags": []
   },
   "outputs": [
    {
     "name": "stdout",
     "output_type": "stream",
     "text": [
      "Минимальное значение для признака age на тестовой выборке: -1.47\n",
      "Максимальное значение для признака age на тестовой выборке: 4.4\n"
     ]
    }
   ],
   "source": [
    "# Предполагаем, что в файле имеется столбец 'age' и целевой признак 'grade'\n",
    "# В качестве входных признаков используем все столбцы, кроме 'grade'\n",
    "X = df.drop('grade', axis=1)\n",
    "y = df['grade']\n",
    "\n",
    "# Разбиваем данные на обучающую и тестовую выборки (80/20, random_state=10)\n",
    "X_train, X_test, y_train, y_test = train_test_split(X, y, test_size=0.20, random_state=10)\n",
    "\n",
    "# Обучаем StandardScaler только на тренировочной выборке\n",
    "scaler = StandardScaler()\n",
    "scaler.fit(X_train)\n",
    "\n",
    "# Преобразуем тренировочные и тестовые данные\n",
    "X_train_scaled = scaler.transform(X_train)\n",
    "X_test_scaled = scaler.transform(X_test)\n",
    "\n",
    "# Определяем индекс столбца 'age'\n",
    "age_index = X.columns.get_loc('age')\n",
    "\n",
    "# Извлекаем масштабированные значения признака 'age' из тестовой выборки\n",
    "age_test_scaled = X_test_scaled[:, age_index]\n",
    "\n",
    "# Вычисляем минимальное и максимальное значения\n",
    "min_age = age_test_scaled.min()\n",
    "max_age = age_test_scaled.max()\n",
    "\n",
    "print(\"Минимальное значение для признака age на тестовой выборке:\", round(min_age, 2))\n",
    "print(\"Максимальное значение для признака age на тестовой выборке:\", round(max_age, 2))"
   ]
  },
  {
   "cell_type": "code",
   "execution_count": null,
   "id": "343bc48c-f19a-481c-bff7-dafcd52c3a8b",
   "metadata": {},
   "outputs": [],
   "source": []
  },
  {
   "cell_type": "code",
   "execution_count": null,
   "id": "663bf435-6cbe-4cad-be54-57fd6e601ef7",
   "metadata": {},
   "outputs": [],
   "source": []
  },
  {
   "cell_type": "code",
   "execution_count": null,
   "id": "92bc9cea-597f-45b8-89c9-4702a334bbcd",
   "metadata": {},
   "outputs": [],
   "source": []
  },
  {
   "cell_type": "markdown",
   "id": "8c203001-204d-449f-be49-55118e95005a",
   "metadata": {},
   "source": [
    "# Task 4"
   ]
  },
  {
   "cell_type": "code",
   "execution_count": 21,
   "id": "51d7e1da-c639-4941-b2d9-99363a4d233e",
   "metadata": {
    "tags": []
   },
   "outputs": [],
   "source": [
    "import pandas as pd\n",
    "from sklearn.model_selection import train_test_split\n",
    "from sklearn.preprocessing import StandardScaler\n",
    "from sklearn.linear_model import LogisticRegression\n",
    "from sklearn.metrics import accuracy_score"
   ]
  },
  {
   "cell_type": "code",
   "execution_count": 22,
   "id": "3bc15bd1-ca37-46b8-af22-fca5b278c417",
   "metadata": {
    "tags": []
   },
   "outputs": [],
   "source": [
    "# Загрузка данных из файла\n",
    "df = pd.read_csv(\"student.csv\")"
   ]
  },
  {
   "cell_type": "code",
   "execution_count": 23,
   "id": "672e9579-04fc-49b3-8b9b-1b3b42756ef8",
   "metadata": {
    "tags": []
   },
   "outputs": [
    {
     "name": "stdout",
     "output_type": "stream",
     "text": [
      "Accuracy на обучающей выборке: 0.76\n",
      "Accuracy на тестовой выборке: 0.78\n"
     ]
    }
   ],
   "source": [
    "# Определяем входные признаки и целевой признак.\n",
    "# Предполагается, что столбец 'grade' содержит значения 0 и 1,\n",
    "# а остальные столбцы – признаки.\n",
    "X = df.drop('grade', axis=1)\n",
    "y = df['grade']\n",
    "\n",
    "# Разбиваем данные на обучающую (80%) и тестовую (20%) выборки (random_state=10)\n",
    "X_train, X_test, y_train, y_test = train_test_split(X, y, test_size=0.20, random_state=10)\n",
    "\n",
    "# Масштабирование данных: обучаем StandardScaler только на тренировочных данных\n",
    "scaler = StandardScaler()\n",
    "X_train_scaled = scaler.fit_transform(X_train)\n",
    "X_test_scaled = scaler.transform(X_test)\n",
    "\n",
    "# Обучаем модель логистической регрессии с базовыми параметрами (увеличим max_iter для сходимости)\n",
    "model = LogisticRegression(max_iter=1000)\n",
    "model.fit(X_train_scaled, y_train)\n",
    "\n",
    "# Получаем предсказания для обучающей и тестовой выборок\n",
    "y_train_pred = model.predict(X_train_scaled)\n",
    "y_test_pred = model.predict(X_test_scaled)\n",
    "\n",
    "# Вычисляем accuracy\n",
    "train_accuracy = accuracy_score(y_train, y_train_pred)\n",
    "test_accuracy = accuracy_score(y_test, y_test_pred)\n",
    "\n",
    "print(\"Accuracy на обучающей выборке:\", round(train_accuracy, 2))\n",
    "print(\"Accuracy на тестовой выборке:\", round(test_accuracy, 2))"
   ]
  },
  {
   "cell_type": "code",
   "execution_count": null,
   "id": "90f9e299-e9e5-4fb5-b9e9-142b56039730",
   "metadata": {},
   "outputs": [],
   "source": []
  },
  {
   "cell_type": "code",
   "execution_count": null,
   "id": "d69c4850-e0c1-4ed1-98f3-a23a169b1e0b",
   "metadata": {},
   "outputs": [],
   "source": []
  },
  {
   "cell_type": "code",
   "execution_count": null,
   "id": "50cf91ce-6d2a-42b4-ab37-873e2641a979",
   "metadata": {},
   "outputs": [],
   "source": []
  },
  {
   "cell_type": "markdown",
   "id": "e06a8dd4-fccc-4435-91b8-1fc14199a13e",
   "metadata": {},
   "source": [
    "# Task 5"
   ]
  },
  {
   "cell_type": "code",
   "execution_count": 25,
   "id": "a85c5d56-d809-4164-be1c-8e7b35961409",
   "metadata": {
    "tags": []
   },
   "outputs": [],
   "source": [
    "import pandas as pd\n",
    "from sklearn.model_selection import train_test_split\n",
    "from sklearn.pipeline import Pipeline\n",
    "from sklearn.preprocessing import PolynomialFeatures, StandardScaler\n",
    "from sklearn.linear_model import LogisticRegression\n",
    "from sklearn.metrics import accuracy_score\n"
   ]
  },
  {
   "cell_type": "code",
   "execution_count": null,
   "id": "40d02b26-d280-414f-b1af-9e3491c64e86",
   "metadata": {},
   "outputs": [],
   "source": []
  },
  {
   "cell_type": "code",
   "execution_count": 28,
   "id": "c82e42b6-3e9b-4526-b208-e3065468f221",
   "metadata": {
    "tags": []
   },
   "outputs": [
    {
     "name": "stdout",
     "output_type": "stream",
     "text": [
      "Accuracy на обучающей выборке: 0.95\n",
      "Accuracy на тестовой выборке: 0.68\n"
     ]
    },
    {
     "name": "stderr",
     "output_type": "stream",
     "text": [
      "/home/skitarii/PycharmProjects/mipt-masters/.venv/lib/python3.12/site-packages/sklearn/linear_model/_logistic.py:465: ConvergenceWarning: lbfgs failed to converge (status=1):\n",
      "STOP: TOTAL NO. OF ITERATIONS REACHED LIMIT.\n",
      "\n",
      "Increase the number of iterations (max_iter) or scale the data as shown in:\n",
      "    https://scikit-learn.org/stable/modules/preprocessing.html\n",
      "Please also refer to the documentation for alternative solver options:\n",
      "    https://scikit-learn.org/stable/modules/linear_model.html#logistic-regression\n",
      "  n_iter_i = _check_optimize_result(\n"
     ]
    }
   ],
   "source": [
    "\n",
    "# Считываем данные из файла (замените имя файла при необходимости)\n",
    "df = pd.read_csv(\"student.csv\")\n",
    "\n",
    "# Целевой признак – 'grade', остальные признаки – входные\n",
    "X = df.drop('grade', axis=1)\n",
    "y = df['grade']\n",
    "\n",
    "# Разбиваем данные на обучающую (80%) и тестовую (20%) выборки (random_state=10)\n",
    "X_train, X_test, y_train, y_test = train_test_split(X, y, test_size=0.20, random_state=10)\n",
    "\n",
    "# Создаём pipeline:\n",
    "# 1. Полиномизация признаков до 4-й степени\n",
    "# 2. Масштабирование данных\n",
    "# 3. Логистическая регрессия без регуляризации\n",
    "pipeline = Pipeline([\n",
    "    ('poly', PolynomialFeatures(degree=4)),\n",
    "    ('scaler', StandardScaler()),\n",
    "    ('logreg', LogisticRegression(penalty=None))\n",
    "])\n",
    "\n",
    "# Обучаем модель на тренировочной выборке\n",
    "pipeline.fit(X_train, y_train)\n",
    "\n",
    "# Получаем предсказания для обучающей и тестовой выборок\n",
    "y_train_pred = pipeline.predict(X_train)\n",
    "y_test_pred = pipeline.predict(X_test)\n",
    "\n",
    "# Вычисляем accuracy\n",
    "train_accuracy = accuracy_score(y_train, y_train_pred)\n",
    "test_accuracy = accuracy_score(y_test, y_test_pred)\n",
    "\n",
    "print(\"Accuracy на обучающей выборке:\", round(train_accuracy, 2))\n",
    "print(\"Accuracy на тестовой выборке:\", round(test_accuracy, 2))\n"
   ]
  },
  {
   "cell_type": "code",
   "execution_count": null,
   "id": "8b7ba431-0912-4535-9534-2ae8ab2a58f1",
   "metadata": {},
   "outputs": [],
   "source": []
  },
  {
   "cell_type": "code",
   "execution_count": null,
   "id": "caa8e6f1-a173-44b4-a887-0392b51f9d3d",
   "metadata": {},
   "outputs": [],
   "source": []
  },
  {
   "cell_type": "code",
   "execution_count": null,
   "id": "c025fa21-dff8-4023-99e8-9670d8ee46a8",
   "metadata": {},
   "outputs": [],
   "source": []
  },
  {
   "cell_type": "code",
   "execution_count": null,
   "id": "64ccb5c0-7f88-41c5-849c-655da145c5e4",
   "metadata": {},
   "outputs": [],
   "source": []
  },
  {
   "cell_type": "markdown",
   "id": "3e855cc3-dcad-436e-b2a0-3b14584c4775",
   "metadata": {},
   "source": [
    "# Task 6"
   ]
  },
  {
   "cell_type": "code",
   "execution_count": 29,
   "id": "2a1c3e9a-df96-4267-b129-436ff711f697",
   "metadata": {
    "tags": []
   },
   "outputs": [
    {
     "name": "stdout",
     "output_type": "stream",
     "text": [
      "Accuracy на обучающей выборке: 1.0\n",
      "Accuracy на тестовой выборке: 0.7\n"
     ]
    }
   ],
   "source": [
    "\n",
    "# Считываем данные из файла (замените имя файла при необходимости)\n",
    "df = pd.read_csv(\"student.csv\")\n",
    "\n",
    "# Целевой признак – 'grade', остальные признаки – входные\n",
    "X = df.drop('grade', axis=1)\n",
    "y = df['grade']\n",
    "\n",
    "# Разбиваем данные на обучающую (80%) и тестовую (20%) выборки (random_state=10)\n",
    "X_train, X_test, y_train, y_test = train_test_split(X, y, test_size=0.20, random_state=10)\n",
    "\n",
    "# Создаём pipeline:\n",
    "# 1. Полиномизация признаков до 4-й степени\n",
    "# 2. Масштабирование данных\n",
    "# 3. Логистическая регрессия без регуляризации\n",
    "pipeline = Pipeline([\n",
    "    ('poly', PolynomialFeatures(degree=4)),\n",
    "    ('scaler', StandardScaler()),\n",
    "    ('logreg', LogisticRegression(penalty=None, max_iter=600))\n",
    "])\n",
    "\n",
    "# Обучаем модель на тренировочной выборке\n",
    "pipeline.fit(X_train, y_train)\n",
    "\n",
    "# Получаем предсказания для обучающей и тестовой выборок\n",
    "y_train_pred = pipeline.predict(X_train)\n",
    "y_test_pred = pipeline.predict(X_test)\n",
    "\n",
    "# Вычисляем accuracy\n",
    "train_accuracy = accuracy_score(y_train, y_train_pred)\n",
    "test_accuracy = accuracy_score(y_test, y_test_pred)\n",
    "\n",
    "print(\"Accuracy на обучающей выборке:\", round(train_accuracy, 2))\n",
    "print(\"Accuracy на тестовой выборке:\", round(test_accuracy, 2))\n"
   ]
  },
  {
   "cell_type": "code",
   "execution_count": null,
   "id": "5ae7d741-a501-4fde-a8ca-5f188435b82f",
   "metadata": {},
   "outputs": [],
   "source": []
  },
  {
   "cell_type": "code",
   "execution_count": 31,
   "id": "57c1607a-7a05-4cdd-b0c0-7a806ed7f73a",
   "metadata": {
    "tags": []
   },
   "outputs": [
    {
     "name": "stdout",
     "output_type": "stream",
     "text": [
      "Лучшая метрика accuracy на тестовой выборке: 0.81\n"
     ]
    }
   ],
   "source": [
    "import pandas as pd\n",
    "from sklearn.model_selection import train_test_split, GridSearchCV\n",
    "from sklearn.pipeline import Pipeline\n",
    "from sklearn.preprocessing import PolynomialFeatures, StandardScaler\n",
    "from sklearn.linear_model import LogisticRegression\n",
    "from sklearn.metrics import accuracy_score\n",
    "\n",
    "# Считываем данные из файла (замените 'student_performance.csv' на актуальное имя файла)\n",
    "df = pd.read_csv(\"student.csv\")\n",
    "\n",
    "# Целевой признак – 'grade', остальные столбцы – признаки\n",
    "X = df.drop('grade', axis=1)\n",
    "y = df['grade']\n",
    "\n",
    "# Разбиение данных на обучающую и тестовую выборки (80/20, random_state=10)\n",
    "X_train, X_test, y_train, y_test = train_test_split(X, y, test_size=0.20, random_state=10)\n",
    "\n",
    "# Создаем pipeline\n",
    "pipeline = Pipeline([\n",
    "    ('poly', PolynomialFeatures(degree=4)),\n",
    "    ('scaler', StandardScaler()),\n",
    "    ('logreg', LogisticRegression(max_iter=600))\n",
    "])\n",
    "\n",
    "# Задаем диапазон параметра C для перебора\n",
    "param_grid = {\n",
    "    'logreg__C': [0.0001, 0.001, 0.01, 0.1, 1]\n",
    "}\n",
    "\n",
    "# Выполняем GridSearchCV с 5-кратной кросс-валидацией (оценка по accuracy)\n",
    "grid = GridSearchCV(pipeline, param_grid, cv=5, scoring='accuracy')\n",
    "grid.fit(X_train, y_train)\n",
    "\n",
    "# Выбираем лучшую модель и оцениваем её на тестовой выборке\n",
    "best_model = grid.best_estimator_\n",
    "y_test_pred = best_model.predict(X_test)\n",
    "test_accuracy = accuracy_score(y_test, y_test_pred)\n",
    "\n",
    "print(\"Лучшая метрика accuracy на тестовой выборке:\", round(test_accuracy, 2))\n"
   ]
  },
  {
   "cell_type": "code",
   "execution_count": null,
   "id": "8702473a-a9bb-4462-9390-80758bb11072",
   "metadata": {},
   "outputs": [],
   "source": []
  },
  {
   "cell_type": "code",
   "execution_count": null,
   "id": "536a0cb4-8027-4fdb-8e09-1f7b3bcf04fd",
   "metadata": {},
   "outputs": [],
   "source": []
  },
  {
   "cell_type": "markdown",
   "id": "febdcf4b-0698-4a65-a302-0c4af97efedc",
   "metadata": {},
   "source": [
    "# Task 7"
   ]
  },
  {
   "cell_type": "code",
   "execution_count": 35,
   "id": "7f2ab983-52cb-4113-93d2-b53813cbff8d",
   "metadata": {
    "tags": []
   },
   "outputs": [
    {
     "name": "stdout",
     "output_type": "stream",
     "text": [
      "Accuracy на обучающей выборке: 0.96\n",
      "Accuracy на тестовой выборке: 0.96\n"
     ]
    }
   ],
   "source": [
    "import pandas as pd\n",
    "from sklearn.model_selection import train_test_split\n",
    "from sklearn.pipeline import Pipeline\n",
    "from sklearn.preprocessing import StandardScaler\n",
    "from sklearn.linear_model import LogisticRegression\n",
    "from sklearn.metrics import accuracy_score\n",
    "\n",
    "# Считываем данные из файла (замените имя файла на актуальное, если необходимо)\n",
    "df = pd.read_csv('taxi.csv')\n",
    "\n",
    "# Определяем входные признаки и целевой признак.\n",
    "# Предполагается, что в датасете присутствует столбец 'tip_class'\n",
    "X = df.drop('tip_class', axis=1)\n",
    "y = df['tip_class']\n",
    "\n",
    "# Разбиваем данные на обучающую (80%) и тестовую (20%) выборки с random_state=10\n",
    "X_train, X_test, y_train, y_test = train_test_split(X, y, test_size=0.20, random_state=10)\n",
    "\n",
    "# Создаем pipeline:\n",
    "# 1. StandardScaler для масштабирования признаков (масштаб изучается в данных)\n",
    "# 2. LogisticRegression с L2-регуляризацией (по умолчанию) и max_iter=400\n",
    "pipeline = Pipeline([\n",
    "    ('scaler', StandardScaler()),\n",
    "    ('logreg', LogisticRegression(max_iter=400))\n",
    "])\n",
    "\n",
    "# Обучаем модель на тренировочных данных\n",
    "pipeline.fit(X_train, y_train)\n",
    "\n",
    "# Получаем предсказания для обучающей и тестовой выборок\n",
    "y_train_pred = pipeline.predict(X_train)\n",
    "y_test_pred = pipeline.predict(X_test)\n",
    "\n",
    "# Вычисляем accuracy\n",
    "train_accuracy = accuracy_score(y_train, y_train_pred)\n",
    "test_accuracy = accuracy_score(y_test, y_test_pred)\n",
    "\n",
    "print(\"Accuracy на обучающей выборке:\", round(train_accuracy, 2))\n",
    "print(\"Accuracy на тестовой выборке:\", round(test_accuracy, 2))\n"
   ]
  },
  {
   "cell_type": "code",
   "execution_count": null,
   "id": "59c91e89-c8e5-4221-9b77-0d22686eef43",
   "metadata": {},
   "outputs": [],
   "source": []
  },
  {
   "cell_type": "code",
   "execution_count": null,
   "id": "40e7bdfd-7ed4-44eb-8501-453aa653bea4",
   "metadata": {},
   "outputs": [],
   "source": []
  },
  {
   "cell_type": "code",
   "execution_count": null,
   "id": "806263b3-c49d-4cd0-94a2-e80711333125",
   "metadata": {},
   "outputs": [],
   "source": []
  },
  {
   "cell_type": "code",
   "execution_count": null,
   "id": "d62ead28-e8be-41ab-9959-b0385483dc87",
   "metadata": {},
   "outputs": [],
   "source": []
  },
  {
   "cell_type": "code",
   "execution_count": null,
   "id": "a579a7a2-5095-4fe6-b7f5-f5150cb0f177",
   "metadata": {},
   "outputs": [],
   "source": []
  },
  {
   "cell_type": "markdown",
   "id": "a5e9a357-364c-4972-8318-98a5d04073a1",
   "metadata": {},
   "source": [
    "# Task 8"
   ]
  },
  {
   "cell_type": "code",
   "execution_count": 36,
   "id": "9a393186-17a5-42cf-9542-25b8d0021ad9",
   "metadata": {
    "tags": []
   },
   "outputs": [
    {
     "name": "stdout",
     "output_type": "stream",
     "text": [
      "low: 6.92% ошибочных предсказаний\n",
      "under med: 0.03% ошибочных предсказаний\n",
      "over med: 6.87% ошибочных предсказаний\n",
      "high: 2.34% ошибочных предсказаний\n"
     ]
    }
   ],
   "source": [
    "import numpy as np\n",
    "import pandas as pd\n",
    "from sklearn.metrics import confusion_matrix\n",
    "\n",
    "# Предположим, что y_test и y_test_pred получены из ранее обученного пайплайна.\n",
    "# Пусть категории заданы именно в таком порядке:\n",
    "class_labels = [\"low\", \"under med\", \"over med\", \"high\"]\n",
    "\n",
    "# Вычисляем матрицу ошибок\n",
    "cm = confusion_matrix(y_test, y_test_pred, labels=class_labels)\n",
    "\n",
    "# Для каждой строки (каждого истинного класса) вычисляем процент ошибочных предсказаний:\n",
    "# error_rate = (total samples in класс - правильно классифицированных) / (total samples in класс) * 100\n",
    "error_rates = {}\n",
    "for i, label in enumerate(class_labels):\n",
    "    total = cm[i].sum()\n",
    "    correct = cm[i, i]\n",
    "    error_rate = (total - correct) / total * 100 if total > 0 else 0\n",
    "    error_rates[label] = round(error_rate, 2)\n",
    "\n",
    "# Выводим результаты\n",
    "for label in class_labels:\n",
    "    print(f\"{label}: {error_rates[label]}% ошибочных предсказаний\")"
   ]
  },
  {
   "cell_type": "code",
   "execution_count": null,
   "id": "ea46fa8e-c627-40dc-9edd-15bb8a50cef1",
   "metadata": {},
   "outputs": [],
   "source": []
  },
  {
   "cell_type": "code",
   "execution_count": null,
   "id": "1397d081-2df2-483e-983d-ffcc58ef94aa",
   "metadata": {},
   "outputs": [],
   "source": []
  },
  {
   "cell_type": "code",
   "execution_count": 40,
   "id": "e6543462-c5ec-4bb0-bc94-8f61f72967c7",
   "metadata": {
    "tags": []
   },
   "outputs": [
    {
     "name": "stdout",
     "output_type": "stream",
     "text": [
      "Accuracy на обучающей выборке: 0.96\n",
      "Accuracy на тестовой выборке: 0.96\n",
      "low:   6.92% ошибочных предсказаний\n",
      "under med:   0.03% ошибочных предсказаний\n",
      "over med:   6.87% ошибочных предсказаний\n",
      "high:   2.34% ошибочных предсказаний\n"
     ]
    }
   ],
   "source": [
    "import pandas as pd\n",
    "from sklearn.model_selection import train_test_split\n",
    "from sklearn.pipeline import Pipeline\n",
    "from sklearn.preprocessing import PolynomialFeatures, StandardScaler\n",
    "from sklearn.linear_model import LogisticRegression\n",
    "from sklearn.metrics import confusion_matrix\n",
    "\n",
    "# Считываем данные из файла (замените 'taxi_fare.csv' на актуальное имя файла)\n",
    "df = pd.read_csv('taxi.csv')\n",
    "\n",
    "# Целевой признак – 'tip_class'\n",
    "X = df.drop('tip_class', axis=1)\n",
    "y = df['tip_class']\n",
    "\n",
    "# Разбиваем данные: 80% train, 20% test (random_state=10)\n",
    "X_train, X_test, y_train, y_test = train_test_split(X, y, test_size=0.20, random_state=10)\n",
    "\n",
    "# Создаем pipeline:\n",
    "# 1. StandardScaler\n",
    "# 2. LogisticRegression с L2-регуляризацией, max_iter=400\n",
    "pipeline = Pipeline([\n",
    "    ('scaler', StandardScaler()),\n",
    "    ('logreg', LogisticRegression(max_iter=400))  # L2 по умолчанию\n",
    "])\n",
    "\n",
    "# Обучаем модель на тренировочной выборке\n",
    "pipeline.fit(X_train, y_train)\n",
    "\n",
    "# Получаем предсказания для обучающей и тестовой выборок\n",
    "y_train_pred = pipeline.predict(X_train)\n",
    "y_test_pred = pipeline.predict(X_test)\n",
    "\n",
    "# Вычисляем accuracy\n",
    "train_accuracy = accuracy_score(y_train, y_train_pred)\n",
    "test_accuracy = accuracy_score(y_test, y_test_pred)\n",
    "\n",
    "print(\"Accuracy на обучающей выборке:\", round(train_accuracy, 2))\n",
    "print(\"Accuracy на тестовой выборке:\", round(test_accuracy, 2))\n",
    "\n",
    "\n",
    "# Для вычисления ошибок считаем confusion matrix,\n",
    "# при этом порядок меток задаем как:\n",
    "class_labels = [\"low\", \"under med\", \"over med\", \"high\"]\n",
    "cm = confusion_matrix(y_test, y_test_pred, labels=class_labels)\n",
    "\n",
    "# Для каждого истинного класса вычисляем процент ошибочных предсказаний:\n",
    "error_rates = {}\n",
    "for i, label in enumerate(class_labels):\n",
    "    total = cm[i].sum()\n",
    "    correct = cm[i, i]\n",
    "    # Если в тестовой выборке для данного класса много объектов, то:\n",
    "    error_rate = ((total - correct) / total * 100) if total > 0 else 0\n",
    "    error_rates[label] = round(error_rate, 2)\n",
    "\n",
    "# Выводим результаты:\n",
    "print(\"low:   {}% ошибочных предсказаний\".format(error_rates[\"low\"]))\n",
    "print(\"under med:   {}% ошибочных предсказаний\".format(error_rates[\"under med\"]))\n",
    "print(\"over med:   {}% ошибочных предсказаний\".format(error_rates[\"over med\"]))\n",
    "print(\"high:   {}% ошибочных предсказаний\".format(error_rates[\"high\"]))\n"
   ]
  },
  {
   "cell_type": "code",
   "execution_count": null,
   "id": "276b7bae-7b13-4037-9eb1-b9a57713807e",
   "metadata": {},
   "outputs": [],
   "source": []
  },
  {
   "cell_type": "code",
   "execution_count": null,
   "id": "817354d5-58c9-4665-877e-dac5eac218fb",
   "metadata": {},
   "outputs": [],
   "source": []
  }
 ],
 "metadata": {
  "kernelspec": {
   "display_name": "Python 3 (ipykernel)",
   "language": "python",
   "name": "python3"
  },
  "language_info": {
   "codemirror_mode": {
    "name": "ipython",
    "version": 3
   },
   "file_extension": ".py",
   "mimetype": "text/x-python",
   "name": "python",
   "nbconvert_exporter": "python",
   "pygments_lexer": "ipython3",
   "version": "3.12.3"
  }
 },
 "nbformat": 4,
 "nbformat_minor": 5
}
