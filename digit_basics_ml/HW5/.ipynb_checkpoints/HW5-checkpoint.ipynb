{
 "cells": [
  {
   "cell_type": "code",
   "execution_count": null,
   "id": "4553c417-60a2-43c3-8ea5-0f2fc41701c7",
   "metadata": {},
   "outputs": [],
   "source": [
    "Целевой признак Credit_Score"
   ]
  },
  {
   "cell_type": "code",
   "execution_count": 4,
   "id": "4d9248f1-c481-4da9-a80d-c212d6a0de23",
   "metadata": {
    "tags": []
   },
   "outputs": [
    {
     "name": "stdout",
     "output_type": "stream",
     "text": [
      "Archive:  Credit score.zip\n",
      "  inflating: test.csv                \n",
      "  inflating: train.csv               \n"
     ]
    }
   ],
   "source": [
    "!unzip \"Credit score.zip\""
   ]
  },
  {
   "cell_type": "markdown",
   "id": "6f364546-ca9f-440c-bfff-67ce536a9e18",
   "metadata": {},
   "source": [
    "# Task 1"
   ]
  },
  {
   "cell_type": "code",
   "execution_count": null,
   "id": "e13a9e49-7914-4967-a9c1-a421550e9eab",
   "metadata": {},
   "outputs": [],
   "source": [
    "Целевой признак Credit_Score\n",
    "\n",
    "Выясните, клиенты с каким значением признака Payment_Behaviour более склонны к просрочкам по кредиту (Credit_Score=Poor)?"
   ]
  },
  {
   "cell_type": "code",
   "execution_count": 1,
   "id": "037848ce-e184-4dcb-ac79-8511ab1e4675",
   "metadata": {
    "tags": []
   },
   "outputs": [
    {
     "name": "stdout",
     "output_type": "stream",
     "text": [
      "/home/skitarii/PycharmProjects/mipt-masters/digit_basics_ml/HW5\n"
     ]
    }
   ],
   "source": [
    "!pwd"
   ]
  },
  {
   "cell_type": "code",
   "execution_count": 1,
   "id": "da50d8aa-ba37-4b52-a876-0fae9b7844a8",
   "metadata": {
    "tags": []
   },
   "outputs": [
    {
     "name": "stdout",
     "output_type": "stream",
     "text": [
      "       ID Customer_ID     Month           Name   Age          SSN Occupation  \\\n",
      "0  0x1602   CUS_0xd40   January  Aaron Maashoh    23  821-00-0265  Scientist   \n",
      "1  0x1603   CUS_0xd40  February  Aaron Maashoh    23  821-00-0265  Scientist   \n",
      "2  0x1604   CUS_0xd40     March  Aaron Maashoh  -500  821-00-0265  Scientist   \n",
      "3  0x1605   CUS_0xd40     April  Aaron Maashoh    23  821-00-0265  Scientist   \n",
      "4  0x1606   CUS_0xd40       May  Aaron Maashoh    23  821-00-0265  Scientist   \n",
      "\n",
      "  Annual_Income  Monthly_Inhand_Salary  Num_Bank_Accounts  ...  Credit_Mix  \\\n",
      "0      19114.12            1824.843333                  3  ...           _   \n",
      "1      19114.12                    NaN                  3  ...        Good   \n",
      "2      19114.12                    NaN                  3  ...        Good   \n",
      "3      19114.12                    NaN                  3  ...        Good   \n",
      "4      19114.12            1824.843333                  3  ...        Good   \n",
      "\n",
      "   Outstanding_Debt Credit_Utilization_Ratio     Credit_History_Age  \\\n",
      "0            809.98                26.822620  22 Years and 1 Months   \n",
      "1            809.98                31.944960                    NaN   \n",
      "2            809.98                28.609352  22 Years and 3 Months   \n",
      "3            809.98                31.377862  22 Years and 4 Months   \n",
      "4            809.98                24.797347  22 Years and 5 Months   \n",
      "\n",
      "   Payment_of_Min_Amount Total_EMI_per_month Amount_invested_monthly  \\\n",
      "0                     No           49.574949       80.41529543900253   \n",
      "1                     No           49.574949      118.28022162236736   \n",
      "2                     No           49.574949         81.699521264648   \n",
      "3                     No           49.574949       199.4580743910713   \n",
      "4                     No           49.574949      41.420153086217326   \n",
      "\n",
      "                  Payment_Behaviour     Monthly_Balance Credit_Score  \n",
      "0   High_spent_Small_value_payments  312.49408867943663         Good  \n",
      "1    Low_spent_Large_value_payments  284.62916249607184         Good  \n",
      "2   Low_spent_Medium_value_payments   331.2098628537912         Good  \n",
      "3    Low_spent_Small_value_payments  223.45130972736786         Good  \n",
      "4  High_spent_Medium_value_payments  341.48923103222177         Good  \n",
      "\n",
      "[5 rows x 28 columns]\n"
     ]
    },
    {
     "name": "stderr",
     "output_type": "stream",
     "text": [
      "/tmp/ipykernel_204294/2304237973.py:4: DtypeWarning: Columns (26) have mixed types. Specify dtype option on import or set low_memory=False.\n",
      "  df = pd.read_csv('./train.csv')\n"
     ]
    }
   ],
   "source": [
    "import pandas as pd\n",
    "\n",
    "# Загрузка обучающего датасета\n",
    "df = pd.read_csv('./train.csv')\n",
    "print(df.head())"
   ]
  },
  {
   "cell_type": "code",
   "execution_count": 2,
   "id": "ef858d9a-108e-4684-875d-e9f5f24e03b3",
   "metadata": {},
   "outputs": [
    {
     "name": "stdout",
     "output_type": "stream",
     "text": [
      "Credit_Score                          Good      Poor  Standard\n",
      "Payment_Behaviour                                             \n",
      "!@9#%8                            0.181974  0.292763  0.525263\n",
      "High_spent_Large_value_payments   0.231178  0.217112  0.551709\n",
      "High_spent_Medium_value_payments  0.200912  0.253079  0.546009\n",
      "High_spent_Small_value_payments   0.186420  0.272310  0.541270\n",
      "Low_spent_Large_value_payments    0.180336  0.281151  0.538513\n",
      "Low_spent_Medium_value_payments   0.179064  0.303802  0.517134\n",
      "Low_spent_Small_value_payments    0.128288  0.357661  0.514052\n"
     ]
    }
   ],
   "source": [
    "# Группировка данных по Payment_Behaviour и вычисление доли Poor для каждого уровня\n",
    "group = df.groupby('Payment_Behaviour')['Credit_Score'].value_counts(normalize=True).unstack()\n",
    "print(group)"
   ]
  },
  {
   "cell_type": "code",
   "execution_count": null,
   "id": "e2f4496b-ea93-4d85-9bbf-d6be33b4f4bf",
   "metadata": {},
   "outputs": [],
   "source": []
  },
  {
   "cell_type": "code",
   "execution_count": 3,
   "id": "44a48123-bda0-4e50-8e58-fe94129e27b4",
   "metadata": {},
   "outputs": [
    {
     "name": "stdout",
     "output_type": "stream",
     "text": [
      "Credit_Score                          Good      Poor  Standard\n",
      "Payment_Behaviour                                             \n",
      "!@9#%8                            0.181974  0.292763  0.525263\n",
      "High_spent_Large_value_payments   0.231178  0.217112  0.551709\n",
      "High_spent_Medium_value_payments  0.200912  0.253079  0.546009\n",
      "High_spent_Small_value_payments   0.186420  0.272310  0.541270\n",
      "Low_spent_Large_value_payments    0.180336  0.281151  0.538513\n",
      "Low_spent_Medium_value_payments   0.179064  0.303802  0.517134\n",
      "Low_spent_Small_value_payments    0.128288  0.357661  0.514052\n",
      "\n",
      "Клиенты с Payment_Behaviour = 'Low_spent_Small_value_payments' имеют максимальную долю с Credit_Score = Poor (35.77%).\n"
     ]
    },
    {
     "name": "stderr",
     "output_type": "stream",
     "text": [
      "/tmp/ipykernel_204294/2033024583.py:4: DtypeWarning: Columns (26) have mixed types. Specify dtype option on import or set low_memory=False.\n",
      "  df = pd.read_csv('./train.csv')\n"
     ]
    }
   ],
   "source": [
    "import pandas as pd\n",
    "\n",
    "# Загрузка данных\n",
    "df = pd.read_csv('./train.csv')\n",
    "\n",
    "# Группировка и вычисление долей\n",
    "group = df.groupby('Payment_Behaviour')['Credit_Score'].value_counts(normalize=True).unstack()\n",
    "\n",
    "# Вывод таблицы с долями\n",
    "print(group)\n",
    "\n",
    "# Определение категории с максимальной долей Poor\n",
    "max_poor_category = group['Poor'].idxmax()\n",
    "max_poor_value = group['Poor'].max()\n",
    "\n",
    "print(f\"\\nКлиенты с Payment_Behaviour = '{max_poor_category}' имеют максимальную долю с Credit_Score = Poor ({max_poor_value:.2%}).\")\n"
   ]
  },
  {
   "cell_type": "code",
   "execution_count": null,
   "id": "ae364593-646c-4aef-ac5e-04fd2c50416b",
   "metadata": {},
   "outputs": [],
   "source": []
  },
  {
   "cell_type": "markdown",
   "id": "dede01cd-3e2e-4f7e-9f23-a2d7c02538dc",
   "metadata": {},
   "source": [
    "# Task 2"
   ]
  },
  {
   "cell_type": "code",
   "execution_count": null,
   "id": "cf8014cf-3779-437a-b535-374c9cf688fb",
   "metadata": {},
   "outputs": [],
   "source": [
    "ID Customer_ID Name SSN"
   ]
  },
  {
   "cell_type": "code",
   "execution_count": null,
   "id": "1806b7bd-a7e5-4d4a-b358-bc746db0ba3a",
   "metadata": {},
   "outputs": [],
   "source": []
  },
  {
   "cell_type": "code",
   "execution_count": null,
   "id": "3e274dcc-75f5-4f42-9fc4-99a50cacf03e",
   "metadata": {},
   "outputs": [],
   "source": []
  },
  {
   "cell_type": "markdown",
   "id": "cfbc99c1-1bb0-4ec9-a77c-ec9e0534cec9",
   "metadata": {},
   "source": [
    "# Task 3"
   ]
  },
  {
   "cell_type": "code",
   "execution_count": 179,
   "id": "03c496b3-1536-44f3-bed7-9716ba6e4730",
   "metadata": {},
   "outputs": [],
   "source": [
    "import pandas as pd\n",
    "import numpy as np\n",
    "\n",
    "pd.set_option('display.max_columns', None)\n",
    "pd.set_option('display.max_rows', None)\n",
    "\n"
   ]
  },
  {
   "cell_type": "code",
   "execution_count": 180,
   "id": "21f69bc2-32b6-4c0f-90c1-881aee8403af",
   "metadata": {
    "tags": []
   },
   "outputs": [
    {
     "name": "stderr",
     "output_type": "stream",
     "text": [
      "/tmp/ipykernel_204294/2296642763.py:4: DtypeWarning: Columns (26) have mixed types. Specify dtype option on import or set low_memory=False.\n",
      "  df = pd.read_csv('./train.csv')\n"
     ]
    },
    {
     "name": "stdout",
     "output_type": "stream",
     "text": [
      "Осталось 44568 объектов в выборке.\n"
     ]
    }
   ],
   "source": [
    "from sklearn.preprocessing import LabelEncoder\n",
    "\n",
    "# Загрузка данных\n",
    "df = pd.read_csv('./train.csv')\n",
    "\n",
    "df = df.drop(columns=['ID', 'Customer_ID', 'Name', 'SSN'])\n",
    "df = df.dropna()\n",
    "\n",
    "numeric_columns = ['Age', 'Annual_Income', 'Monthly_Inhand_Salary', 'Num_Bank_Accounts', 'Num_Credit_Card',\n",
    "                   'Interest_Rate', 'Num_of_Loan', 'Delay_from_due_date', 'Num_of_Delayed_Payment', \n",
    "                   'Changed_Credit_Limit', 'Num_Credit_Inquiries', 'Credit_Utilization_Ratio', \n",
    "                   'Outstanding_Debt', 'Total_EMI_per_month', 'Amount_invested_monthly', 'Monthly_Balance']\n",
    "\n",
    "for col in numeric_columns:\n",
    "    df[col] = pd.to_numeric(df[col], errors='coerce')\n",
    "\n",
    "le = LabelEncoder()\n",
    "\n",
    "df['Credit_Score'] = le.fit_transform(df['Credit_Score'])\n",
    "df = df.select_dtypes(include=[np.number])\n",
    "df = df.dropna()\n",
    "\n",
    "print(f\"Осталось {len(df)} объектов в выборке.\")"
   ]
  },
  {
   "cell_type": "code",
   "execution_count": 163,
   "id": "f88faea5-9c2c-4b7f-9ebb-eef85dfbc101",
   "metadata": {
    "tags": []
   },
   "outputs": [
    {
     "data": {
      "text/plain": [
       "(100000, 28)"
      ]
     },
     "execution_count": 163,
     "metadata": {},
     "output_type": "execute_result"
    }
   ],
   "source": [
    "df.shape"
   ]
  },
  {
   "cell_type": "code",
   "execution_count": 164,
   "id": "c17cf80e-f184-43e0-8878-2aa74fd7ab48",
   "metadata": {
    "tags": []
   },
   "outputs": [],
   "source": [
    "df = df.dropna()"
   ]
  },
  {
   "cell_type": "code",
   "execution_count": 165,
   "id": "69f62a00-be25-43b7-8df4-c9cef1b50ab0",
   "metadata": {
    "tags": []
   },
   "outputs": [
    {
     "data": {
      "text/plain": [
       "(53049, 28)"
      ]
     },
     "execution_count": 165,
     "metadata": {},
     "output_type": "execute_result"
    }
   ],
   "source": [
    "df.shape"
   ]
  },
  {
   "cell_type": "code",
   "execution_count": 166,
   "id": "f1eccf5a-f159-4f5d-aa0f-6653cd4a3820",
   "metadata": {
    "tags": []
   },
   "outputs": [],
   "source": [
    "# df = df.applymap(lambda x: np.nan if isinstance(x, str) and \"_\" in x else x)"
   ]
  },
  {
   "cell_type": "code",
   "execution_count": 167,
   "id": "229d19fb-93b2-453b-bc15-c0ec4d29e4bd",
   "metadata": {
    "tags": []
   },
   "outputs": [],
   "source": [
    "df[\"Age\"] = pd.to_numeric(df[\"Age\"], errors='coerce')\n",
    "df[\"Annual_Income\"] = pd.to_numeric(df[\"Annual_Income\"], errors='coerce')\n",
    "df[\"Amount_invested_monthly\"] = pd.to_numeric(df[\"Amount_invested_monthly\"], errors='coerce')\n",
    "df[\"Monthly_Balance\"] = pd.to_numeric(df[\"Monthly_Balance\"], errors='coerce')\n",
    "df[\"Total_EMI_per_month\"] = pd.to_numeric(df[\"Total_EMI_per_month\"], errors='coerce')\n",
    "df[\"Credit_Utilization_Ratio\"] = pd.to_numeric(df[\"Credit_Utilization_Ratio\"], errors='coerce')\n",
    "# df[\"Num_of_Delayed_Payment\"] = pd.to_numeric(df[\"Num_of_Delayed_Payment\"], errors='coerce')\n",
    "# df[\"Outstanding_Debt\"] = pd.to_numeric(df[\"Outstanding_Debt\"], errors='coerce')\n",
    "# df[\"Num_of_Loan\"] = pd.to_numeric(df[\"Num_of_Loan\"], errors='coerce')\n",
    "# df[\"SSN\"] = df[\"SSN\"].apply(lambda x: np.nan if x==\"#F%$D@*&8\" else x)\n",
    "# df[\"Credit_Mix\"] = df[\"Credit_Mix\"].apply(lambda x: np.nan if isinstance(x, str) and \"_\" in x else x)"
   ]
  },
  {
   "cell_type": "code",
   "execution_count": 168,
   "id": "47d57523-0091-4ac6-be9c-ead287a79f54",
   "metadata": {
    "tags": []
   },
   "outputs": [],
   "source": [
    "df = df.dropna()"
   ]
  },
  {
   "cell_type": "code",
   "execution_count": 169,
   "id": "ffa71d62-966f-4f73-8f7c-242c29a3e075",
   "metadata": {
    "tags": []
   },
   "outputs": [
    {
     "data": {
      "text/plain": [
       "(44818, 28)"
      ]
     },
     "execution_count": 169,
     "metadata": {},
     "output_type": "execute_result"
    }
   ],
   "source": [
    "df.shape"
   ]
  },
  {
   "cell_type": "code",
   "execution_count": 161,
   "id": "f79cdb35-5624-4495-adc4-8d66b8a4abdc",
   "metadata": {
    "tags": []
   },
   "outputs": [],
   "source": [
    "# 44568"
   ]
  },
  {
   "cell_type": "code",
   "execution_count": 149,
   "id": "8ed60466-a5e0-4b80-8804-54a177867134",
   "metadata": {
    "tags": []
   },
   "outputs": [
    {
     "data": {
      "text/html": [
       "<div>\n",
       "<style scoped>\n",
       "    .dataframe tbody tr th:only-of-type {\n",
       "        vertical-align: middle;\n",
       "    }\n",
       "\n",
       "    .dataframe tbody tr th {\n",
       "        vertical-align: top;\n",
       "    }\n",
       "\n",
       "    .dataframe thead th {\n",
       "        text-align: right;\n",
       "    }\n",
       "</style>\n",
       "<table border=\"1\" class=\"dataframe\">\n",
       "  <thead>\n",
       "    <tr style=\"text-align: right;\">\n",
       "      <th></th>\n",
       "      <th>ID</th>\n",
       "      <th>Customer_ID</th>\n",
       "      <th>Month</th>\n",
       "      <th>Name</th>\n",
       "      <th>Age</th>\n",
       "      <th>SSN</th>\n",
       "      <th>Occupation</th>\n",
       "      <th>Annual_Income</th>\n",
       "      <th>Monthly_Inhand_Salary</th>\n",
       "      <th>Num_Bank_Accounts</th>\n",
       "      <th>Num_Credit_Card</th>\n",
       "      <th>Interest_Rate</th>\n",
       "      <th>Num_of_Loan</th>\n",
       "      <th>Type_of_Loan</th>\n",
       "      <th>Delay_from_due_date</th>\n",
       "      <th>Num_of_Delayed_Payment</th>\n",
       "      <th>Changed_Credit_Limit</th>\n",
       "      <th>Num_Credit_Inquiries</th>\n",
       "      <th>Credit_Mix</th>\n",
       "      <th>Outstanding_Debt</th>\n",
       "      <th>Credit_Utilization_Ratio</th>\n",
       "      <th>Credit_History_Age</th>\n",
       "      <th>Payment_of_Min_Amount</th>\n",
       "      <th>Total_EMI_per_month</th>\n",
       "      <th>Amount_invested_monthly</th>\n",
       "      <th>Payment_Behaviour</th>\n",
       "      <th>Monthly_Balance</th>\n",
       "      <th>Credit_Score</th>\n",
       "    </tr>\n",
       "  </thead>\n",
       "  <tbody>\n",
       "    <tr>\n",
       "      <th>58701</th>\n",
       "      <td>0x16df3</td>\n",
       "      <td>CUS_0x7d05</td>\n",
       "      <td>June</td>\n",
       "      <td>Orann</td>\n",
       "      <td>31.0</td>\n",
       "      <td>877-25-6063</td>\n",
       "      <td>Scientist</td>\n",
       "      <td>20986.90</td>\n",
       "      <td>1953.908333</td>\n",
       "      <td>10</td>\n",
       "      <td>7</td>\n",
       "      <td>16</td>\n",
       "      <td>7</td>\n",
       "      <td>Debt Consolidation Loan, Debt Consolidation Lo...</td>\n",
       "      <td>52</td>\n",
       "      <td>17</td>\n",
       "      <td>17.61</td>\n",
       "      <td>15.0</td>\n",
       "      <td>Standard</td>\n",
       "      <td>2523.34</td>\n",
       "      <td>32.182287</td>\n",
       "      <td>16 Years and 1 Months</td>\n",
       "      <td>Yes</td>\n",
       "      <td>109.496774</td>\n",
       "      <td>34.513649</td>\n",
       "      <td>High_spent_Large_value_payments</td>\n",
       "      <td>291.380410</td>\n",
       "      <td>Poor</td>\n",
       "    </tr>\n",
       "    <tr>\n",
       "      <th>89554</th>\n",
       "      <td>0x222bc</td>\n",
       "      <td>CUS_0xbfbf</td>\n",
       "      <td>March</td>\n",
       "      <td>Tim Hephers</td>\n",
       "      <td>42.0</td>\n",
       "      <td>167-92-5388</td>\n",
       "      <td>Mechanic</td>\n",
       "      <td>59426.92</td>\n",
       "      <td>4363.489902</td>\n",
       "      <td>6</td>\n",
       "      <td>5</td>\n",
       "      <td>24</td>\n",
       "      <td>9</td>\n",
       "      <td>Home Equity Loan, Payday Loan, Student Loan, S...</td>\n",
       "      <td>33</td>\n",
       "      <td>19</td>\n",
       "      <td>18.06</td>\n",
       "      <td>15.0</td>\n",
       "      <td>_</td>\n",
       "      <td>4489.87</td>\n",
       "      <td>30.293283</td>\n",
       "      <td>9 Years and 9 Months</td>\n",
       "      <td>Yes</td>\n",
       "      <td>643.471410</td>\n",
       "      <td>251.069776</td>\n",
       "      <td>High_spent_Small_value_payments</td>\n",
       "      <td>210.736578</td>\n",
       "      <td>Poor</td>\n",
       "    </tr>\n",
       "    <tr>\n",
       "      <th>95817</th>\n",
       "      <td>0x2476f</td>\n",
       "      <td>CUS_0x8d3d</td>\n",
       "      <td>February</td>\n",
       "      <td>Sybilleu</td>\n",
       "      <td>26.0</td>\n",
       "      <td>872-63-5957</td>\n",
       "      <td>Manager</td>\n",
       "      <td>16750.04</td>\n",
       "      <td>1435.836667</td>\n",
       "      <td>9</td>\n",
       "      <td>10</td>\n",
       "      <td>27</td>\n",
       "      <td>6</td>\n",
       "      <td>Auto Loan, Personal Loan, Credit-Builder Loan,...</td>\n",
       "      <td>41</td>\n",
       "      <td>20</td>\n",
       "      <td>29.4</td>\n",
       "      <td>12.0</td>\n",
       "      <td>Bad</td>\n",
       "      <td>4305.22</td>\n",
       "      <td>35.658913</td>\n",
       "      <td>11 Years and 6 Months</td>\n",
       "      <td>Yes</td>\n",
       "      <td>82.578857</td>\n",
       "      <td>20.783685</td>\n",
       "      <td>High_spent_Large_value_payments</td>\n",
       "      <td>280.221125</td>\n",
       "      <td>Standard</td>\n",
       "    </tr>\n",
       "    <tr>\n",
       "      <th>96355</th>\n",
       "      <td>0x24a95</td>\n",
       "      <td>CUS_0x2baf</td>\n",
       "      <td>April</td>\n",
       "      <td>Whitesidess</td>\n",
       "      <td>37.0</td>\n",
       "      <td>909-55-5064</td>\n",
       "      <td>Mechanic</td>\n",
       "      <td>61451.04</td>\n",
       "      <td>4939.920000</td>\n",
       "      <td>6</td>\n",
       "      <td>5</td>\n",
       "      <td>11</td>\n",
       "      <td>5</td>\n",
       "      <td>Home Equity Loan, Credit-Builder Loan, Not Spe...</td>\n",
       "      <td>20</td>\n",
       "      <td>23</td>\n",
       "      <td>16.05</td>\n",
       "      <td>8.0</td>\n",
       "      <td>Standard</td>\n",
       "      <td>84.55</td>\n",
       "      <td>36.190481</td>\n",
       "      <td>14 Years and 4 Months</td>\n",
       "      <td>Yes</td>\n",
       "      <td>5788.000000</td>\n",
       "      <td>116.571898</td>\n",
       "      <td>High_spent_Large_value_payments</td>\n",
       "      <td>473.802615</td>\n",
       "      <td>Standard</td>\n",
       "    </tr>\n",
       "    <tr>\n",
       "      <th>27100</th>\n",
       "      <td>0xb4ca</td>\n",
       "      <td>CUS_0x7fb0</td>\n",
       "      <td>May</td>\n",
       "      <td>Williamsc</td>\n",
       "      <td>39.0</td>\n",
       "      <td>433-96-3729</td>\n",
       "      <td>Developer</td>\n",
       "      <td>29785.28</td>\n",
       "      <td>2398.106667</td>\n",
       "      <td>8</td>\n",
       "      <td>4</td>\n",
       "      <td>7</td>\n",
       "      <td>6</td>\n",
       "      <td>Home Equity Loan, Debt Consolidation Loan, Stu...</td>\n",
       "      <td>13</td>\n",
       "      <td>10</td>\n",
       "      <td>7.94</td>\n",
       "      <td>7.0</td>\n",
       "      <td>_</td>\n",
       "      <td>66.95</td>\n",
       "      <td>34.778162</td>\n",
       "      <td>7 Years and 7 Months</td>\n",
       "      <td>Yes</td>\n",
       "      <td>116.361112</td>\n",
       "      <td>212.638864</td>\n",
       "      <td>Low_spent_Large_value_payments</td>\n",
       "      <td>180.810691</td>\n",
       "      <td>Standard</td>\n",
       "    </tr>\n",
       "    <tr>\n",
       "      <th>70387</th>\n",
       "      <td>0x1b26d</td>\n",
       "      <td>CUS_0x3fcb</td>\n",
       "      <td>April</td>\n",
       "      <td>Ro</td>\n",
       "      <td>25.0</td>\n",
       "      <td>176-28-0406</td>\n",
       "      <td>Writer</td>\n",
       "      <td>54667.10</td>\n",
       "      <td>4804.591667</td>\n",
       "      <td>6</td>\n",
       "      <td>5</td>\n",
       "      <td>13</td>\n",
       "      <td>4_</td>\n",
       "      <td>Not Specified, Mortgage Loan, Payday Loan, and...</td>\n",
       "      <td>10</td>\n",
       "      <td>3972</td>\n",
       "      <td>17.01</td>\n",
       "      <td>3.0</td>\n",
       "      <td>Standard</td>\n",
       "      <td>401.07</td>\n",
       "      <td>35.842546</td>\n",
       "      <td>23 Years and 1 Months</td>\n",
       "      <td>Yes</td>\n",
       "      <td>129.177121</td>\n",
       "      <td>339.199055</td>\n",
       "      <td>Low_spent_Small_value_payments</td>\n",
       "      <td>302.082990</td>\n",
       "      <td>Standard</td>\n",
       "    </tr>\n",
       "    <tr>\n",
       "      <th>74928</th>\n",
       "      <td>0x1cd0a</td>\n",
       "      <td>CUS_0xbc49</td>\n",
       "      <td>January</td>\n",
       "      <td>Jessica Wohlj</td>\n",
       "      <td>25.0</td>\n",
       "      <td>100-44-7800</td>\n",
       "      <td>Developer</td>\n",
       "      <td>72674.76</td>\n",
       "      <td>6099.230000</td>\n",
       "      <td>6</td>\n",
       "      <td>10</td>\n",
       "      <td>31</td>\n",
       "      <td>7</td>\n",
       "      <td>Debt Consolidation Loan, Payday Loan, Not Spec...</td>\n",
       "      <td>45</td>\n",
       "      <td>18</td>\n",
       "      <td>4.7</td>\n",
       "      <td>9.0</td>\n",
       "      <td>_</td>\n",
       "      <td>2404.39</td>\n",
       "      <td>36.829858</td>\n",
       "      <td>13 Years and 4 Months</td>\n",
       "      <td>Yes</td>\n",
       "      <td>416.798051</td>\n",
       "      <td>268.495695</td>\n",
       "      <td>Low_spent_Large_value_payments</td>\n",
       "      <td>194.629254</td>\n",
       "      <td>Poor</td>\n",
       "    </tr>\n",
       "    <tr>\n",
       "      <th>84288</th>\n",
       "      <td>0x203e2</td>\n",
       "      <td>CUS_0x46d2</td>\n",
       "      <td>January</td>\n",
       "      <td>Wohle</td>\n",
       "      <td>36.0</td>\n",
       "      <td>161-34-0528</td>\n",
       "      <td>Engineer</td>\n",
       "      <td>7718.76</td>\n",
       "      <td>900.230000</td>\n",
       "      <td>8</td>\n",
       "      <td>6</td>\n",
       "      <td>25</td>\n",
       "      <td>8</td>\n",
       "      <td>Student Loan, Student Loan, Payday Loan, Stude...</td>\n",
       "      <td>30</td>\n",
       "      <td>24</td>\n",
       "      <td>29.53</td>\n",
       "      <td>11.0</td>\n",
       "      <td>Bad</td>\n",
       "      <td>4831.44</td>\n",
       "      <td>28.253482</td>\n",
       "      <td>6 Years and 2 Months</td>\n",
       "      <td>Yes</td>\n",
       "      <td>36.764162</td>\n",
       "      <td>42.812298</td>\n",
       "      <td>Low_spent_Large_value_payments</td>\n",
       "      <td>280.446540</td>\n",
       "      <td>Poor</td>\n",
       "    </tr>\n",
       "    <tr>\n",
       "      <th>15529</th>\n",
       "      <td>0x70ff</td>\n",
       "      <td>CUS_0x45db</td>\n",
       "      <td>February</td>\n",
       "      <td>Swaha Pattanaikj</td>\n",
       "      <td>50.0</td>\n",
       "      <td>824-30-1475</td>\n",
       "      <td>Mechanic</td>\n",
       "      <td>86742.32</td>\n",
       "      <td>7030.526667</td>\n",
       "      <td>8</td>\n",
       "      <td>4</td>\n",
       "      <td>19</td>\n",
       "      <td>2</td>\n",
       "      <td>Mortgage Loan, and Payday Loan</td>\n",
       "      <td>8</td>\n",
       "      <td>12</td>\n",
       "      <td>14.12</td>\n",
       "      <td>2.0</td>\n",
       "      <td>Standard</td>\n",
       "      <td>19.11</td>\n",
       "      <td>36.259830</td>\n",
       "      <td>25 Years and 11 Months</td>\n",
       "      <td>Yes</td>\n",
       "      <td>136.342311</td>\n",
       "      <td>385.525096</td>\n",
       "      <td>Low_spent_Medium_value_payments</td>\n",
       "      <td>461.185259</td>\n",
       "      <td>Standard</td>\n",
       "    </tr>\n",
       "    <tr>\n",
       "      <th>55441</th>\n",
       "      <td>0x15adb</td>\n",
       "      <td>CUS_0x35f4</td>\n",
       "      <td>February</td>\n",
       "      <td>enr</td>\n",
       "      <td>30.0</td>\n",
       "      <td>790-29-8933</td>\n",
       "      <td>_______</td>\n",
       "      <td>21131.71</td>\n",
       "      <td>1882.975833</td>\n",
       "      <td>8</td>\n",
       "      <td>5</td>\n",
       "      <td>17</td>\n",
       "      <td>1</td>\n",
       "      <td>Payday Loan</td>\n",
       "      <td>9</td>\n",
       "      <td>12</td>\n",
       "      <td>11.55</td>\n",
       "      <td>4.0</td>\n",
       "      <td>_</td>\n",
       "      <td>34.15</td>\n",
       "      <td>31.818708</td>\n",
       "      <td>12 Years and 11 Months</td>\n",
       "      <td>Yes</td>\n",
       "      <td>10.587151</td>\n",
       "      <td>64.336122</td>\n",
       "      <td>High_spent_Medium_value_payments</td>\n",
       "      <td>363.374310</td>\n",
       "      <td>Standard</td>\n",
       "    </tr>\n",
       "  </tbody>\n",
       "</table>\n",
       "</div>"
      ],
      "text/plain": [
       "            ID Customer_ID     Month              Name   Age          SSN  \\\n",
       "58701  0x16df3  CUS_0x7d05      June             Orann  31.0  877-25-6063   \n",
       "89554  0x222bc  CUS_0xbfbf     March       Tim Hephers  42.0  167-92-5388   \n",
       "95817  0x2476f  CUS_0x8d3d  February          Sybilleu  26.0  872-63-5957   \n",
       "96355  0x24a95  CUS_0x2baf     April       Whitesidess  37.0  909-55-5064   \n",
       "27100   0xb4ca  CUS_0x7fb0       May         Williamsc  39.0  433-96-3729   \n",
       "70387  0x1b26d  CUS_0x3fcb     April                Ro  25.0  176-28-0406   \n",
       "74928  0x1cd0a  CUS_0xbc49   January     Jessica Wohlj  25.0  100-44-7800   \n",
       "84288  0x203e2  CUS_0x46d2   January             Wohle  36.0  161-34-0528   \n",
       "15529   0x70ff  CUS_0x45db  February  Swaha Pattanaikj  50.0  824-30-1475   \n",
       "55441  0x15adb  CUS_0x35f4  February               enr  30.0  790-29-8933   \n",
       "\n",
       "      Occupation  Annual_Income  Monthly_Inhand_Salary  Num_Bank_Accounts  \\\n",
       "58701  Scientist       20986.90            1953.908333                 10   \n",
       "89554   Mechanic       59426.92            4363.489902                  6   \n",
       "95817    Manager       16750.04            1435.836667                  9   \n",
       "96355   Mechanic       61451.04            4939.920000                  6   \n",
       "27100  Developer       29785.28            2398.106667                  8   \n",
       "70387     Writer       54667.10            4804.591667                  6   \n",
       "74928  Developer       72674.76            6099.230000                  6   \n",
       "84288   Engineer        7718.76             900.230000                  8   \n",
       "15529   Mechanic       86742.32            7030.526667                  8   \n",
       "55441    _______       21131.71            1882.975833                  8   \n",
       "\n",
       "       Num_Credit_Card  Interest_Rate Num_of_Loan  \\\n",
       "58701                7             16           7   \n",
       "89554                5             24           9   \n",
       "95817               10             27           6   \n",
       "96355                5             11           5   \n",
       "27100                4              7           6   \n",
       "70387                5             13          4_   \n",
       "74928               10             31           7   \n",
       "84288                6             25           8   \n",
       "15529                4             19           2   \n",
       "55441                5             17           1   \n",
       "\n",
       "                                            Type_of_Loan  Delay_from_due_date  \\\n",
       "58701  Debt Consolidation Loan, Debt Consolidation Lo...                   52   \n",
       "89554  Home Equity Loan, Payday Loan, Student Loan, S...                   33   \n",
       "95817  Auto Loan, Personal Loan, Credit-Builder Loan,...                   41   \n",
       "96355  Home Equity Loan, Credit-Builder Loan, Not Spe...                   20   \n",
       "27100  Home Equity Loan, Debt Consolidation Loan, Stu...                   13   \n",
       "70387  Not Specified, Mortgage Loan, Payday Loan, and...                   10   \n",
       "74928  Debt Consolidation Loan, Payday Loan, Not Spec...                   45   \n",
       "84288  Student Loan, Student Loan, Payday Loan, Stude...                   30   \n",
       "15529                     Mortgage Loan, and Payday Loan                    8   \n",
       "55441                                        Payday Loan                    9   \n",
       "\n",
       "      Num_of_Delayed_Payment Changed_Credit_Limit  Num_Credit_Inquiries  \\\n",
       "58701                     17                17.61                  15.0   \n",
       "89554                     19                18.06                  15.0   \n",
       "95817                     20                 29.4                  12.0   \n",
       "96355                     23                16.05                   8.0   \n",
       "27100                     10                 7.94                   7.0   \n",
       "70387                   3972                17.01                   3.0   \n",
       "74928                     18                  4.7                   9.0   \n",
       "84288                     24                29.53                  11.0   \n",
       "15529                     12                14.12                   2.0   \n",
       "55441                     12                11.55                   4.0   \n",
       "\n",
       "      Credit_Mix  Outstanding_Debt  Credit_Utilization_Ratio  \\\n",
       "58701   Standard           2523.34                 32.182287   \n",
       "89554          _           4489.87                 30.293283   \n",
       "95817        Bad           4305.22                 35.658913   \n",
       "96355   Standard             84.55                 36.190481   \n",
       "27100          _             66.95                 34.778162   \n",
       "70387   Standard            401.07                 35.842546   \n",
       "74928          _           2404.39                 36.829858   \n",
       "84288        Bad           4831.44                 28.253482   \n",
       "15529   Standard             19.11                 36.259830   \n",
       "55441          _             34.15                 31.818708   \n",
       "\n",
       "           Credit_History_Age Payment_of_Min_Amount  Total_EMI_per_month  \\\n",
       "58701   16 Years and 1 Months                   Yes           109.496774   \n",
       "89554    9 Years and 9 Months                   Yes           643.471410   \n",
       "95817   11 Years and 6 Months                   Yes            82.578857   \n",
       "96355   14 Years and 4 Months                   Yes          5788.000000   \n",
       "27100    7 Years and 7 Months                   Yes           116.361112   \n",
       "70387   23 Years and 1 Months                   Yes           129.177121   \n",
       "74928   13 Years and 4 Months                   Yes           416.798051   \n",
       "84288    6 Years and 2 Months                   Yes            36.764162   \n",
       "15529  25 Years and 11 Months                   Yes           136.342311   \n",
       "55441  12 Years and 11 Months                   Yes            10.587151   \n",
       "\n",
       "       Amount_invested_monthly                 Payment_Behaviour  \\\n",
       "58701                34.513649   High_spent_Large_value_payments   \n",
       "89554               251.069776   High_spent_Small_value_payments   \n",
       "95817                20.783685   High_spent_Large_value_payments   \n",
       "96355               116.571898   High_spent_Large_value_payments   \n",
       "27100               212.638864    Low_spent_Large_value_payments   \n",
       "70387               339.199055    Low_spent_Small_value_payments   \n",
       "74928               268.495695    Low_spent_Large_value_payments   \n",
       "84288                42.812298    Low_spent_Large_value_payments   \n",
       "15529               385.525096   Low_spent_Medium_value_payments   \n",
       "55441                64.336122  High_spent_Medium_value_payments   \n",
       "\n",
       "       Monthly_Balance Credit_Score  \n",
       "58701       291.380410         Poor  \n",
       "89554       210.736578         Poor  \n",
       "95817       280.221125     Standard  \n",
       "96355       473.802615     Standard  \n",
       "27100       180.810691     Standard  \n",
       "70387       302.082990     Standard  \n",
       "74928       194.629254         Poor  \n",
       "84288       280.446540         Poor  \n",
       "15529       461.185259     Standard  \n",
       "55441       363.374310     Standard  "
      ]
     },
     "execution_count": 149,
     "metadata": {},
     "output_type": "execute_result"
    }
   ],
   "source": [
    "df.sample(10)"
   ]
  },
  {
   "cell_type": "code",
   "execution_count": null,
   "id": "1a761382-4d9c-4e69-9b3a-4211ff6190b0",
   "metadata": {},
   "outputs": [],
   "source": []
  },
  {
   "cell_type": "code",
   "execution_count": null,
   "id": "ee2f2ee3-2e2b-4f0d-ad72-1d34069dbf05",
   "metadata": {},
   "outputs": [],
   "source": []
  },
  {
   "cell_type": "code",
   "execution_count": null,
   "id": "f6de8d09-ae2c-4ff0-b99f-3d2abbac9f38",
   "metadata": {},
   "outputs": [],
   "source": []
  },
  {
   "cell_type": "code",
   "execution_count": 22,
   "id": "52a4b4d0-da3d-4ad1-8ec0-5aee512eb6d0",
   "metadata": {
    "tags": []
   },
   "outputs": [
    {
     "name": "stdout",
     "output_type": "stream",
     "text": [
      "Осталось объектов в выборке: 100000\n"
     ]
    }
   ],
   "source": [
    "df_numeric = df.copy()\n",
    "for col in df_numeric.columns:\n",
    "    df_numeric[col] = pd.to_numeric(df_numeric[col], errors='coerce')\n",
    "\n",
    "# Теперь, чтобы оставить только корректно числовые признаки,\n",
    "# удалим те столбцы, в которых присутствуют NaN.\n",
    "df_numeric = df_numeric.dropna(axis=1)\n",
    "\n",
    "# Если после этого остаются NaN в строках (маловероятно, поскольку все столбцы с NaN были удалены),\n",
    "# то удалим такие строки:\n",
    "df_clean = df_numeric.dropna()\n",
    "\n",
    "print(\"Осталось объектов в выборке:\", df_clean.shape[0])"
   ]
  },
  {
   "cell_type": "code",
   "execution_count": 17,
   "id": "8345d90e-6872-4b63-b4c7-26812312b6c2",
   "metadata": {
    "tags": []
   },
   "outputs": [],
   "source": [
    "for col in df.columns:\n",
    "    df[col] = pd.to_numeric(df[col], errors='coerce')\n",
    "\n",
    "# Удаляем все строки, где хотя бы одно значение NaN.\n",
    "df_clean = df.dropna()\n",
    "\n",
    "# Оставляем только числовые признаки.\n",
    "df_clean = df_clean.select_dtypes(include=[np.number])\n",
    "\n",
    "# Выводим количество оставшихся объектов\n",
    "remaining_objects = df_clean.shape[0]"
   ]
  },
  {
   "cell_type": "code",
   "execution_count": 18,
   "id": "0a8b0404-2b11-455e-ae63-47ae2f0b3c0e",
   "metadata": {
    "tags": []
   },
   "outputs": [
    {
     "data": {
      "text/plain": [
       "(0, 28)"
      ]
     },
     "execution_count": 18,
     "metadata": {},
     "output_type": "execute_result"
    }
   ],
   "source": [
    "df_clean.shape"
   ]
  },
  {
   "cell_type": "code",
   "execution_count": 7,
   "id": "13cf1969-9629-4751-8761-a68d787ef8fc",
   "metadata": {
    "tags": []
   },
   "outputs": [
    {
     "name": "stdout",
     "output_type": "stream",
     "text": [
      "Осталось объектов в выборке: 0\n"
     ]
    }
   ],
   "source": [
    "\n",
    "\n",
    "# Оставляем только числовые признаки (если вдруг в данных есть нечисловые столбцы)\n",
    "df_clean = df_clean.select_dtypes(include=[np.number])\n",
    "\n",
    "# Выводим количество оставшихся объектов (строк)\n",
    "remaining_objects = df_clean.shape[0]\n",
    "print(\"Осталось объектов в выборке:\", remaining_objects)"
   ]
  },
  {
   "cell_type": "code",
   "execution_count": 32,
   "id": "0cac1ab8-ac1b-4f02-9858-c436abbc266a",
   "metadata": {
    "tags": []
   },
   "outputs": [],
   "source": [
    "df.sample(10000).to_csv(\"sample.csv\", index=False)"
   ]
  },
  {
   "cell_type": "code",
   "execution_count": 11,
   "id": "e807f976-4ce5-4522-be2a-e2483f4c5478",
   "metadata": {
    "tags": []
   },
   "outputs": [
    {
     "data": {
      "text/html": [
       "<div>\n",
       "<style scoped>\n",
       "    .dataframe tbody tr th:only-of-type {\n",
       "        vertical-align: middle;\n",
       "    }\n",
       "\n",
       "    .dataframe tbody tr th {\n",
       "        vertical-align: top;\n",
       "    }\n",
       "\n",
       "    .dataframe thead th {\n",
       "        text-align: right;\n",
       "    }\n",
       "</style>\n",
       "<table border=\"1\" class=\"dataframe\">\n",
       "  <thead>\n",
       "    <tr style=\"text-align: right;\">\n",
       "      <th></th>\n",
       "      <th>ID</th>\n",
       "      <th>Customer_ID</th>\n",
       "      <th>Month</th>\n",
       "      <th>Name</th>\n",
       "      <th>Age</th>\n",
       "      <th>SSN</th>\n",
       "      <th>Occupation</th>\n",
       "      <th>Annual_Income</th>\n",
       "      <th>Monthly_Inhand_Salary</th>\n",
       "      <th>Num_Bank_Accounts</th>\n",
       "      <th>...</th>\n",
       "      <th>Credit_Mix</th>\n",
       "      <th>Outstanding_Debt</th>\n",
       "      <th>Credit_Utilization_Ratio</th>\n",
       "      <th>Credit_History_Age</th>\n",
       "      <th>Payment_of_Min_Amount</th>\n",
       "      <th>Total_EMI_per_month</th>\n",
       "      <th>Amount_invested_monthly</th>\n",
       "      <th>Payment_Behaviour</th>\n",
       "      <th>Monthly_Balance</th>\n",
       "      <th>Credit_Score</th>\n",
       "    </tr>\n",
       "  </thead>\n",
       "  <tbody>\n",
       "    <tr>\n",
       "      <th>0</th>\n",
       "      <td>0x1602</td>\n",
       "      <td>CUS_0xd40</td>\n",
       "      <td>January</td>\n",
       "      <td>Aaron Maashoh</td>\n",
       "      <td>23</td>\n",
       "      <td>821-00-0265</td>\n",
       "      <td>Scientist</td>\n",
       "      <td>19114.12</td>\n",
       "      <td>1824.843333</td>\n",
       "      <td>3</td>\n",
       "      <td>...</td>\n",
       "      <td>_</td>\n",
       "      <td>809.98</td>\n",
       "      <td>26.822620</td>\n",
       "      <td>22 Years and 1 Months</td>\n",
       "      <td>No</td>\n",
       "      <td>49.574949</td>\n",
       "      <td>80.41529543900253</td>\n",
       "      <td>High_spent_Small_value_payments</td>\n",
       "      <td>312.49408867943663</td>\n",
       "      <td>Good</td>\n",
       "    </tr>\n",
       "    <tr>\n",
       "      <th>1</th>\n",
       "      <td>0x1603</td>\n",
       "      <td>CUS_0xd40</td>\n",
       "      <td>February</td>\n",
       "      <td>Aaron Maashoh</td>\n",
       "      <td>23</td>\n",
       "      <td>821-00-0265</td>\n",
       "      <td>Scientist</td>\n",
       "      <td>19114.12</td>\n",
       "      <td>NaN</td>\n",
       "      <td>3</td>\n",
       "      <td>...</td>\n",
       "      <td>Good</td>\n",
       "      <td>809.98</td>\n",
       "      <td>31.944960</td>\n",
       "      <td>NaN</td>\n",
       "      <td>No</td>\n",
       "      <td>49.574949</td>\n",
       "      <td>118.28022162236736</td>\n",
       "      <td>Low_spent_Large_value_payments</td>\n",
       "      <td>284.62916249607184</td>\n",
       "      <td>Good</td>\n",
       "    </tr>\n",
       "    <tr>\n",
       "      <th>2</th>\n",
       "      <td>0x1604</td>\n",
       "      <td>CUS_0xd40</td>\n",
       "      <td>March</td>\n",
       "      <td>Aaron Maashoh</td>\n",
       "      <td>-500</td>\n",
       "      <td>821-00-0265</td>\n",
       "      <td>Scientist</td>\n",
       "      <td>19114.12</td>\n",
       "      <td>NaN</td>\n",
       "      <td>3</td>\n",
       "      <td>...</td>\n",
       "      <td>Good</td>\n",
       "      <td>809.98</td>\n",
       "      <td>28.609352</td>\n",
       "      <td>22 Years and 3 Months</td>\n",
       "      <td>No</td>\n",
       "      <td>49.574949</td>\n",
       "      <td>81.699521264648</td>\n",
       "      <td>Low_spent_Medium_value_payments</td>\n",
       "      <td>331.2098628537912</td>\n",
       "      <td>Good</td>\n",
       "    </tr>\n",
       "    <tr>\n",
       "      <th>3</th>\n",
       "      <td>0x1605</td>\n",
       "      <td>CUS_0xd40</td>\n",
       "      <td>April</td>\n",
       "      <td>Aaron Maashoh</td>\n",
       "      <td>23</td>\n",
       "      <td>821-00-0265</td>\n",
       "      <td>Scientist</td>\n",
       "      <td>19114.12</td>\n",
       "      <td>NaN</td>\n",
       "      <td>3</td>\n",
       "      <td>...</td>\n",
       "      <td>Good</td>\n",
       "      <td>809.98</td>\n",
       "      <td>31.377862</td>\n",
       "      <td>22 Years and 4 Months</td>\n",
       "      <td>No</td>\n",
       "      <td>49.574949</td>\n",
       "      <td>199.4580743910713</td>\n",
       "      <td>Low_spent_Small_value_payments</td>\n",
       "      <td>223.45130972736786</td>\n",
       "      <td>Good</td>\n",
       "    </tr>\n",
       "    <tr>\n",
       "      <th>4</th>\n",
       "      <td>0x1606</td>\n",
       "      <td>CUS_0xd40</td>\n",
       "      <td>May</td>\n",
       "      <td>Aaron Maashoh</td>\n",
       "      <td>23</td>\n",
       "      <td>821-00-0265</td>\n",
       "      <td>Scientist</td>\n",
       "      <td>19114.12</td>\n",
       "      <td>1824.843333</td>\n",
       "      <td>3</td>\n",
       "      <td>...</td>\n",
       "      <td>Good</td>\n",
       "      <td>809.98</td>\n",
       "      <td>24.797347</td>\n",
       "      <td>22 Years and 5 Months</td>\n",
       "      <td>No</td>\n",
       "      <td>49.574949</td>\n",
       "      <td>41.420153086217326</td>\n",
       "      <td>High_spent_Medium_value_payments</td>\n",
       "      <td>341.48923103222177</td>\n",
       "      <td>Good</td>\n",
       "    </tr>\n",
       "  </tbody>\n",
       "</table>\n",
       "<p>5 rows × 28 columns</p>\n",
       "</div>"
      ],
      "text/plain": [
       "       ID Customer_ID     Month           Name   Age          SSN Occupation  \\\n",
       "0  0x1602   CUS_0xd40   January  Aaron Maashoh    23  821-00-0265  Scientist   \n",
       "1  0x1603   CUS_0xd40  February  Aaron Maashoh    23  821-00-0265  Scientist   \n",
       "2  0x1604   CUS_0xd40     March  Aaron Maashoh  -500  821-00-0265  Scientist   \n",
       "3  0x1605   CUS_0xd40     April  Aaron Maashoh    23  821-00-0265  Scientist   \n",
       "4  0x1606   CUS_0xd40       May  Aaron Maashoh    23  821-00-0265  Scientist   \n",
       "\n",
       "  Annual_Income  Monthly_Inhand_Salary  Num_Bank_Accounts  ...  Credit_Mix  \\\n",
       "0      19114.12            1824.843333                  3  ...           _   \n",
       "1      19114.12                    NaN                  3  ...        Good   \n",
       "2      19114.12                    NaN                  3  ...        Good   \n",
       "3      19114.12                    NaN                  3  ...        Good   \n",
       "4      19114.12            1824.843333                  3  ...        Good   \n",
       "\n",
       "   Outstanding_Debt Credit_Utilization_Ratio     Credit_History_Age  \\\n",
       "0            809.98                26.822620  22 Years and 1 Months   \n",
       "1            809.98                31.944960                    NaN   \n",
       "2            809.98                28.609352  22 Years and 3 Months   \n",
       "3            809.98                31.377862  22 Years and 4 Months   \n",
       "4            809.98                24.797347  22 Years and 5 Months   \n",
       "\n",
       "   Payment_of_Min_Amount Total_EMI_per_month Amount_invested_monthly  \\\n",
       "0                     No           49.574949       80.41529543900253   \n",
       "1                     No           49.574949      118.28022162236736   \n",
       "2                     No           49.574949         81.699521264648   \n",
       "3                     No           49.574949       199.4580743910713   \n",
       "4                     No           49.574949      41.420153086217326   \n",
       "\n",
       "                  Payment_Behaviour     Monthly_Balance Credit_Score  \n",
       "0   High_spent_Small_value_payments  312.49408867943663         Good  \n",
       "1    Low_spent_Large_value_payments  284.62916249607184         Good  \n",
       "2   Low_spent_Medium_value_payments   331.2098628537912         Good  \n",
       "3    Low_spent_Small_value_payments  223.45130972736786         Good  \n",
       "4  High_spent_Medium_value_payments  341.48923103222177         Good  \n",
       "\n",
       "[5 rows x 28 columns]"
      ]
     },
     "execution_count": 11,
     "metadata": {},
     "output_type": "execute_result"
    }
   ],
   "source": [
    "df.head()"
   ]
  },
  {
   "cell_type": "code",
   "execution_count": 12,
   "id": "d33977cf-076a-4177-8c72-f5d4a6c242ca",
   "metadata": {
    "tags": []
   },
   "outputs": [
    {
     "name": "stdout",
     "output_type": "stream",
     "text": [
      "<class 'pandas.core.frame.DataFrame'>\n",
      "RangeIndex: 100000 entries, 0 to 99999\n",
      "Data columns (total 28 columns):\n",
      " #   Column                    Non-Null Count   Dtype  \n",
      "---  ------                    --------------   -----  \n",
      " 0   ID                        100000 non-null  object \n",
      " 1   Customer_ID               100000 non-null  object \n",
      " 2   Month                     100000 non-null  object \n",
      " 3   Name                      90015 non-null   object \n",
      " 4   Age                       100000 non-null  object \n",
      " 5   SSN                       100000 non-null  object \n",
      " 6   Occupation                100000 non-null  object \n",
      " 7   Annual_Income             100000 non-null  object \n",
      " 8   Monthly_Inhand_Salary     84998 non-null   float64\n",
      " 9   Num_Bank_Accounts         100000 non-null  int64  \n",
      " 10  Num_Credit_Card           100000 non-null  int64  \n",
      " 11  Interest_Rate             100000 non-null  int64  \n",
      " 12  Num_of_Loan               100000 non-null  object \n",
      " 13  Type_of_Loan              88592 non-null   object \n",
      " 14  Delay_from_due_date       100000 non-null  int64  \n",
      " 15  Num_of_Delayed_Payment    92998 non-null   object \n",
      " 16  Changed_Credit_Limit      100000 non-null  object \n",
      " 17  Num_Credit_Inquiries      98035 non-null   float64\n",
      " 18  Credit_Mix                100000 non-null  object \n",
      " 19  Outstanding_Debt          100000 non-null  object \n",
      " 20  Credit_Utilization_Ratio  100000 non-null  float64\n",
      " 21  Credit_History_Age        90970 non-null   object \n",
      " 22  Payment_of_Min_Amount     100000 non-null  object \n",
      " 23  Total_EMI_per_month       100000 non-null  float64\n",
      " 24  Amount_invested_monthly   95521 non-null   object \n",
      " 25  Payment_Behaviour         100000 non-null  object \n",
      " 26  Monthly_Balance           98800 non-null   object \n",
      " 27  Credit_Score              100000 non-null  object \n",
      "dtypes: float64(4), int64(4), object(20)\n",
      "memory usage: 21.4+ MB\n"
     ]
    }
   ],
   "source": [
    "df.info()"
   ]
  },
  {
   "cell_type": "code",
   "execution_count": 13,
   "id": "b548e48e-414f-4fd3-8c19-dc0b51d34ef7",
   "metadata": {
    "tags": []
   },
   "outputs": [
    {
     "data": {
      "text/html": [
       "<div>\n",
       "<style scoped>\n",
       "    .dataframe tbody tr th:only-of-type {\n",
       "        vertical-align: middle;\n",
       "    }\n",
       "\n",
       "    .dataframe tbody tr th {\n",
       "        vertical-align: top;\n",
       "    }\n",
       "\n",
       "    .dataframe thead th {\n",
       "        text-align: right;\n",
       "    }\n",
       "</style>\n",
       "<table border=\"1\" class=\"dataframe\">\n",
       "  <thead>\n",
       "    <tr style=\"text-align: right;\">\n",
       "      <th></th>\n",
       "      <th>Monthly_Inhand_Salary</th>\n",
       "      <th>Num_Bank_Accounts</th>\n",
       "      <th>Num_Credit_Card</th>\n",
       "      <th>Interest_Rate</th>\n",
       "      <th>Delay_from_due_date</th>\n",
       "      <th>Num_Credit_Inquiries</th>\n",
       "      <th>Credit_Utilization_Ratio</th>\n",
       "      <th>Total_EMI_per_month</th>\n",
       "    </tr>\n",
       "  </thead>\n",
       "  <tbody>\n",
       "    <tr>\n",
       "      <th>count</th>\n",
       "      <td>84998.000000</td>\n",
       "      <td>100000.000000</td>\n",
       "      <td>100000.00000</td>\n",
       "      <td>100000.000000</td>\n",
       "      <td>100000.000000</td>\n",
       "      <td>98035.000000</td>\n",
       "      <td>100000.000000</td>\n",
       "      <td>100000.000000</td>\n",
       "    </tr>\n",
       "    <tr>\n",
       "      <th>mean</th>\n",
       "      <td>4194.170850</td>\n",
       "      <td>17.091280</td>\n",
       "      <td>22.47443</td>\n",
       "      <td>72.466040</td>\n",
       "      <td>21.068780</td>\n",
       "      <td>27.754251</td>\n",
       "      <td>32.285173</td>\n",
       "      <td>1403.118217</td>\n",
       "    </tr>\n",
       "    <tr>\n",
       "      <th>std</th>\n",
       "      <td>3183.686167</td>\n",
       "      <td>117.404834</td>\n",
       "      <td>129.05741</td>\n",
       "      <td>466.422621</td>\n",
       "      <td>14.860104</td>\n",
       "      <td>193.177339</td>\n",
       "      <td>5.116875</td>\n",
       "      <td>8306.041270</td>\n",
       "    </tr>\n",
       "    <tr>\n",
       "      <th>min</th>\n",
       "      <td>303.645417</td>\n",
       "      <td>-1.000000</td>\n",
       "      <td>0.00000</td>\n",
       "      <td>1.000000</td>\n",
       "      <td>-5.000000</td>\n",
       "      <td>0.000000</td>\n",
       "      <td>20.000000</td>\n",
       "      <td>0.000000</td>\n",
       "    </tr>\n",
       "    <tr>\n",
       "      <th>25%</th>\n",
       "      <td>1625.568229</td>\n",
       "      <td>3.000000</td>\n",
       "      <td>4.00000</td>\n",
       "      <td>8.000000</td>\n",
       "      <td>10.000000</td>\n",
       "      <td>3.000000</td>\n",
       "      <td>28.052567</td>\n",
       "      <td>30.306660</td>\n",
       "    </tr>\n",
       "    <tr>\n",
       "      <th>50%</th>\n",
       "      <td>3093.745000</td>\n",
       "      <td>6.000000</td>\n",
       "      <td>5.00000</td>\n",
       "      <td>13.000000</td>\n",
       "      <td>18.000000</td>\n",
       "      <td>6.000000</td>\n",
       "      <td>32.305784</td>\n",
       "      <td>69.249473</td>\n",
       "    </tr>\n",
       "    <tr>\n",
       "      <th>75%</th>\n",
       "      <td>5957.448333</td>\n",
       "      <td>7.000000</td>\n",
       "      <td>7.00000</td>\n",
       "      <td>20.000000</td>\n",
       "      <td>28.000000</td>\n",
       "      <td>9.000000</td>\n",
       "      <td>36.496663</td>\n",
       "      <td>161.224249</td>\n",
       "    </tr>\n",
       "    <tr>\n",
       "      <th>max</th>\n",
       "      <td>15204.633333</td>\n",
       "      <td>1798.000000</td>\n",
       "      <td>1499.00000</td>\n",
       "      <td>5797.000000</td>\n",
       "      <td>67.000000</td>\n",
       "      <td>2597.000000</td>\n",
       "      <td>50.000000</td>\n",
       "      <td>82331.000000</td>\n",
       "    </tr>\n",
       "  </tbody>\n",
       "</table>\n",
       "</div>"
      ],
      "text/plain": [
       "       Monthly_Inhand_Salary  Num_Bank_Accounts  Num_Credit_Card  \\\n",
       "count           84998.000000      100000.000000     100000.00000   \n",
       "mean             4194.170850          17.091280         22.47443   \n",
       "std              3183.686167         117.404834        129.05741   \n",
       "min               303.645417          -1.000000          0.00000   \n",
       "25%              1625.568229           3.000000          4.00000   \n",
       "50%              3093.745000           6.000000          5.00000   \n",
       "75%              5957.448333           7.000000          7.00000   \n",
       "max             15204.633333        1798.000000       1499.00000   \n",
       "\n",
       "       Interest_Rate  Delay_from_due_date  Num_Credit_Inquiries  \\\n",
       "count  100000.000000        100000.000000          98035.000000   \n",
       "mean       72.466040            21.068780             27.754251   \n",
       "std       466.422621            14.860104            193.177339   \n",
       "min         1.000000            -5.000000              0.000000   \n",
       "25%         8.000000            10.000000              3.000000   \n",
       "50%        13.000000            18.000000              6.000000   \n",
       "75%        20.000000            28.000000              9.000000   \n",
       "max      5797.000000            67.000000           2597.000000   \n",
       "\n",
       "       Credit_Utilization_Ratio  Total_EMI_per_month  \n",
       "count             100000.000000        100000.000000  \n",
       "mean                  32.285173          1403.118217  \n",
       "std                    5.116875          8306.041270  \n",
       "min                   20.000000             0.000000  \n",
       "25%                   28.052567            30.306660  \n",
       "50%                   32.305784            69.249473  \n",
       "75%                   36.496663           161.224249  \n",
       "max                   50.000000         82331.000000  "
      ]
     },
     "execution_count": 13,
     "metadata": {},
     "output_type": "execute_result"
    }
   ],
   "source": [
    "df.describe()"
   ]
  },
  {
   "cell_type": "code",
   "execution_count": 18,
   "id": "ee9bd8ce-56b9-42d9-bf3a-d16e2a053340",
   "metadata": {
    "tags": []
   },
   "outputs": [
    {
     "data": {
      "text/plain": [
       "(100000, 28)"
      ]
     },
     "execution_count": 18,
     "metadata": {},
     "output_type": "execute_result"
    }
   ],
   "source": [
    "df.shape"
   ]
  },
  {
   "cell_type": "code",
   "execution_count": 34,
   "id": "942d66ee-9e78-4c7c-b415-e2ceb36bbaaa",
   "metadata": {
    "tags": []
   },
   "outputs": [
    {
     "name": "stderr",
     "output_type": "stream",
     "text": [
      "/tmp/ipykernel_390909/1180394386.py:1: DtypeWarning: Columns (26) have mixed types. Specify dtype option on import or set low_memory=False.\n",
      "  df = pd.read_csv('./train.csv')\n",
      "/tmp/ipykernel_390909/1180394386.py:4: FutureWarning: Downcasting behavior in `replace` is deprecated and will be removed in a future version. To retain the old behavior, explicitly call `result.infer_objects(copy=False)`. To opt-in to the future behavior, set `pd.set_option('future.no_silent_downcasting', True)`\n",
      "  df.replace({\n"
     ]
    },
    {
     "name": "stdout",
     "output_type": "stream",
     "text": [
      "0\n"
     ]
    }
   ],
   "source": [
    "df = pd.read_csv('./train.csv')\n",
    "\n",
    "# Замена явных пропусков и некорректных значений на NaN\n",
    "df.replace({\n",
    "    r'^\\s*$': np.nan,       # Пустые строки\n",
    "    r'#F%$D@*&8': np.nan,\n",
    "    r'NM': np.nan,\n",
    "    r'Bad': np.nan,\n",
    "    r'Standard': np.nan,\n",
    "    r'Good': np.nan,\n",
    "    r'Low_spent\\S+': np.nan,\n",
    "    r'High_spent\\S+': np.nan,\n",
    "    r'_______': np.nan,\n",
    "    r'__10000__': np.nan,\n",
    "    r'!@9#%8': np.nan,\n",
    "    r'\\s+': np.nan,         # Символы вроде \"15_\"\n",
    "    r'[a-zA-Z]+' : np.nan   # Строковые значения в числовых колонках\n",
    "}, regex=True, inplace=True)\n",
    "\n",
    "# Удаление строк с NaN в числовых колонках\n",
    "numerical_cols = df.select_dtypes(include=[np.number]).columns\n",
    "df_cleaned = df.dropna(subset=numerical_cols)\n",
    "\n",
    "# Оставляем только численные признаки\n",
    "numerical_df = df_cleaned.select_dtypes(include=[np.number])\n",
    "\n",
    "# Количество оставшихся объектов\n",
    "print(len(numerical_df))"
   ]
  },
  {
   "cell_type": "code",
   "execution_count": 20,
   "id": "2a93585b-1d91-4cd4-bf79-51824c5233b9",
   "metadata": {
    "tags": []
   },
   "outputs": [
    {
     "name": "stdout",
     "output_type": "stream",
     "text": [
      "55298\n"
     ]
    }
   ],
   "source": [
    "# Список признаков, которые должны быть числовыми для построения модели\n",
    "numeric_columns = [\n",
    "    'Age',                    # Ожидается числовой возраст\n",
    "    'Annual_Income',          # Ожидается числовой показатель дохода\n",
    "    'Monthly_Inhand_Salary',  # Уже числовой признак (float64)\n",
    "    'Num_Bank_Accounts',      # Числовой признак (int64)\n",
    "    'Num_Credit_Card',        # Числовой признак (int64)\n",
    "    'Interest_Rate',          # Числовой признак (int64)\n",
    "    'Num_of_Loan',            # Хотя хранится как object, должен быть числовым\n",
    "    'Delay_from_due_date',    # Числовой признак (int64)\n",
    "    'Num_of_Delayed_Payment', # Хотя хранится как object, должен быть числовым\n",
    "    'Changed_Credit_Limit',   # Хотя хранится как object, должен быть числовым\n",
    "    'Num_Credit_Inquiries',   # Числовой признак (float64)\n",
    "    'Outstanding_Debt',       # Хотя хранится как object, ожидается числовое значение\n",
    "    'Credit_Utilization_Ratio',  # Числовой признак (float64)\n",
    "    'Total_EMI_per_month',       # Числовой признак (float64)\n",
    "    'Amount_invested_monthly',   # Хотя хранится как object, должен быть числовым\n",
    "    'Monthly_Balance'            # Хотя хранится как object, должен быть числовым\n",
    "]\n",
    "\n",
    "# Для каждого из выбранных признаков пробуем привести значения к числовому типу.\n",
    "# Если значение не соответствует ожидаемому типу (например, содержит текст),\n",
    "# pd.to_numeric() с errors='coerce' заменит его на NaN.\n",
    "for col in numeric_columns:\n",
    "    df[col] = pd.to_numeric(df[col], errors='coerce')\n",
    "\n",
    "# Удаляем все строки, в которых хотя бы один из выбранных числовых признаков стал NaN.\n",
    "# Это удалит строки с явными пропусками и те, где данные имеют некорректный тип.\n",
    "df_clean = df.dropna(subset=numeric_columns)\n",
    "\n",
    "# Оставляем в выборке только численные признаки (из выбранного списка)\n",
    "df_numeric = df_clean[numeric_columns]\n",
    "\n",
    "# Выводим количество оставшихся объектов\n",
    "print(len(df_numeric))"
   ]
  },
  {
   "cell_type": "code",
   "execution_count": 19,
   "id": "d59ee214-54ee-454d-acfa-4204fa77e920",
   "metadata": {},
   "outputs": [
    {
     "name": "stdout",
     "output_type": "stream",
     "text": [
      "0\n"
     ]
    }
   ],
   "source": [
    "for col in numeric_cols:\n",
    "    df[col] = pd.to_numeric(df[col], errors='coerce')\n",
    "\n",
    "# Шаг 3. Удаляем строки с явными пропусками (NaN) в числовых признаках.\n",
    "df_numeric = df[numeric_cols]\n",
    "df_numeric_clean = df_numeric.dropna()\n",
    "\n",
    "# Вывод количества оставшихся объектов (строк)\n",
    "print(len(df_numeric_clean))"
   ]
  },
  {
   "cell_type": "code",
   "execution_count": null,
   "id": "d81accab-b75c-4efc-af7a-be6066e75607",
   "metadata": {},
   "outputs": [],
   "source": []
  },
  {
   "cell_type": "code",
   "execution_count": null,
   "id": "595c51c2-69b1-4a35-b8b7-9c799e26c9c9",
   "metadata": {},
   "outputs": [],
   "source": []
  },
  {
   "cell_type": "markdown",
   "id": "54039003-aa7e-450f-aa2a-55de81e3d19a",
   "metadata": {},
   "source": [
    "# Task 4"
   ]
  },
  {
   "cell_type": "code",
   "execution_count": null,
   "id": "6e0e57c7-5c91-4b4a-b328-0d5be61b5d41",
   "metadata": {},
   "outputs": [],
   "source": []
  },
  {
   "cell_type": "code",
   "execution_count": null,
   "id": "2d7b0c88-341a-445b-9814-f059ab7971fb",
   "metadata": {},
   "outputs": [
    {
     "name": "stderr",
     "output_type": "stream",
     "text": [
      "/tmp/ipykernel_204294/2576755598.py:8: DtypeWarning: Columns (26) have mixed types. Specify dtype option on import or set low_memory=False.\n",
      "  df = pd.read_csv('./train.csv')\n"
     ]
    }
   ],
   "source": [
    "import pandas as pd\n",
    "from sklearn.model_selection import train_test_split\n",
    "from sklearn.svm import SVC\n",
    "from sklearn.preprocessing import LabelEncoder\n",
    "\n",
    "\n",
    "# Загрузка данных\n",
    "df = pd.read_csv('./train.csv')\n",
    "\n",
    "df = df.drop(columns=['ID', 'Customer_ID', 'Name', 'SSN'])\n",
    "df = df.dropna()\n",
    "\n",
    "numeric_columns = ['Age', 'Annual_Income', 'Monthly_Inhand_Salary', 'Num_Bank_Accounts', 'Num_Credit_Card',\n",
    "                   'Interest_Rate', 'Num_of_Loan', 'Delay_from_due_date', 'Num_of_Delayed_Payment', \n",
    "                   'Changed_Credit_Limit', 'Num_Credit_Inquiries', 'Credit_Utilization_Ratio', \n",
    "                   'Outstanding_Debt', 'Total_EMI_per_month', 'Amount_invested_monthly', 'Monthly_Balance']\n",
    "\n",
    "for col in numeric_columns:\n",
    "    df[col] = pd.to_numeric(df[col], errors='coerce')\n",
    "\n",
    "le = LabelEncoder()\n",
    "\n",
    "df['Credit_Score'] = le.fit_transform(df['Credit_Score'])\n",
    "df = df.select_dtypes(include=[np.number])\n",
    "df = df.dropna()\n",
    "\n",
    "# Выбираем в качестве признаков только числовые столбцы, а целевой признак оставляем без изменений.\n",
    "X = df[numeric_columns]\n",
    "y = df['Credit_Score']\n",
    "\n",
    "# Преобразуем целевой признак в бинарный формат с помощью LabelEncoder\n",
    "# Например, классы могут быть: \"Good\" -> 0, \"Poor\" -> 1.\n",
    "# Разбиение выборки на обучение и тест (80/20) со стратификацией по целевому признаку и random_state=1\n",
    "X_train, X_test, y_train, y_test = train_test_split(\n",
    "    X, y, test_size=0.2, stratify=y, random_state=1\n",
    ")\n",
    "\n",
    "# Обучение модели SVC с параметрами по умолчанию\n",
    "svc = SVC()\n",
    "svc.fit(X_train, y_train)\n",
    "\n",
    "# Вывод количества опорных векторов (атрибут .support_vectors_)\n",
    "support_vectors = svc.support_vectors_\n",
    "print(\"Количество опорных векторов:\", support_vectors.shape[0])"
   ]
  },
  {
   "cell_type": "code",
   "execution_count": null,
   "id": "6777c98d-eac1-4f54-a873-c4785e179fba",
   "metadata": {},
   "outputs": [],
   "source": []
  },
  {
   "cell_type": "code",
   "execution_count": null,
   "id": "edebb3af-7105-414d-a9d7-3db7262a1dbd",
   "metadata": {},
   "outputs": [],
   "source": []
  },
  {
   "cell_type": "markdown",
   "id": "627b0078-8f45-40e8-9f5d-cf780b904e7f",
   "metadata": {},
   "source": [
    "# Task 5"
   ]
  },
  {
   "cell_type": "code",
   "execution_count": null,
   "id": "70e59dbd-812d-4032-b7f0-69ad0ec2de66",
   "metadata": {},
   "outputs": [],
   "source": []
  },
  {
   "cell_type": "code",
   "execution_count": 24,
   "id": "0448305a-bea0-451f-95f4-8d0bcc26cbdd",
   "metadata": {
    "tags": []
   },
   "outputs": [
    {
     "name": "stderr",
     "output_type": "stream",
     "text": [
      "/tmp/ipykernel_390909/3179956622.py:10: DtypeWarning: Columns (26) have mixed types. Specify dtype option on import or set low_memory=False.\n",
      "  df = pd.read_csv('./train.csv')\n"
     ]
    },
    {
     "name": "stdout",
     "output_type": "stream",
     "text": [
      "Класс Good: 0.03\n",
      "Класс Poor: 0.43\n",
      "Класс Standard: 0.88\n"
     ]
    }
   ],
   "source": [
    "import numpy as np\n",
    "import pandas as pd\n",
    "from sklearn.model_selection import train_test_split\n",
    "from sklearn.preprocessing import StandardScaler, LabelEncoder\n",
    "from sklearn.svm import SVC\n",
    "from sklearn.pipeline import make_pipeline\n",
    "from sklearn.metrics import classification_report\n",
    "\n",
    "# Загрузка данных\n",
    "df = pd.read_csv('./train.csv')\n",
    "\n",
    "df = df.drop(columns=['ID', 'Customer_ID', 'Name', 'SSN'])\n",
    "df = df.dropna()\n",
    "\n",
    "numeric_columns = ['Age', 'Annual_Income', 'Monthly_Inhand_Salary', 'Num_Bank_Accounts', 'Num_Credit_Card',\n",
    "                   'Interest_Rate', 'Num_of_Loan', 'Delay_from_due_date', 'Num_of_Delayed_Payment', \n",
    "                   'Changed_Credit_Limit', 'Num_Credit_Inquiries', 'Credit_Utilization_Ratio', \n",
    "                   'Outstanding_Debt', 'Total_EMI_per_month', 'Amount_invested_monthly', 'Monthly_Balance']\n",
    "\n",
    "for col in numeric_columns:\n",
    "    df[col] = pd.to_numeric(df[col], errors='coerce')\n",
    "\n",
    "le = LabelEncoder()\n",
    "\n",
    "df['Credit_Score'] = le.fit_transform(df['Credit_Score'])\n",
    "df = df.select_dtypes(include=[np.number])\n",
    "df = df.dropna()\n",
    "\n",
    "# Выбираем в качестве признаков только числовые столбцы, а целевой признак оставляем без изменений.\n",
    "X = df[numeric_columns]\n",
    "y = df['Credit_Score']\n",
    "\n",
    "# Преобразуем целевой признак в бинарный формат с помощью LabelEncoder\n",
    "# Например, классы могут быть: \"Good\" -> 0, \"Poor\" -> 1.\n",
    "# Разбиение выборки на обучение и тест (80/20) со стратификацией по целевому признаку и random_state=1\n",
    "X_train, X_test, y_train, y_test = train_test_split(\n",
    "    X, y, test_size=0.2, stratify=y, random_state=1\n",
    ")\n",
    "\n",
    "\n",
    "# Преобразуем y_train и y_test в Series с индексами, совпадающими с X_train и X_test,\n",
    "# чтобы можно было индексировать их через .loc\n",
    "y_train = pd.Series(y_train, index=X_train.index)\n",
    "y_test = pd.Series(y_test, index=X_test.index)\n",
    "\n",
    "# Отбор подвыборки: для обучения 10000 случайных объектов, для теста 2000\n",
    "# Фиксируем случайность с помощью np.random.seed\n",
    "\n",
    "# Для обучающей выборки: np.random.seed(1)\n",
    "np.random.seed(1)\n",
    "if len(X_train) > 10000:\n",
    "    train_indices = np.random.choice(X_train.index, size=10000, replace=False)\n",
    "    X_train_sample = X_train.loc[train_indices]\n",
    "    y_train_sample = y_train.loc[train_indices]\n",
    "else:\n",
    "    X_train_sample = X_train.copy()\n",
    "    y_train_sample = y_train.copy()\n",
    "\n",
    "# Для тестовой выборки: np.random.seed(2)\n",
    "np.random.seed(2)\n",
    "if len(X_test) > 2000:\n",
    "    test_indices = np.random.choice(X_test.index, size=2000, replace=False)\n",
    "    X_test_sample = X_test.loc[test_indices]\n",
    "    y_test_sample = y_test.loc[test_indices]\n",
    "else:\n",
    "    X_test_sample = X_test.copy()\n",
    "    y_test_sample = y_test.copy()\n",
    "\n",
    "# Создаем пайплайн для стандартизации данных и обучения SVC с параметрами по умолчанию\n",
    "pipeline = make_pipeline(StandardScaler(), SVC())\n",
    "pipeline.fit(X_train_sample, y_train_sample)\n",
    "\n",
    "# Предсказания на тестовой выборке\n",
    "y_pred = pipeline.predict(X_test_sample)\n",
    "\n",
    "# Получаем отчет по классификации, включая метрику recall для каждого класса\n",
    "report = classification_report(y_test_sample, y_pred, target_names=le.classes_, output_dict=True)\n",
    "\n",
    "# Извлекаем значение recall для каждого класса и округляем до двух знаков\n",
    "recall_good = round(report['Good']['recall'], 2)\n",
    "recall_poor = round(report['Poor']['recall'], 2)\n",
    "recall_standard = round(report['Standard']['recall'], 2)\n",
    "\n",
    "print(f\"Класс Good: {recall_good}\")\n",
    "print(f\"Класс Poor: {recall_poor}\")\n",
    "print(f\"Класс Standard: {recall_standard}\")\n"
   ]
  },
  {
   "cell_type": "code",
   "execution_count": null,
   "id": "96116250-470b-4d43-9fdf-85196a2a2f34",
   "metadata": {},
   "outputs": [],
   "source": []
  },
  {
   "cell_type": "code",
   "execution_count": null,
   "id": "ea2156e6-4545-46b2-907f-f5b73ebb00b0",
   "metadata": {},
   "outputs": [],
   "source": []
  },
  {
   "cell_type": "markdown",
   "id": "fb28d988-a5a7-44f7-96fc-a1d788df7ec8",
   "metadata": {},
   "source": [
    "# Task 6"
   ]
  },
  {
   "cell_type": "code",
   "execution_count": 25,
   "id": "4d038539-6fc4-465d-8d01-81592e7c8862",
   "metadata": {
    "tags": []
   },
   "outputs": [
    {
     "name": "stderr",
     "output_type": "stream",
     "text": [
      "/tmp/ipykernel_390909/1341171318.py:10: DtypeWarning: Columns (26) have mixed types. Specify dtype option on import or set low_memory=False.\n",
      "  df = pd.read_csv('./train.csv')\n",
      "/home/skitarii/PycharmProjects/mipt-masters/.venv/lib/python3.12/site-packages/sklearn/metrics/_classification.py:1565: UndefinedMetricWarning: Precision is ill-defined and being set to 0.0 in labels with no predicted samples. Use `zero_division` parameter to control this behavior.\n",
      "  _warn_prf(average, modifier, f\"{metric.capitalize()} is\", len(result))\n",
      "/home/skitarii/PycharmProjects/mipt-masters/.venv/lib/python3.12/site-packages/sklearn/metrics/_classification.py:1565: UndefinedMetricWarning: Precision is ill-defined and being set to 0.0 in labels with no predicted samples. Use `zero_division` parameter to control this behavior.\n",
      "  _warn_prf(average, modifier, f\"{metric.capitalize()} is\", len(result))\n",
      "/home/skitarii/PycharmProjects/mipt-masters/.venv/lib/python3.12/site-packages/sklearn/metrics/_classification.py:1565: UndefinedMetricWarning: Precision is ill-defined and being set to 0.0 in labels with no predicted samples. Use `zero_division` parameter to control this behavior.\n",
      "  _warn_prf(average, modifier, f\"{metric.capitalize()} is\", len(result))\n"
     ]
    },
    {
     "name": "stdout",
     "output_type": "stream",
     "text": [
      "Лучшая метрика macro recall достигнута при ядре: rbf\n"
     ]
    }
   ],
   "source": [
    "import numpy as np\n",
    "import pandas as pd\n",
    "from sklearn.model_selection import train_test_split\n",
    "from sklearn.preprocessing import StandardScaler, LabelEncoder\n",
    "from sklearn.svm import SVC\n",
    "from sklearn.pipeline import make_pipeline\n",
    "from sklearn.metrics import classification_report\n",
    "\n",
    "# Загрузка данных\n",
    "df = pd.read_csv('./train.csv')\n",
    "\n",
    "# Список признаков, которые должны быть числовыми\n",
    "numeric_columns = [\n",
    "    'Age',\n",
    "    'Annual_Income',\n",
    "    'Monthly_Inhand_Salary',\n",
    "    'Num_Bank_Accounts',\n",
    "    'Num_Credit_Card',\n",
    "    'Interest_Rate',\n",
    "    'Num_of_Loan',\n",
    "    'Delay_from_due_date',\n",
    "    'Num_of_Delayed_Payment',\n",
    "    'Changed_Credit_Limit',\n",
    "    'Num_Credit_Inquiries',\n",
    "    'Outstanding_Debt',\n",
    "    'Credit_Utilization_Ratio',\n",
    "    'Total_EMI_per_month',\n",
    "    'Amount_invested_monthly',\n",
    "    'Monthly_Balance'\n",
    "]\n",
    "\n",
    "# Приводим выбранные признаки к числовому типу.\n",
    "for col in numeric_columns:\n",
    "    df[col] = pd.to_numeric(df[col], errors='coerce')\n",
    "\n",
    "# Удаляем строки с некорректными значениями в числовых признаках\n",
    "df_clean = df.dropna(subset=numeric_columns)\n",
    "\n",
    "# Определяем признаки X и целевой признак y\n",
    "X = df_clean[numeric_columns]\n",
    "y = df_clean['Credit_Score']\n",
    "\n",
    "# Кодируем целевой признак (предполагается наличие трёх классов: Good, Poor, Standard)\n",
    "le = LabelEncoder()\n",
    "y_encoded = le.fit_transform(y)\n",
    "\n",
    "# Разбиваем данные на обучение и тест (80/20) со стратификацией и random_state=1\n",
    "X_train, X_test, y_train, y_test = train_test_split(\n",
    "    X, y_encoded, test_size=0.2, stratify=y_encoded, random_state=1\n",
    ")\n",
    "\n",
    "# Преобразуем y_train и y_test в Series для удобного индексирования\n",
    "y_train = pd.Series(y_train, index=X_train.index)\n",
    "y_test = pd.Series(y_test, index=X_test.index)\n",
    "\n",
    "# Снижаем размерность выборок:\n",
    "# Для обучающей выборки оставляем 10000 случайных объектов\n",
    "np.random.seed(1)\n",
    "if len(X_train) > 10000:\n",
    "    train_indices = np.random.choice(X_train.index, size=10000, replace=False)\n",
    "    X_train_sample = X_train.loc[train_indices]\n",
    "    y_train_sample = y_train.loc[train_indices]\n",
    "else:\n",
    "    X_train_sample = X_train.copy()\n",
    "    y_train_sample = y_train.copy()\n",
    "\n",
    "# Для тестовой выборки оставляем 2000 случайных объектов\n",
    "np.random.seed(2)\n",
    "if len(X_test) > 2000:\n",
    "    test_indices = np.random.choice(X_test.index, size=2000, replace=False)\n",
    "    X_test_sample = X_test.loc[test_indices]\n",
    "    y_test_sample = y_test.loc[test_indices]\n",
    "else:\n",
    "    X_test_sample = X_test.copy()\n",
    "    y_test_sample = y_test.copy()\n",
    "\n",
    "# Список ядер для SVC\n",
    "kernels = ['linear', 'rbf', 'poly']\n",
    "\n",
    "# Словарь для хранения метрики macro recall для каждого ядра\n",
    "macro_recall_scores = {}\n",
    "\n",
    "for kernel in kernels:\n",
    "    # Создаем пайплайн для стандартизации и SVC с выбранным ядром\n",
    "    pipeline = make_pipeline(StandardScaler(), SVC(kernel=kernel))\n",
    "    \n",
    "    # Обучаем модель\n",
    "    pipeline.fit(X_train_sample, y_train_sample)\n",
    "    \n",
    "    # Предсказания на тестовой выборке\n",
    "    y_pred = pipeline.predict(X_test_sample)\n",
    "    \n",
    "    # Получаем отчет по классификации\n",
    "    report = classification_report(y_test_sample, y_pred, output_dict=True)\n",
    "    \n",
    "    # Сохраняем метрику macro recall\n",
    "    macro_recall = report['macro avg']['recall']\n",
    "    macro_recall_scores[kernel] = macro_recall\n",
    "\n",
    "# Определяем ядро с максимальным значением macro recall\n",
    "best_kernel = max(macro_recall_scores, key=macro_recall_scores.get)\n",
    "print(\"Лучшая метрика macro recall достигнута при ядре:\", best_kernel)\n"
   ]
  },
  {
   "cell_type": "code",
   "execution_count": null,
   "id": "918c626a-9a28-4cd8-93be-f051e75c7223",
   "metadata": {},
   "outputs": [],
   "source": []
  },
  {
   "cell_type": "code",
   "execution_count": null,
   "id": "dbf2b41a-4ee3-4734-b0eb-952c4612346f",
   "metadata": {},
   "outputs": [],
   "source": []
  },
  {
   "cell_type": "markdown",
   "id": "21110e1c-c408-4d52-a8e2-576d5bf14af5",
   "metadata": {},
   "source": [
    "# Task 7"
   ]
  },
  {
   "cell_type": "code",
   "execution_count": null,
   "id": "9c7a4b70-7833-4f2a-97e3-9b6625dd205f",
   "metadata": {},
   "outputs": [],
   "source": []
  },
  {
   "cell_type": "code",
   "execution_count": 26,
   "id": "963ddac8-6fc9-48ef-b9a7-3e0d881a751e",
   "metadata": {
    "tags": []
   },
   "outputs": [
    {
     "name": "stderr",
     "output_type": "stream",
     "text": [
      "/tmp/ipykernel_390909/3353514628.py:11: DtypeWarning: Columns (26) have mixed types. Specify dtype option on import or set low_memory=False.\n",
      "  df = pd.read_csv('./train.csv')\n"
     ]
    },
    {
     "name": "stdout",
     "output_type": "stream",
     "text": [
      "Лучшее ядро по recall_macro: rbf\n",
      "C = 0.001: train recall_macro = 0.33, test recall_macro = 0.33\n",
      "C = 0.01: train recall_macro = 0.40, test recall_macro = 0.38\n",
      "C = 0.1: train recall_macro = 0.43, test recall_macro = 0.42\n",
      "C = 1: train recall_macro = 0.47, test recall_macro = 0.44\n",
      "C = 10: train recall_macro = 0.54, test recall_macro = 0.48\n",
      "C = 100: train recall_macro = 0.62, test recall_macro = 0.51\n"
     ]
    },
    {
     "data": {
      "image/png": "[encoded data removed]",
      "text/plain": [
       "<Figure size 800x600 with 1 Axes>"
      ]
     },
     "metadata": {},
     "output_type": "display_data"
    },
    {
     "name": "stdout",
     "output_type": "stream",
     "text": [
      "Лучшее значение параметра C по тестовой выборке: 100\n"
     ]
    }
   ],
   "source": [
    "import numpy as np\n",
    "import pandas as pd\n",
    "import matplotlib.pyplot as plt\n",
    "from sklearn.model_selection import train_test_split\n",
    "from sklearn.preprocessing import StandardScaler, LabelEncoder\n",
    "from sklearn.svm import SVC\n",
    "from sklearn.pipeline import make_pipeline\n",
    "from sklearn.metrics import recall_score\n",
    "\n",
    "# Загрузка данных\n",
    "df = pd.read_csv('./train.csv')\n",
    "\n",
    "# Определяем числовые признаки\n",
    "numeric_columns = [\n",
    "    'Age',\n",
    "    'Annual_Income',\n",
    "    'Monthly_Inhand_Salary',\n",
    "    'Num_Bank_Accounts',\n",
    "    'Num_Credit_Card',\n",
    "    'Interest_Rate',\n",
    "    'Num_of_Loan',\n",
    "    'Delay_from_due_date',\n",
    "    'Num_of_Delayed_Payment',\n",
    "    'Changed_Credit_Limit',\n",
    "    'Num_Credit_Inquiries',\n",
    "    'Outstanding_Debt',\n",
    "    'Credit_Utilization_Ratio',\n",
    "    'Total_EMI_per_month',\n",
    "    'Amount_invested_monthly',\n",
    "    'Monthly_Balance'\n",
    "]\n",
    "\n",
    "# Приводим значения в указанных признаках к числовому типу (ошибки превращаем в NaN)\n",
    "for col in numeric_columns:\n",
    "    df[col] = pd.to_numeric(df[col], errors='coerce')\n",
    "\n",
    "# Удаляем строки, где обнаружены некорректные данные (NaN)\n",
    "df_clean = df.dropna(subset=numeric_columns)\n",
    "\n",
    "# Определяем матрицу признаков и целевой признак\n",
    "X = df_clean[numeric_columns]\n",
    "y = df_clean['Credit_Score']\n",
    "\n",
    "# Кодируем целевой признак (предполагаются классы: Good, Poor, Standard)\n",
    "le = LabelEncoder()\n",
    "y_encoded = le.fit_transform(y)\n",
    "\n",
    "# Разбиваем выборку на обучение и тест (80/20) со стратификацией и random_state=1\n",
    "X_train, X_test, y_train, y_test = train_test_split(\n",
    "    X, y_encoded, test_size=0.2, stratify=y_encoded, random_state=1\n",
    ")\n",
    "\n",
    "# Приводим y_train и y_test к формату Series для возможности индексирования через .loc\n",
    "y_train = pd.Series(y_train, index=X_train.index)\n",
    "y_test = pd.Series(y_test, index=X_test.index)\n",
    "\n",
    "# Отбор подвыборки:\n",
    "# Для тренировочной выборки оставляем 10000 случайных объектов (фиксируя случайность seed=1)\n",
    "np.random.seed(1)\n",
    "if len(X_train) > 10000:\n",
    "    train_indices = np.random.choice(X_train.index, size=10000, replace=False)\n",
    "    X_train_sample = X_train.loc[train_indices]\n",
    "    y_train_sample = y_train.loc[train_indices]\n",
    "else:\n",
    "    X_train_sample = X_train.copy()\n",
    "    y_train_sample = y_train.copy()\n",
    "\n",
    "# Для тестовой выборки оставляем 2000 случайных объектов (фиксируя случайность seed=2)\n",
    "np.random.seed(2)\n",
    "if len(X_test) > 2000:\n",
    "    test_indices = np.random.choice(X_test.index, size=2000, replace=False)\n",
    "    X_test_sample = X_test.loc[test_indices]\n",
    "    y_test_sample = y_test.loc[test_indices]\n",
    "else:\n",
    "    X_test_sample = X_test.copy()\n",
    "    y_test_sample = y_test.copy()\n",
    "\n",
    "# 1. Определяем лучшее ядро из списка ['linear', 'rbf', 'poly'] по метрике recall_macro на тестовой выборке.\n",
    "kernels = ['linear', 'rbf', 'poly']\n",
    "kernel_macro = {}\n",
    "for kernel in kernels:\n",
    "    pipe = make_pipeline(StandardScaler(), SVC(kernel=kernel))\n",
    "    pipe.fit(X_train_sample, y_train_sample)\n",
    "    y_pred_test = pipe.predict(X_test_sample)\n",
    "    macro = recall_score(y_test_sample, y_pred_test, average='macro')\n",
    "    kernel_macro[kernel] = macro\n",
    "best_kernel = max(kernel_macro, key=kernel_macro.get)\n",
    "print(\"Лучшее ядро по recall_macro:\", best_kernel)\n",
    "\n",
    "# 2. Подбираем лучшее значение параметра C из списка [0.001, 0.01, 0.1, 1, 10, 100]\n",
    "C_values = [0.001, 0.01, 0.1, 1, 10, 100]\n",
    "train_recalls = []\n",
    "test_recalls = []\n",
    "\n",
    "for C in C_values:\n",
    "    pipe = make_pipeline(StandardScaler(), SVC(kernel=best_kernel, C=C))\n",
    "    pipe.fit(X_train_sample, y_train_sample)\n",
    "    \n",
    "    # Предсказания для обучающей и тестовой выборок\n",
    "    y_pred_train = pipe.predict(X_train_sample)\n",
    "    y_pred_test = pipe.predict(X_test_sample)\n",
    "    \n",
    "    # Вычисляем macro recall для обучающей и тестовой выборок\n",
    "    train_macro = recall_score(y_train_sample, y_pred_train, average='macro')\n",
    "    test_macro = recall_score(y_test_sample, y_pred_test, average='macro')\n",
    "    \n",
    "    train_recalls.append(train_macro)\n",
    "    test_recalls.append(test_macro)\n",
    "    \n",
    "    print(f\"C = {C}: train recall_macro = {train_macro:.2f}, test recall_macro = {test_macro:.2f}\")\n",
    "\n",
    "# 3. Визуализируем изменение метрики recall_macro от параметра C\n",
    "plt.figure(figsize=(8,6))\n",
    "plt.plot(C_values, train_recalls, marker='o', label='Train Recall Macro')\n",
    "plt.plot(C_values, test_recalls, marker='o', label='Test Recall Macro')\n",
    "plt.xscale('log')\n",
    "plt.xlabel('Параметр C (логарифмическая шкала)')\n",
    "plt.ylabel('Recall Macro')\n",
    "plt.title(f'Влияние параметра C на Recall Macro (ядро: {best_kernel})')\n",
    "plt.legend()\n",
    "plt.grid(True)\n",
    "plt.show()\n",
    "\n",
    "# 4. Определяем значение C, при котором test recall_macro максимален\n",
    "best_index = np.argmax(test_recalls)\n",
    "best_C = C_values[best_index]\n",
    "print(\"Лучшее значение параметра C по тестовой выборке:\", best_C)\n"
   ]
  },
  {
   "cell_type": "code",
   "execution_count": null,
   "id": "cec4de5b-13b5-424f-b33b-7e0c42c843b0",
   "metadata": {},
   "outputs": [],
   "source": []
  },
  {
   "cell_type": "markdown",
   "id": "c723268d-723b-4c8e-8c92-009aaa943305",
   "metadata": {},
   "source": [
    "# Task 8"
   ]
  },
  {
   "cell_type": "code",
   "execution_count": 28,
   "id": "f2243969-9b2b-4912-a38c-f792cbc2aedf",
   "metadata": {
    "tags": []
   },
   "outputs": [
    {
     "name": "stderr",
     "output_type": "stream",
     "text": [
      "/tmp/ipykernel_390909/1954929622.py:10: DtypeWarning: Columns (26) have mixed types. Specify dtype option on import or set low_memory=False.\n",
      "  df = pd.read_csv('./train.csv')\n"
     ]
    },
    {
     "name": "stdout",
     "output_type": "stream",
     "text": [
      "ROC-AUC: 0.75\n"
     ]
    }
   ],
   "source": [
    "import numpy as np\n",
    "import pandas as pd\n",
    "from sklearn.model_selection import train_test_split\n",
    "from sklearn.preprocessing import StandardScaler, LabelEncoder\n",
    "from sklearn.svm import SVC\n",
    "from sklearn.pipeline import make_pipeline\n",
    "from sklearn.metrics import roc_auc_score\n",
    "\n",
    "# Загрузка данных\n",
    "df = pd.read_csv('./train.csv')\n",
    "\n",
    "# Определяем числовые признаки\n",
    "numeric_columns = [\n",
    "    'Age',\n",
    "    'Annual_Income',\n",
    "    'Monthly_Inhand_Salary',\n",
    "    'Num_Bank_Accounts',\n",
    "    'Num_Credit_Card',\n",
    "    'Interest_Rate',\n",
    "    'Num_of_Loan',\n",
    "    'Delay_from_due_date',\n",
    "    'Num_of_Delayed_Payment',\n",
    "    'Changed_Credit_Limit',\n",
    "    'Num_Credit_Inquiries',\n",
    "    'Outstanding_Debt',\n",
    "    'Credit_Utilization_Ratio',\n",
    "    'Total_EMI_per_month',\n",
    "    'Amount_invested_monthly',\n",
    "    'Monthly_Balance'\n",
    "]\n",
    "\n",
    "# Приводим значения указанных признаков к числовому типу (ошибки -> NaN)\n",
    "for col in numeric_columns:\n",
    "    df[col] = pd.to_numeric(df[col], errors='coerce')\n",
    "\n",
    "# Удаляем строки с некорректными данными\n",
    "df_clean = df.dropna(subset=numeric_columns)\n",
    "\n",
    "# Определяем матрицу признаков и целевой признак\n",
    "X = df_clean[numeric_columns]\n",
    "y = df_clean['Credit_Score']\n",
    "\n",
    "# Переводим строковые метки в порядковые числа\n",
    "le = LabelEncoder()\n",
    "y_encoded = le.fit_transform(y)\n",
    "\n",
    "# Разбиваем данные на обучение и тест (80/20) со стратификацией и random_state=1\n",
    "X_train, X_test, y_train, y_test = train_test_split(\n",
    "    X, y_encoded, test_size=0.2, stratify=y_encoded, random_state=1\n",
    ")\n",
    "\n",
    "# Приводим y_train и y_test к формату Series для индексирования\n",
    "y_train = pd.Series(y_train, index=X_train.index)\n",
    "y_test = pd.Series(y_test, index=X_test.index)\n",
    "\n",
    "# Снижаем размерность выборок:\n",
    "# Для обучения: 10,000 случайных объектов (фиксируем случайность seed=1)\n",
    "np.random.seed(1)\n",
    "if len(X_train) > 10000:\n",
    "    train_indices = np.random.choice(X_train.index, size=10000, replace=False)\n",
    "    X_train_sample = X_train.loc[train_indices]\n",
    "    y_train_sample = y_train.loc[train_indices]\n",
    "else:\n",
    "    X_train_sample = X_train.copy()\n",
    "    y_train_sample = y_train.copy()\n",
    "\n",
    "# Для тестовой выборки: 2000 случайных объектов (фиксируем случайность seed=2)\n",
    "np.random.seed(2)\n",
    "if len(X_test) > 2000:\n",
    "    test_indices = np.random.choice(X_test.index, size=2000, replace=False)\n",
    "    X_test_sample = X_test.loc[test_indices]\n",
    "    y_test_sample = y_test.loc[test_indices]\n",
    "else:\n",
    "    X_test_sample = X_test.copy()\n",
    "    y_test_sample = y_test.copy()\n",
    "\n",
    "# Лучшие гиперпараметры из предыдущего задания:\n",
    "# Предположим, что лучшим оказалось ядро 'rbf' и параметр C = 1.\n",
    "best_kernel = 'rbf'\n",
    "best_C = 100\n",
    "\n",
    "# Создаем пайплайн: стандартизация + SVC с включенной вероятностной оценкой (probability=True)\n",
    "pipeline = make_pipeline(\n",
    "    StandardScaler(), \n",
    "    SVC(kernel=best_kernel, C=best_C, probability=True)\n",
    ")\n",
    "\n",
    "# Обучаем модель\n",
    "pipeline.fit(X_train_sample, y_train_sample)\n",
    "\n",
    "# Получаем предсказания вероятностей для тестовой выборки\n",
    "y_proba = pipeline.predict_proba(X_test_sample)\n",
    "\n",
    "# Вычисляем метрику ROC-AUC для многоклассовой классификации с использованием multi_class='ovr'\n",
    "roc_auc = roc_auc_score(y_test_sample, y_proba, multi_class='ovr', average='macro')\n",
    "roc_auc_rounded = round(roc_auc, 2)\n",
    "\n",
    "print(\"ROC-AUC:\", roc_auc_rounded)\n"
   ]
  },
  {
   "cell_type": "code",
   "execution_count": null,
   "id": "9d3c950d-e45d-4b64-8816-06989e479f8f",
   "metadata": {},
   "outputs": [],
   "source": []
  },
  {
   "cell_type": "code",
   "execution_count": null,
   "id": "74a3ac93-f92f-438f-bb01-ce7abb34a791",
   "metadata": {},
   "outputs": [],
   "source": []
  },
  {
   "cell_type": "code",
   "execution_count": null,
   "id": "31b5cc30-7471-4069-b576-27f5fdb24035",
   "metadata": {},
   "outputs": [],
   "source": []
  },
  {
   "cell_type": "markdown",
   "id": "f8022410-97a0-41a7-825f-77618fd078e7",
   "metadata": {},
   "source": [
    "# Task 9"
   ]
  },
  {
   "cell_type": "code",
   "execution_count": 30,
   "id": "21ccff16-1a59-408f-80b8-c6f15daeca5b",
   "metadata": {
    "tags": []
   },
   "outputs": [
    {
     "name": "stderr",
     "output_type": "stream",
     "text": [
      "/tmp/ipykernel_390909/4124941504.py:9: DtypeWarning: Columns (26) have mixed types. Specify dtype option on import or set low_memory=False.\n",
      "  df = pd.read_csv('./train.csv')\n"
     ]
    },
    {
     "name": "stdout",
     "output_type": "stream",
     "text": [
      "Лучшие гиперпараметры: kernel = rbf C = 100\n",
      "CV recall_macro = 0.51\n"
     ]
    }
   ],
   "source": [
    "import numpy as np\n",
    "import pandas as pd\n",
    "from sklearn.model_selection import train_test_split, cross_val_score\n",
    "from sklearn.preprocessing import StandardScaler, LabelEncoder\n",
    "from sklearn.svm import SVC\n",
    "from sklearn.pipeline import make_pipeline\n",
    "\n",
    "# Загрузка данных\n",
    "df = pd.read_csv('./train.csv')\n",
    "\n",
    "# Определяем числовые признаки\n",
    "numeric_columns = [\n",
    "    'Age',\n",
    "    'Annual_Income',\n",
    "    'Monthly_Inhand_Salary',\n",
    "    'Num_Bank_Accounts',\n",
    "    'Num_Credit_Card',\n",
    "    'Interest_Rate',\n",
    "    'Num_of_Loan',\n",
    "    'Delay_from_due_date',\n",
    "    'Num_of_Delayed_Payment',\n",
    "    'Changed_Credit_Limit',\n",
    "    'Num_Credit_Inquiries',\n",
    "    'Outstanding_Debt',\n",
    "    'Credit_Utilization_Ratio',\n",
    "    'Total_EMI_per_month',\n",
    "    'Amount_invested_monthly',\n",
    "    'Monthly_Balance'\n",
    "]\n",
    "\n",
    "# Приводим значения в указанных признаках к числовому типу\n",
    "for col in numeric_columns:\n",
    "    df[col] = pd.to_numeric(df[col], errors='coerce')\n",
    "\n",
    "# Удаляем строки, где обнаружены некорректные данные\n",
    "df_clean = df.dropna(subset=numeric_columns)\n",
    "\n",
    "# Определяем матрицу признаков X и целевой признак y\n",
    "X = df_clean[numeric_columns]\n",
    "y = df_clean['Credit_Score']\n",
    "\n",
    "# Кодируем целевой признак в порядковые числа\n",
    "le = LabelEncoder()\n",
    "y_encoded = le.fit_transform(y)\n",
    "\n",
    "# Разбиваем данные на тренировочную и тестовую выборки (80/20) со стратификацией, random_state=1\n",
    "X_train, X_test, y_train, y_test = train_test_split(\n",
    "    X, y_encoded, test_size=0.2, stratify=y_encoded, random_state=1\n",
    ")\n",
    "\n",
    "# Для кросс-валидации на тренировочной выборке оставляем 10000 случайных объектов\n",
    "np.random.seed(1)\n",
    "if len(X_train) > 10000:\n",
    "    train_indices = np.random.choice(X_train.index, size=10000, replace=False)\n",
    "    X_train_sample = X_train.loc[train_indices]\n",
    "    # Приводим y_train к Series для индексирования\n",
    "    y_train_series = pd.Series(y_train, index=X_train.index)\n",
    "    y_train_sample = y_train_series.loc[train_indices]\n",
    "else:\n",
    "    X_train_sample = X_train.copy()\n",
    "    y_train_sample = pd.Series(y_train, index=X_train.index).copy()\n",
    "\n",
    "# Гиперпараметры для перебора\n",
    "kernels = ['rbf', 'poly']\n",
    "C_values = [0.001, 0.01, 0.1, 1, 10, 100]\n",
    "\n",
    "best_score = -np.inf\n",
    "best_params = None\n",
    "\n",
    "# Перебор гиперпараметров с использованием кросс-валидации (3 фолда) и метрики recall_macro\n",
    "for kernel in kernels:\n",
    "    for C in C_values:\n",
    "        pipeline = make_pipeline(StandardScaler(), SVC(kernel=kernel, C=C))\n",
    "        scores = cross_val_score(pipeline, X_train_sample, y_train_sample, cv=3, scoring='recall_macro')\n",
    "        mean_score = np.mean(scores)\n",
    "        if mean_score > best_score:\n",
    "            best_score = mean_score\n",
    "            best_params = (kernel, C)\n",
    "\n",
    "# Округляем метрику до двух знаков\n",
    "best_score_rounded = round(best_score, 2)\n",
    "\n",
    "# Выводим лучшие гиперпараметры и значение метрики\n",
    "print(\"Лучшие гиперпараметры: kernel =\", best_params[0], \"C =\", best_params[1])\n",
    "print(\"CV recall_macro =\", best_score_rounded)\n"
   ]
  },
  {
   "cell_type": "code",
   "execution_count": null,
   "id": "94d5b74d-5ddf-48cc-aded-d442789c703b",
   "metadata": {},
   "outputs": [],
   "source": []
  },
  {
   "cell_type": "code",
   "execution_count": null,
   "id": "a628d119-98e8-40d8-a3a8-6bb3ef1d4a5d",
   "metadata": {},
   "outputs": [],
   "source": []
  },
  {
   "cell_type": "code",
   "execution_count": null,
   "id": "78487e46-a1b5-40b4-a43f-3d0337c86468",
   "metadata": {},
   "outputs": [],
   "source": []
  },
  {
   "cell_type": "code",
   "execution_count": null,
   "id": "1311aab1-192b-4ea5-bf80-268d06567ba9",
   "metadata": {},
   "outputs": [],
   "source": []
  },
  {
   "cell_type": "code",
   "execution_count": null,
   "id": "5d9780c5-1b03-4999-8bf1-eaa6b211e2bc",
   "metadata": {},
   "outputs": [],
   "source": []
  },
  {
   "cell_type": "code",
   "execution_count": null,
   "id": "5fff936f-c314-43d6-a0fe-16b2d99a5037",
   "metadata": {},
   "outputs": [],
   "source": []
  },
  {
   "cell_type": "code",
   "execution_count": null,
   "id": "8f2b9282-4e68-4a2e-b3e9-635975b20320",
   "metadata": {},
   "outputs": [],
   "source": []
  },
  {
   "cell_type": "code",
   "execution_count": null,
   "id": "4238c45e-91d8-43f1-b043-7942c9c8c480",
   "metadata": {},
   "outputs": [],
   "source": []
  },
  {
   "cell_type": "code",
   "execution_count": null,
   "id": "6ca6a5a3-77cc-497b-b1d2-6da05d383079",
   "metadata": {},
   "outputs": [],
   "source": []
  },
  {
   "cell_type": "code",
   "execution_count": null,
   "id": "e5e8e676-b03e-40a8-bd90-565193822679",
   "metadata": {},
   "outputs": [],
   "source": []
  },
  {
   "cell_type": "code",
   "execution_count": null,
   "id": "86caa4a0-b490-4a84-affc-61707dabc1f9",
   "metadata": {},
   "outputs": [],
   "source": []
  },
  {
   "cell_type": "code",
   "execution_count": null,
   "id": "b53c7d4b-7780-4e06-ae8c-e2d33d1db7f8",
   "metadata": {},
   "outputs": [],
   "source": []
  },
  {
   "cell_type": "code",
   "execution_count": null,
   "id": "ee43dc40-354c-47ad-b85b-b9a7716573e0",
   "metadata": {},
   "outputs": [],
   "source": []
  },
  {
   "cell_type": "code",
   "execution_count": null,
   "id": "cc082433-5627-4fa0-9f51-421a216be167",
   "metadata": {},
   "outputs": [],
   "source": []
  }
 ],
 "metadata": {
  "kernelspec": {
   "display_name": "Python 3 (ipykernel)",
   "language": "python",
   "name": "python3"
  },
  "language_info": {
   "codemirror_mode": {
    "name": "ipython",
    "version": 3
   },
   "file_extension": ".py",
   "mimetype": "text/x-python",
   "name": "python",
   "nbconvert_exporter": "python",
   "pygments_lexer": "ipython3",
   "version": "3.12.3"
  }
 },
 "nbformat": 4,
 "nbformat_minor": 5
}
