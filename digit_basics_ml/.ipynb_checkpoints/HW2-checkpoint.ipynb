{
 "cells": [
  {
   "cell_type": "code",
   "execution_count": null,
   "id": "7e0ec351-abbf-4677-a263-4b4074cb9e4e",
   "metadata": {},
   "outputs": [],
   "source": []
  },
  {
   "cell_type": "markdown",
   "id": "cba1c6fd-103e-495f-82a6-c348de3da3f3",
   "metadata": {},
   "source": [
    "# Task 1"
   ]
  },
  {
   "cell_type": "code",
   "execution_count": 1,
   "id": "bb8148f4-7d73-4da4-8537-8d22f0a88b7f",
   "metadata": {
    "tags": []
   },
   "outputs": [
    {
     "name": "stdout",
     "output_type": "stream",
     "text": [
      "Прогноз среднедневного трафика: 1340.0\n"
     ]
    }
   ],
   "source": [
    "# Коэффициенты модели\n",
    "coef_time = 50\n",
    "coef_pages = 100\n",
    "coef_session = 30\n",
    "coef_visitors = 0.1\n",
    "\n",
    "# Входные данные студента A\n",
    "time_spent = 10         # минут\n",
    "pages_viewed = 5\n",
    "avg_session = 8         # минут\n",
    "unique_visitors = 1000\n",
    "\n",
    "# Расчет прогноза трафика\n",
    "traffic = (time_spent * coef_time +\n",
    "           pages_viewed * coef_pages +\n",
    "           avg_session * coef_session +\n",
    "           unique_visitors * coef_visitors)\n",
    "\n",
    "print(\"Прогноз среднедневного трафика:\", traffic)"
   ]
  },
  {
   "cell_type": "code",
   "execution_count": null,
   "id": "27647dee-c53c-4364-b50e-bf278b660a52",
   "metadata": {},
   "outputs": [],
   "source": [
    "1340"
   ]
  },
  {
   "cell_type": "code",
   "execution_count": null,
   "id": "0efc6e88-a049-48c1-99ad-e305c91cb928",
   "metadata": {},
   "outputs": [],
   "source": []
  },
  {
   "cell_type": "markdown",
   "id": "db285619-2854-4b6c-a84c-dfed3b4eba83",
   "metadata": {},
   "source": [
    "# Task 2"
   ]
  },
  {
   "cell_type": "code",
   "execution_count": 4,
   "id": "ac8ce3e8-efd0-497c-ab39-06ae00a07522",
   "metadata": {
    "tags": []
   },
   "outputs": [],
   "source": [
    "import pandas as pd\n",
    "from sklearn.model_selection import train_test_split\n",
    "from sklearn.linear_model import LinearRegression"
   ]
  },
  {
   "cell_type": "code",
   "execution_count": 19,
   "id": "8f2c30a2-f4f2-4beb-9dfd-cd9b12c02c82",
   "metadata": {
    "tags": []
   },
   "outputs": [],
   "source": [
    "df = pd.read_csv(\"Salary_dataset.csv\")"
   ]
  },
  {
   "cell_type": "code",
   "execution_count": 20,
   "id": "6c460627-adfc-422e-8420-81c315372e35",
   "metadata": {
    "tags": []
   },
   "outputs": [
    {
     "data": {
      "text/html": [
       "<div>\n",
       "<style scoped>\n",
       "    .dataframe tbody tr th:only-of-type {\n",
       "        vertical-align: middle;\n",
       "    }\n",
       "\n",
       "    .dataframe tbody tr th {\n",
       "        vertical-align: top;\n",
       "    }\n",
       "\n",
       "    .dataframe thead th {\n",
       "        text-align: right;\n",
       "    }\n",
       "</style>\n",
       "<table border=\"1\" class=\"dataframe\">\n",
       "  <thead>\n",
       "    <tr style=\"text-align: right;\">\n",
       "      <th></th>\n",
       "      <th>Unnamed: 0</th>\n",
       "      <th>YearsExperience</th>\n",
       "      <th>Salary</th>\n",
       "    </tr>\n",
       "  </thead>\n",
       "  <tbody>\n",
       "    <tr>\n",
       "      <th>0</th>\n",
       "      <td>0</td>\n",
       "      <td>1.2</td>\n",
       "      <td>39344.0</td>\n",
       "    </tr>\n",
       "    <tr>\n",
       "      <th>1</th>\n",
       "      <td>1</td>\n",
       "      <td>1.4</td>\n",
       "      <td>46206.0</td>\n",
       "    </tr>\n",
       "    <tr>\n",
       "      <th>2</th>\n",
       "      <td>2</td>\n",
       "      <td>1.6</td>\n",
       "      <td>37732.0</td>\n",
       "    </tr>\n",
       "    <tr>\n",
       "      <th>3</th>\n",
       "      <td>3</td>\n",
       "      <td>2.1</td>\n",
       "      <td>43526.0</td>\n",
       "    </tr>\n",
       "    <tr>\n",
       "      <th>4</th>\n",
       "      <td>4</td>\n",
       "      <td>2.3</td>\n",
       "      <td>39892.0</td>\n",
       "    </tr>\n",
       "  </tbody>\n",
       "</table>\n",
       "</div>"
      ],
      "text/plain": [
       "   Unnamed: 0  YearsExperience   Salary\n",
       "0           0              1.2  39344.0\n",
       "1           1              1.4  46206.0\n",
       "2           2              1.6  37732.0\n",
       "3           3              2.1  43526.0\n",
       "4           4              2.3  39892.0"
      ]
     },
     "execution_count": 20,
     "metadata": {},
     "output_type": "execute_result"
    }
   ],
   "source": [
    "df.head()"
   ]
  },
  {
   "cell_type": "code",
   "execution_count": 21,
   "id": "852c4efb-990a-40c7-b73c-e76af7e423c3",
   "metadata": {
    "tags": []
   },
   "outputs": [],
   "source": [
    "df = pd.read_csv(\"Salary_dataset.csv\", names=[\"YearsExperience\", \"Salary\"], skiprows=1)"
   ]
  },
  {
   "cell_type": "code",
   "execution_count": 22,
   "id": "db0b8146-f817-403b-9e57-c8f1dbce2124",
   "metadata": {
    "tags": []
   },
   "outputs": [
    {
     "data": {
      "text/html": [
       "<div>\n",
       "<style scoped>\n",
       "    .dataframe tbody tr th:only-of-type {\n",
       "        vertical-align: middle;\n",
       "    }\n",
       "\n",
       "    .dataframe tbody tr th {\n",
       "        vertical-align: top;\n",
       "    }\n",
       "\n",
       "    .dataframe thead th {\n",
       "        text-align: right;\n",
       "    }\n",
       "</style>\n",
       "<table border=\"1\" class=\"dataframe\">\n",
       "  <thead>\n",
       "    <tr style=\"text-align: right;\">\n",
       "      <th></th>\n",
       "      <th>YearsExperience</th>\n",
       "      <th>Salary</th>\n",
       "    </tr>\n",
       "  </thead>\n",
       "  <tbody>\n",
       "    <tr>\n",
       "      <th>0</th>\n",
       "      <td>1.2</td>\n",
       "      <td>39344.0</td>\n",
       "    </tr>\n",
       "    <tr>\n",
       "      <th>1</th>\n",
       "      <td>1.4</td>\n",
       "      <td>46206.0</td>\n",
       "    </tr>\n",
       "    <tr>\n",
       "      <th>2</th>\n",
       "      <td>1.6</td>\n",
       "      <td>37732.0</td>\n",
       "    </tr>\n",
       "    <tr>\n",
       "      <th>3</th>\n",
       "      <td>2.1</td>\n",
       "      <td>43526.0</td>\n",
       "    </tr>\n",
       "    <tr>\n",
       "      <th>4</th>\n",
       "      <td>2.3</td>\n",
       "      <td>39892.0</td>\n",
       "    </tr>\n",
       "  </tbody>\n",
       "</table>\n",
       "</div>"
      ],
      "text/plain": [
       "   YearsExperience   Salary\n",
       "0              1.2  39344.0\n",
       "1              1.4  46206.0\n",
       "2              1.6  37732.0\n",
       "3              2.1  43526.0\n",
       "4              2.3  39892.0"
      ]
     },
     "execution_count": 22,
     "metadata": {},
     "output_type": "execute_result"
    }
   ],
   "source": [
    "df.head()"
   ]
  },
  {
   "cell_type": "code",
   "execution_count": 24,
   "id": "52350205-b5ba-4a11-9df7-2123ad85900c",
   "metadata": {
    "tags": []
   },
   "outputs": [
    {
     "name": "stdout",
     "output_type": "stream",
     "text": [
      "Вес для признака YearsExperience: 9356.86\n"
     ]
    }
   ],
   "source": [
    "# Разделение данных на обучающую и тестовую выборки\n",
    "X = df[['YearsExperience']]\n",
    "y = df['Salary']\n",
    "\n",
    "X_train, X_test, y_train, y_test = train_test_split(X, y, test_size=0.20, random_state=10)\n",
    "\n",
    "# Обучение модели линейной регрессии\n",
    "model = LinearRegression()\n",
    "model.fit(X_train, y_train)\n",
    "\n",
    "# Извлечение веса для признака YearsExperience и округление до 2 знаков\n",
    "coef_years_experience = round(model.coef_[0], 2)\n",
    "print(\"Вес для признака YearsExperience:\", coef_years_experience)"
   ]
  },
  {
   "cell_type": "code",
   "execution_count": null,
   "id": "f68c1bb0-5187-40c5-a2fc-df8cb2fd687c",
   "metadata": {},
   "outputs": [],
   "source": [
    "9356.86"
   ]
  },
  {
   "cell_type": "code",
   "execution_count": null,
   "id": "64ae2ad9-a1d7-41cf-8bdc-e31c3d899413",
   "metadata": {},
   "outputs": [],
   "source": []
  },
  {
   "cell_type": "markdown",
   "id": "a9f13e14-bff6-437d-9569-8e1c99806c16",
   "metadata": {},
   "source": [
    "# Task 3"
   ]
  },
  {
   "cell_type": "code",
   "execution_count": 25,
   "id": "9c833ce5-7a9e-46f1-b27b-6833bca23507",
   "metadata": {
    "tags": []
   },
   "outputs": [],
   "source": [
    "from sklearn.metrics import mean_absolute_error, r2_score"
   ]
  },
  {
   "cell_type": "code",
   "execution_count": 27,
   "id": "765fc047-b196-46ee-9f40-0748755d9a36",
   "metadata": {
    "tags": []
   },
   "outputs": [
    {
     "name": "stdout",
     "output_type": "stream",
     "text": [
      "MAE: 2741.28\n",
      "R2: 0.98\n"
     ]
    }
   ],
   "source": [
    "# Получение предсказаний для тестовой выборки\n",
    "y_pred = model.predict(X_test)\n",
    "\n",
    "# Расчет метрик\n",
    "mae = mean_absolute_error(y_test, y_pred)\n",
    "r2 = r2_score(y_test, y_pred)\n",
    "\n",
    "# Округление до двух знаков после запятой\n",
    "mae_rounded = round(mae, 2)\n",
    "r2_rounded = round(r2, 2)\n",
    "\n",
    "print(\"MAE:\", mae_rounded)\n",
    "print(\"R2:\", r2_rounded)"
   ]
  },
  {
   "cell_type": "code",
   "execution_count": null,
   "id": "7faf4fd5-dc0f-4574-be26-da5f33e05eb4",
   "metadata": {},
   "outputs": [],
   "source": []
  },
  {
   "cell_type": "code",
   "execution_count": null,
   "id": "de2f595a-1a12-4fa8-935d-6446657bf4ce",
   "metadata": {},
   "outputs": [],
   "source": []
  },
  {
   "cell_type": "markdown",
   "id": "a4a07d7e-83aa-411d-99bc-7522f01dd967",
   "metadata": {},
   "source": [
    "# Task 4"
   ]
  },
  {
   "cell_type": "code",
   "execution_count": 42,
   "id": "d91935e8-55ec-445d-aeb9-b600c8d860bd",
   "metadata": {
    "tags": []
   },
   "outputs": [],
   "source": [
    "import pandas as pd\n",
    "from sklearn.model_selection import train_test_split\n",
    "from sklearn.linear_model import LinearRegression"
   ]
  },
  {
   "cell_type": "code",
   "execution_count": null,
   "id": "97516c8e-98b5-4e02-9a8e-c8a6cdbab371",
   "metadata": {},
   "outputs": [],
   "source": []
  },
  {
   "cell_type": "code",
   "execution_count": 43,
   "id": "1701ec91-bc12-41f8-8be5-25ca2fea6573",
   "metadata": {
    "tags": []
   },
   "outputs": [],
   "source": [
    "df = pd.read_csv(\"poly.csv\")"
   ]
  },
  {
   "cell_type": "code",
   "execution_count": 44,
   "id": "4965be10-a9af-4c37-bcf5-ca9139ba74e4",
   "metadata": {
    "tags": []
   },
   "outputs": [
    {
     "data": {
      "text/html": [
       "<div>\n",
       "<style scoped>\n",
       "    .dataframe tbody tr th:only-of-type {\n",
       "        vertical-align: middle;\n",
       "    }\n",
       "\n",
       "    .dataframe tbody tr th {\n",
       "        vertical-align: top;\n",
       "    }\n",
       "\n",
       "    .dataframe thead th {\n",
       "        text-align: right;\n",
       "    }\n",
       "</style>\n",
       "<table border=\"1\" class=\"dataframe\">\n",
       "  <thead>\n",
       "    <tr style=\"text-align: right;\">\n",
       "      <th></th>\n",
       "      <th>X</th>\n",
       "      <th>Y</th>\n",
       "    </tr>\n",
       "  </thead>\n",
       "  <tbody>\n",
       "    <tr>\n",
       "      <th>0</th>\n",
       "      <td>-3.292157</td>\n",
       "      <td>-53.468412</td>\n",
       "    </tr>\n",
       "    <tr>\n",
       "      <th>1</th>\n",
       "      <td>0.799528</td>\n",
       "      <td>-1.262560</td>\n",
       "    </tr>\n",
       "    <tr>\n",
       "      <th>2</th>\n",
       "      <td>-0.936214</td>\n",
       "      <td>-3.506193</td>\n",
       "    </tr>\n",
       "    <tr>\n",
       "      <th>3</th>\n",
       "      <td>-4.722680</td>\n",
       "      <td>-107.223200</td>\n",
       "    </tr>\n",
       "    <tr>\n",
       "      <th>4</th>\n",
       "      <td>-3.602674</td>\n",
       "      <td>-49.131950</td>\n",
       "    </tr>\n",
       "  </tbody>\n",
       "</table>\n",
       "</div>"
      ],
      "text/plain": [
       "          X           Y\n",
       "0 -3.292157  -53.468412\n",
       "1  0.799528   -1.262560\n",
       "2 -0.936214   -3.506193\n",
       "3 -4.722680 -107.223200\n",
       "4 -3.602674  -49.131950"
      ]
     },
     "execution_count": 44,
     "metadata": {},
     "output_type": "execute_result"
    }
   ],
   "source": [
    "df.head()"
   ]
  },
  {
   "cell_type": "code",
   "execution_count": 45,
   "id": "0ef1301c-faca-416e-833f-003d107bde6c",
   "metadata": {
    "tags": []
   },
   "outputs": [
    {
     "name": "stdout",
     "output_type": "stream",
     "text": [
      "R² на обучающей выборке: 0.67\n",
      "R² на тестовой выборке: -5.66\n"
     ]
    }
   ],
   "source": [
    "# Определяем признаки (X) и целевую переменную (y)\n",
    "X = df[['X']]\n",
    "y = df['Y']\n",
    "\n",
    "# Разбиение данных на обучающую (80%) и тестовую (20%) выборки\n",
    "X_train, X_test, y_train, y_test = train_test_split(X, y, test_size=0.20, random_state=10)\n",
    "\n",
    "# Обучение модели линейной регрессии на базовых параметрах\n",
    "model = LinearRegression()\n",
    "model.fit(X_train, y_train)\n",
    "\n",
    "# Вычисление коэффициента детерминации (R²) для обучающей и тестовой выборок\n",
    "r2_train = round(model.score(X_train, y_train), 2)\n",
    "r2_test = round(model.score(X_test, y_test), 2)\n",
    "\n",
    "print(\"R² на обучающей выборке:\", r2_train)\n",
    "print(\"R² на тестовой выборке:\", r2_test)"
   ]
  },
  {
   "cell_type": "code",
   "execution_count": null,
   "id": "bed62306-a0a9-434d-8482-e51c59beda5a",
   "metadata": {},
   "outputs": [],
   "source": []
  },
  {
   "cell_type": "code",
   "execution_count": null,
   "id": "ca66c748-e77c-479d-ab2d-566e035367a7",
   "metadata": {},
   "outputs": [],
   "source": []
  },
  {
   "cell_type": "markdown",
   "id": "17014438-472b-4146-b0d1-edf556f8c9ed",
   "metadata": {},
   "source": [
    "# Task 5"
   ]
  },
  {
   "cell_type": "code",
   "execution_count": 46,
   "id": "2e300eb8-7075-46a9-b603-30bf8084268a",
   "metadata": {
    "tags": []
   },
   "outputs": [],
   "source": [
    "import pandas as pd\n",
    "from sklearn.model_selection import train_test_split\n",
    "from sklearn.pipeline import Pipeline\n",
    "from sklearn.preprocessing import PolynomialFeatures\n",
    "from sklearn.linear_model import LinearRegression"
   ]
  },
  {
   "cell_type": "code",
   "execution_count": 47,
   "id": "218f1c85-a232-42e9-9884-9c51259ad099",
   "metadata": {
    "tags": []
   },
   "outputs": [],
   "source": [
    "df = pd.read_csv(\"poly.csv\")"
   ]
  },
  {
   "cell_type": "code",
   "execution_count": 48,
   "id": "c8bad687-a078-44f1-90f3-b985e443434e",
   "metadata": {
    "tags": []
   },
   "outputs": [
    {
     "name": "stdout",
     "output_type": "stream",
     "text": [
      "Degree | R² (Train) | R² (Test)\n",
      "--------------------------------\n",
      "     2 |       0.88 |     -3.24\n",
      "     3 |       0.98 |      0.84\n",
      "     4 |       0.98 |      0.94\n",
      "     5 |       0.98 |      0.90\n",
      "     6 |       0.98 |     -0.74\n",
      "     7 |       0.98 |     -1.29\n",
      "\n",
      "Наихудшая метрика R² на тестовом датасете: -3.24\n"
     ]
    }
   ],
   "source": [
    "# Определяем признаки и целевую переменную\n",
    "X = df[['X']]\n",
    "y = df['Y']\n",
    "\n",
    "# Разбиваем данные на обучающую и тестовую выборки (80/20, random_state=10)\n",
    "X_train, X_test, y_train, y_test = train_test_split(X, y, test_size=0.20, random_state=10)\n",
    "\n",
    "# Списки для сохранения метрик\n",
    "results = []\n",
    "\n",
    "print(\"Degree | R² (Train) | R² (Test)\")\n",
    "print(\"--------------------------------\")\n",
    "\n",
    "# Перебор степеней полинома от 2 до 7\n",
    "for degree in range(2, 8):\n",
    "    # Создаем pipeline: полиномизация признаков + линейная регрессия\n",
    "    pipeline = Pipeline([\n",
    "        (\"poly\", PolynomialFeatures(degree=degree)),\n",
    "        (\"linreg\", LinearRegression())\n",
    "    ])\n",
    "    \n",
    "    # Обучаем модель\n",
    "    pipeline.fit(X_train, y_train)\n",
    "    \n",
    "    # Вычисляем R² на обучающей и тестовой выборках\n",
    "    r2_train = pipeline.score(X_train, y_train)\n",
    "    r2_test = pipeline.score(X_test, y_test)\n",
    "    \n",
    "    # Сохраняем результаты\n",
    "    results.append({'degree': degree, 'r2_train': r2_train, 'r2_test': r2_test})\n",
    "    \n",
    "    print(f\"{degree:6} | {r2_train:10.2f} | {r2_test:9.2f}\")\n",
    "\n",
    "# Определяем наихудшую (минимальную) метрику на тестовой выборке\n",
    "worst_r2_test = min(r['r2_test'] for r in results)\n",
    "worst_r2_test = round(worst_r2_test, 2)\n",
    "\n",
    "print(\"\\nНаихудшая метрика R² на тестовом датасете:\", worst_r2_test)"
   ]
  },
  {
   "cell_type": "code",
   "execution_count": null,
   "id": "44ce5a15-93f2-4aff-a199-e721d232025f",
   "metadata": {},
   "outputs": [],
   "source": []
  },
  {
   "cell_type": "code",
   "execution_count": null,
   "id": "434004c0-3808-400d-b9e9-afb26d7ee1fe",
   "metadata": {},
   "outputs": [],
   "source": []
  },
  {
   "cell_type": "markdown",
   "id": "52d2aa23-8151-49cb-8689-19639fe7155c",
   "metadata": {},
   "source": [
    "# Task 6"
   ]
  },
  {
   "cell_type": "code",
   "execution_count": 49,
   "id": "2606b5ae-0191-4dfd-bdb2-81039176d9bd",
   "metadata": {
    "tags": []
   },
   "outputs": [],
   "source": [
    "import pandas as pd\n",
    "from sklearn.model_selection import train_test_split\n",
    "from sklearn.pipeline import Pipeline\n",
    "from sklearn.preprocessing import PolynomialFeatures\n",
    "from sklearn.linear_model import Ridge"
   ]
  },
  {
   "cell_type": "code",
   "execution_count": 50,
   "id": "e5d28cf1-b48b-4f4e-a099-2aa5dc3ddf89",
   "metadata": {
    "tags": []
   },
   "outputs": [],
   "source": [
    "df = pd.read_csv(\"poly.csv\")"
   ]
  },
  {
   "cell_type": "code",
   "execution_count": 51,
   "id": "72474078-bd26-44a2-b91d-f678655d4c7e",
   "metadata": {
    "tags": []
   },
   "outputs": [
    {
     "name": "stdout",
     "output_type": "stream",
     "text": [
      "Alpha | R² (Train) | R² (Test)\n",
      "--------------------------------\n",
      "  0.0 |      0.985 |    -1.287\n",
      "  1.0 |      0.985 |     0.624\n",
      "  2.0 |      0.985 |     0.902\n",
      "  3.0 |      0.984 |     0.805\n",
      "  4.0 |      0.984 |     0.621\n",
      "  5.0 |      0.984 |     0.432\n",
      "  6.0 |      0.984 |     0.263\n",
      "  7.0 |      0.984 |     0.122\n",
      "  8.0 |      0.984 |     0.007\n",
      "  9.0 |      0.984 |    -0.085\n",
      " 10.0 |      0.984 |    -0.156\n",
      "\n",
      "Лучшая метрика R² на тестовой выборке: 0.902\n",
      "Коэффициент регуляризации (alpha): 2.0\n"
     ]
    }
   ],
   "source": [
    "X = df[['X']]\n",
    "y = df['Y']\n",
    "\n",
    "# Разбиение данных на обучающую и тестовую выборки (80/20, random_state=10)\n",
    "X_train, X_test, y_train, y_test = train_test_split(X, y, test_size=0.20, random_state=10)\n",
    "\n",
    "results = []\n",
    "\n",
    "print(\"Alpha | R² (Train) | R² (Test)\")\n",
    "print(\"--------------------------------\")\n",
    "# Перебор параметра регуляризации alpha от 0 до 10\n",
    "for alpha in [float(i) for i in range(0, 11)]:\n",
    "    pipeline = Pipeline([\n",
    "        (\"poly\", PolynomialFeatures(degree=7)),\n",
    "        (\"ridge\", Ridge(alpha=alpha))\n",
    "    ])\n",
    "    pipeline.fit(X_train, y_train)\n",
    "    r2_train = pipeline.score(X_train, y_train)\n",
    "    r2_test = pipeline.score(X_test, y_test)\n",
    "    results.append((alpha, r2_train, r2_test))\n",
    "    print(f\"{alpha:5.1f} | {r2_train:10.3f} | {r2_test:9.3f}\")\n",
    "\n",
    "# Выбираем значение alpha с максимальным R² на тестовой выборке\n",
    "best_alpha, best_r2_train, best_r2_test = max(results, key=lambda x: x[2])\n",
    "print(\"\\nЛучшая метрика R² на тестовой выборке:\", round(best_r2_test, 3))\n",
    "print(\"Коэффициент регуляризации (alpha):\", best_alpha)\n"
   ]
  },
  {
   "cell_type": "code",
   "execution_count": null,
   "id": "a71b2a5c-7842-4f78-b2c7-6460338a8550",
   "metadata": {},
   "outputs": [],
   "source": []
  },
  {
   "cell_type": "markdown",
   "id": "9734ed0d-3cfc-42d6-b3e6-c5b6b46017b3",
   "metadata": {},
   "source": [
    "# Task 7"
   ]
  },
  {
   "cell_type": "code",
   "execution_count": null,
   "id": "b0408f21-7220-47cd-8468-a52ed1b715ce",
   "metadata": {},
   "outputs": [],
   "source": [
    "import pandas as pd\n",
    "from sklearn.model_selection import train_test_split\n",
    "from sklearn.linear_model import LinearRegression"
   ]
  },
  {
   "cell_type": "code",
   "execution_count": 52,
   "id": "e2be65b5-3c68-4d4e-9c95-4e8508850fd5",
   "metadata": {
    "tags": []
   },
   "outputs": [],
   "source": [
    "df = pd.read_csv(\"manufacturing.csv\")"
   ]
  },
  {
   "cell_type": "code",
   "execution_count": 53,
   "id": "513da7ee-e027-47eb-8e4f-be2ef78d7e65",
   "metadata": {
    "tags": []
   },
   "outputs": [
    {
     "data": {
      "text/html": [
       "<div>\n",
       "<style scoped>\n",
       "    .dataframe tbody tr th:only-of-type {\n",
       "        vertical-align: middle;\n",
       "    }\n",
       "\n",
       "    .dataframe tbody tr th {\n",
       "        vertical-align: top;\n",
       "    }\n",
       "\n",
       "    .dataframe thead th {\n",
       "        text-align: right;\n",
       "    }\n",
       "</style>\n",
       "<table border=\"1\" class=\"dataframe\">\n",
       "  <thead>\n",
       "    <tr style=\"text-align: right;\">\n",
       "      <th></th>\n",
       "      <th>Temperature (°C)</th>\n",
       "      <th>Pressure (kPa)</th>\n",
       "      <th>Temperature x Pressure</th>\n",
       "      <th>Material Fusion Metric</th>\n",
       "      <th>Material Transformation Metric</th>\n",
       "      <th>Quality Rating</th>\n",
       "    </tr>\n",
       "  </thead>\n",
       "  <tbody>\n",
       "    <tr>\n",
       "      <th>0</th>\n",
       "      <td>209.762701</td>\n",
       "      <td>8.050855</td>\n",
       "      <td>1688.769167</td>\n",
       "      <td>44522.217074</td>\n",
       "      <td>9.229576e+06</td>\n",
       "      <td>99.999971</td>\n",
       "    </tr>\n",
       "    <tr>\n",
       "      <th>1</th>\n",
       "      <td>243.037873</td>\n",
       "      <td>15.812068</td>\n",
       "      <td>3842.931469</td>\n",
       "      <td>63020.764997</td>\n",
       "      <td>1.435537e+07</td>\n",
       "      <td>99.985703</td>\n",
       "    </tr>\n",
       "    <tr>\n",
       "      <th>2</th>\n",
       "      <td>220.552675</td>\n",
       "      <td>7.843130</td>\n",
       "      <td>1729.823314</td>\n",
       "      <td>49125.950249</td>\n",
       "      <td>1.072839e+07</td>\n",
       "      <td>99.999758</td>\n",
       "    </tr>\n",
       "    <tr>\n",
       "      <th>3</th>\n",
       "      <td>208.976637</td>\n",
       "      <td>23.786089</td>\n",
       "      <td>4970.736918</td>\n",
       "      <td>57128.881547</td>\n",
       "      <td>9.125702e+06</td>\n",
       "      <td>99.999975</td>\n",
       "    </tr>\n",
       "    <tr>\n",
       "      <th>4</th>\n",
       "      <td>184.730960</td>\n",
       "      <td>15.797812</td>\n",
       "      <td>2918.345014</td>\n",
       "      <td>38068.201283</td>\n",
       "      <td>6.303792e+06</td>\n",
       "      <td>100.000000</td>\n",
       "    </tr>\n",
       "  </tbody>\n",
       "</table>\n",
       "</div>"
      ],
      "text/plain": [
       "   Temperature (°C)  Pressure (kPa)  Temperature x Pressure  \\\n",
       "0        209.762701        8.050855             1688.769167   \n",
       "1        243.037873       15.812068             3842.931469   \n",
       "2        220.552675        7.843130             1729.823314   \n",
       "3        208.976637       23.786089             4970.736918   \n",
       "4        184.730960       15.797812             2918.345014   \n",
       "\n",
       "   Material Fusion Metric  Material Transformation Metric  Quality Rating  \n",
       "0            44522.217074                    9.229576e+06       99.999971  \n",
       "1            63020.764997                    1.435537e+07       99.985703  \n",
       "2            49125.950249                    1.072839e+07       99.999758  \n",
       "3            57128.881547                    9.125702e+06       99.999975  \n",
       "4            38068.201283                    6.303792e+06      100.000000  "
      ]
     },
     "execution_count": 53,
     "metadata": {},
     "output_type": "execute_result"
    }
   ],
   "source": [
    "df.head()"
   ]
  },
  {
   "cell_type": "code",
   "execution_count": 54,
   "id": "e0e620b8-3a85-4a6d-b83f-6049f4df4138",
   "metadata": {
    "tags": []
   },
   "outputs": [
    {
     "name": "stdout",
     "output_type": "stream",
     "text": [
      "R² на обучающей выборке: 0.5\n",
      "R² на тестовой выборке: 0.53\n"
     ]
    }
   ],
   "source": [
    "# Определяем входные признаки и целевой признак\n",
    "X = df.drop('Quality Rating', axis=1)\n",
    "y = df['Quality Rating']\n",
    "\n",
    "# Разбиваем данные на обучающую и тестовую выборки (80/20, random_state=10)\n",
    "X_train, X_test, y_train, y_test = train_test_split(X, y, test_size=0.20, random_state=10)\n",
    "\n",
    "# Обучаем линейную регрессию на базовых параметрах\n",
    "model = LinearRegression()\n",
    "model.fit(X_train, y_train)\n",
    "\n",
    "# Вычисляем метрику R² на обучающей и тестовой выборках\n",
    "r2_train = model.score(X_train, y_train)\n",
    "r2_test = model.score(X_test, y_test)\n",
    "\n",
    "print(\"R² на обучающей выборке:\", round(r2_train, 2))\n",
    "print(\"R² на тестовой выборке:\", round(r2_test, 2))\n"
   ]
  },
  {
   "cell_type": "markdown",
   "id": "8058c8b9-0ca6-4f9b-af9a-2b4452194807",
   "metadata": {},
   "source": [
    "# Task 8"
   ]
  },
  {
   "cell_type": "code",
   "execution_count": 68,
   "id": "d729422f-bed2-42fe-969b-aa0789dbaf0c",
   "metadata": {
    "tags": []
   },
   "outputs": [],
   "source": [
    "import pandas as pd\n",
    "from sklearn.model_selection import train_test_split\n",
    "from sklearn.pipeline import Pipeline\n",
    "from sklearn.preprocessing import PolynomialFeatures\n",
    "from sklearn.linear_model import LinearRegression"
   ]
  },
  {
   "cell_type": "code",
   "execution_count": null,
   "id": "0aa78de8-0f75-4970-bf47-272de36ffebf",
   "metadata": {},
   "outputs": [],
   "source": []
  },
  {
   "cell_type": "code",
   "execution_count": 92,
   "id": "0730acb6-adc2-46ca-be08-5180591fa7aa",
   "metadata": {
    "tags": []
   },
   "outputs": [],
   "source": [
    "df = pd.read_csv(\"manufacturing.csv\")"
   ]
  },
  {
   "cell_type": "code",
   "execution_count": 93,
   "id": "6d960727-f9a3-4a81-8eb8-861005f4a840",
   "metadata": {
    "tags": []
   },
   "outputs": [
    {
     "data": {
      "text/html": [
       "<div>\n",
       "<style scoped>\n",
       "    .dataframe tbody tr th:only-of-type {\n",
       "        vertical-align: middle;\n",
       "    }\n",
       "\n",
       "    .dataframe tbody tr th {\n",
       "        vertical-align: top;\n",
       "    }\n",
       "\n",
       "    .dataframe thead th {\n",
       "        text-align: right;\n",
       "    }\n",
       "</style>\n",
       "<table border=\"1\" class=\"dataframe\">\n",
       "  <thead>\n",
       "    <tr style=\"text-align: right;\">\n",
       "      <th></th>\n",
       "      <th>Temperature (°C)</th>\n",
       "      <th>Pressure (kPa)</th>\n",
       "      <th>Temperature x Pressure</th>\n",
       "      <th>Material Fusion Metric</th>\n",
       "      <th>Material Transformation Metric</th>\n",
       "      <th>Quality Rating</th>\n",
       "    </tr>\n",
       "  </thead>\n",
       "  <tbody>\n",
       "    <tr>\n",
       "      <th>0</th>\n",
       "      <td>209.762701</td>\n",
       "      <td>8.050855</td>\n",
       "      <td>1688.769167</td>\n",
       "      <td>44522.217074</td>\n",
       "      <td>9.229576e+06</td>\n",
       "      <td>99.999971</td>\n",
       "    </tr>\n",
       "    <tr>\n",
       "      <th>1</th>\n",
       "      <td>243.037873</td>\n",
       "      <td>15.812068</td>\n",
       "      <td>3842.931469</td>\n",
       "      <td>63020.764997</td>\n",
       "      <td>1.435537e+07</td>\n",
       "      <td>99.985703</td>\n",
       "    </tr>\n",
       "    <tr>\n",
       "      <th>2</th>\n",
       "      <td>220.552675</td>\n",
       "      <td>7.843130</td>\n",
       "      <td>1729.823314</td>\n",
       "      <td>49125.950249</td>\n",
       "      <td>1.072839e+07</td>\n",
       "      <td>99.999758</td>\n",
       "    </tr>\n",
       "    <tr>\n",
       "      <th>3</th>\n",
       "      <td>208.976637</td>\n",
       "      <td>23.786089</td>\n",
       "      <td>4970.736918</td>\n",
       "      <td>57128.881547</td>\n",
       "      <td>9.125702e+06</td>\n",
       "      <td>99.999975</td>\n",
       "    </tr>\n",
       "    <tr>\n",
       "      <th>4</th>\n",
       "      <td>184.730960</td>\n",
       "      <td>15.797812</td>\n",
       "      <td>2918.345014</td>\n",
       "      <td>38068.201283</td>\n",
       "      <td>6.303792e+06</td>\n",
       "      <td>100.000000</td>\n",
       "    </tr>\n",
       "  </tbody>\n",
       "</table>\n",
       "</div>"
      ],
      "text/plain": [
       "   Temperature (°C)  Pressure (kPa)  Temperature x Pressure  \\\n",
       "0        209.762701        8.050855             1688.769167   \n",
       "1        243.037873       15.812068             3842.931469   \n",
       "2        220.552675        7.843130             1729.823314   \n",
       "3        208.976637       23.786089             4970.736918   \n",
       "4        184.730960       15.797812             2918.345014   \n",
       "\n",
       "   Material Fusion Metric  Material Transformation Metric  Quality Rating  \n",
       "0            44522.217074                    9.229576e+06       99.999971  \n",
       "1            63020.764997                    1.435537e+07       99.985703  \n",
       "2            49125.950249                    1.072839e+07       99.999758  \n",
       "3            57128.881547                    9.125702e+06       99.999975  \n",
       "4            38068.201283                    6.303792e+06      100.000000  "
      ]
     },
     "execution_count": 93,
     "metadata": {},
     "output_type": "execute_result"
    }
   ],
   "source": [
    "df.head()"
   ]
  },
  {
   "cell_type": "code",
   "execution_count": 94,
   "id": "ef409bae-15c7-428e-bd6d-3a6aa112073f",
   "metadata": {
    "tags": []
   },
   "outputs": [
    {
     "data": {
      "text/html": [
       "<div>\n",
       "<style scoped>\n",
       "    .dataframe tbody tr th:only-of-type {\n",
       "        vertical-align: middle;\n",
       "    }\n",
       "\n",
       "    .dataframe tbody tr th {\n",
       "        vertical-align: top;\n",
       "    }\n",
       "\n",
       "    .dataframe thead th {\n",
       "        text-align: right;\n",
       "    }\n",
       "</style>\n",
       "<table border=\"1\" class=\"dataframe\">\n",
       "  <thead>\n",
       "    <tr style=\"text-align: right;\">\n",
       "      <th></th>\n",
       "      <th>Temperature (°C)</th>\n",
       "      <th>Pressure (kPa)</th>\n",
       "      <th>Temperature x Pressure</th>\n",
       "      <th>Material Fusion Metric</th>\n",
       "      <th>Material Transformation Metric</th>\n",
       "      <th>Quality Rating</th>\n",
       "    </tr>\n",
       "  </thead>\n",
       "  <tbody>\n",
       "    <tr>\n",
       "      <th>count</th>\n",
       "      <td>3957.000000</td>\n",
       "      <td>3957.000000</td>\n",
       "      <td>3957.000000</td>\n",
       "      <td>3957.000000</td>\n",
       "      <td>3.957000e+03</td>\n",
       "      <td>3957.000000</td>\n",
       "    </tr>\n",
       "    <tr>\n",
       "      <th>mean</th>\n",
       "      <td>200.034704</td>\n",
       "      <td>14.815558</td>\n",
       "      <td>2955.321308</td>\n",
       "      <td>48127.183128</td>\n",
       "      <td>1.003645e+07</td>\n",
       "      <td>96.260179</td>\n",
       "    </tr>\n",
       "    <tr>\n",
       "      <th>std</th>\n",
       "      <td>58.135717</td>\n",
       "      <td>5.772040</td>\n",
       "      <td>1458.224940</td>\n",
       "      <td>23812.213513</td>\n",
       "      <td>7.599356e+06</td>\n",
       "      <td>12.992262</td>\n",
       "    </tr>\n",
       "    <tr>\n",
       "      <th>min</th>\n",
       "      <td>100.014490</td>\n",
       "      <td>5.003008</td>\n",
       "      <td>513.706875</td>\n",
       "      <td>10156.971955</td>\n",
       "      <td>9.999462e+05</td>\n",
       "      <td>1.000000</td>\n",
       "    </tr>\n",
       "    <tr>\n",
       "      <th>25%</th>\n",
       "      <td>150.871296</td>\n",
       "      <td>9.692984</td>\n",
       "      <td>1798.247303</td>\n",
       "      <td>27626.929091</td>\n",
       "      <td>3.433810e+06</td>\n",
       "      <td>99.941129</td>\n",
       "    </tr>\n",
       "    <tr>\n",
       "      <th>50%</th>\n",
       "      <td>198.603371</td>\n",
       "      <td>14.832557</td>\n",
       "      <td>2678.277782</td>\n",
       "      <td>44611.452164</td>\n",
       "      <td>7.833390e+06</td>\n",
       "      <td>99.999997</td>\n",
       "    </tr>\n",
       "    <tr>\n",
       "      <th>75%</th>\n",
       "      <td>251.366552</td>\n",
       "      <td>19.749680</td>\n",
       "      <td>3929.058261</td>\n",
       "      <td>67805.443846</td>\n",
       "      <td>1.588251e+07</td>\n",
       "      <td>100.000000</td>\n",
       "    </tr>\n",
       "    <tr>\n",
       "      <th>max</th>\n",
       "      <td>299.992804</td>\n",
       "      <td>24.999132</td>\n",
       "      <td>7365.018714</td>\n",
       "      <td>103756.181544</td>\n",
       "      <td>2.699783e+07</td>\n",
       "      <td>100.000000</td>\n",
       "    </tr>\n",
       "  </tbody>\n",
       "</table>\n",
       "</div>"
      ],
      "text/plain": [
       "       Temperature (°C)  Pressure (kPa)  Temperature x Pressure  \\\n",
       "count       3957.000000     3957.000000             3957.000000   \n",
       "mean         200.034704       14.815558             2955.321308   \n",
       "std           58.135717        5.772040             1458.224940   \n",
       "min          100.014490        5.003008              513.706875   \n",
       "25%          150.871296        9.692984             1798.247303   \n",
       "50%          198.603371       14.832557             2678.277782   \n",
       "75%          251.366552       19.749680             3929.058261   \n",
       "max          299.992804       24.999132             7365.018714   \n",
       "\n",
       "       Material Fusion Metric  Material Transformation Metric  Quality Rating  \n",
       "count             3957.000000                    3.957000e+03     3957.000000  \n",
       "mean             48127.183128                    1.003645e+07       96.260179  \n",
       "std              23812.213513                    7.599356e+06       12.992262  \n",
       "min              10156.971955                    9.999462e+05        1.000000  \n",
       "25%              27626.929091                    3.433810e+06       99.941129  \n",
       "50%              44611.452164                    7.833390e+06       99.999997  \n",
       "75%              67805.443846                    1.588251e+07      100.000000  \n",
       "max             103756.181544                    2.699783e+07      100.000000  "
      ]
     },
     "execution_count": 94,
     "metadata": {},
     "output_type": "execute_result"
    }
   ],
   "source": [
    "df.describe()"
   ]
  },
  {
   "cell_type": "code",
   "execution_count": 95,
   "id": "67b14380-41e1-4791-9c69-0e6116612e82",
   "metadata": {
    "tags": []
   },
   "outputs": [],
   "source": [
    "X = df.drop('Quality Rating', axis=1)"
   ]
  },
  {
   "cell_type": "code",
   "execution_count": 96,
   "id": "a3a500fb-b59a-4073-bb0a-9d62d30b2b50",
   "metadata": {
    "tags": []
   },
   "outputs": [
    {
     "data": {
      "text/html": [
       "<div>\n",
       "<style scoped>\n",
       "    .dataframe tbody tr th:only-of-type {\n",
       "        vertical-align: middle;\n",
       "    }\n",
       "\n",
       "    .dataframe tbody tr th {\n",
       "        vertical-align: top;\n",
       "    }\n",
       "\n",
       "    .dataframe thead th {\n",
       "        text-align: right;\n",
       "    }\n",
       "</style>\n",
       "<table border=\"1\" class=\"dataframe\">\n",
       "  <thead>\n",
       "    <tr style=\"text-align: right;\">\n",
       "      <th></th>\n",
       "      <th>Temperature (°C)</th>\n",
       "      <th>Pressure (kPa)</th>\n",
       "      <th>Temperature x Pressure</th>\n",
       "      <th>Material Fusion Metric</th>\n",
       "      <th>Material Transformation Metric</th>\n",
       "    </tr>\n",
       "  </thead>\n",
       "  <tbody>\n",
       "    <tr>\n",
       "      <th>0</th>\n",
       "      <td>209.762701</td>\n",
       "      <td>8.050855</td>\n",
       "      <td>1688.769167</td>\n",
       "      <td>44522.217074</td>\n",
       "      <td>9.229576e+06</td>\n",
       "    </tr>\n",
       "    <tr>\n",
       "      <th>1</th>\n",
       "      <td>243.037873</td>\n",
       "      <td>15.812068</td>\n",
       "      <td>3842.931469</td>\n",
       "      <td>63020.764997</td>\n",
       "      <td>1.435537e+07</td>\n",
       "    </tr>\n",
       "    <tr>\n",
       "      <th>2</th>\n",
       "      <td>220.552675</td>\n",
       "      <td>7.843130</td>\n",
       "      <td>1729.823314</td>\n",
       "      <td>49125.950249</td>\n",
       "      <td>1.072839e+07</td>\n",
       "    </tr>\n",
       "    <tr>\n",
       "      <th>3</th>\n",
       "      <td>208.976637</td>\n",
       "      <td>23.786089</td>\n",
       "      <td>4970.736918</td>\n",
       "      <td>57128.881547</td>\n",
       "      <td>9.125702e+06</td>\n",
       "    </tr>\n",
       "    <tr>\n",
       "      <th>4</th>\n",
       "      <td>184.730960</td>\n",
       "      <td>15.797812</td>\n",
       "      <td>2918.345014</td>\n",
       "      <td>38068.201283</td>\n",
       "      <td>6.303792e+06</td>\n",
       "    </tr>\n",
       "    <tr>\n",
       "      <th>...</th>\n",
       "      <td>...</td>\n",
       "      <td>...</td>\n",
       "      <td>...</td>\n",
       "      <td>...</td>\n",
       "      <td>...</td>\n",
       "    </tr>\n",
       "    <tr>\n",
       "      <th>3952</th>\n",
       "      <td>156.811578</td>\n",
       "      <td>21.794290</td>\n",
       "      <td>3417.596965</td>\n",
       "      <td>34941.963896</td>\n",
       "      <td>3.855501e+06</td>\n",
       "    </tr>\n",
       "    <tr>\n",
       "      <th>3953</th>\n",
       "      <td>197.850406</td>\n",
       "      <td>8.291704</td>\n",
       "      <td>1640.516924</td>\n",
       "      <td>39714.857236</td>\n",
       "      <td>7.744742e+06</td>\n",
       "    </tr>\n",
       "    <tr>\n",
       "      <th>3954</th>\n",
       "      <td>241.357144</td>\n",
       "      <td>16.391910</td>\n",
       "      <td>3956.304672</td>\n",
       "      <td>62657.690952</td>\n",
       "      <td>1.405957e+07</td>\n",
       "    </tr>\n",
       "    <tr>\n",
       "      <th>3955</th>\n",
       "      <td>209.040239</td>\n",
       "      <td>23.809936</td>\n",
       "      <td>4977.234763</td>\n",
       "      <td>57195.985528</td>\n",
       "      <td>9.134036e+06</td>\n",
       "    </tr>\n",
       "    <tr>\n",
       "      <th>3956</th>\n",
       "      <td>163.359996</td>\n",
       "      <td>24.332133</td>\n",
       "      <td>3974.897121</td>\n",
       "      <td>41092.392901</td>\n",
       "      <td>4.358913e+06</td>\n",
       "    </tr>\n",
       "  </tbody>\n",
       "</table>\n",
       "<p>3957 rows × 5 columns</p>\n",
       "</div>"
      ],
      "text/plain": [
       "      Temperature (°C)  Pressure (kPa)  Temperature x Pressure  \\\n",
       "0           209.762701        8.050855             1688.769167   \n",
       "1           243.037873       15.812068             3842.931469   \n",
       "2           220.552675        7.843130             1729.823314   \n",
       "3           208.976637       23.786089             4970.736918   \n",
       "4           184.730960       15.797812             2918.345014   \n",
       "...                ...             ...                     ...   \n",
       "3952        156.811578       21.794290             3417.596965   \n",
       "3953        197.850406        8.291704             1640.516924   \n",
       "3954        241.357144       16.391910             3956.304672   \n",
       "3955        209.040239       23.809936             4977.234763   \n",
       "3956        163.359996       24.332133             3974.897121   \n",
       "\n",
       "      Material Fusion Metric  Material Transformation Metric  \n",
       "0               44522.217074                    9.229576e+06  \n",
       "1               63020.764997                    1.435537e+07  \n",
       "2               49125.950249                    1.072839e+07  \n",
       "3               57128.881547                    9.125702e+06  \n",
       "4               38068.201283                    6.303792e+06  \n",
       "...                      ...                             ...  \n",
       "3952            34941.963896                    3.855501e+06  \n",
       "3953            39714.857236                    7.744742e+06  \n",
       "3954            62657.690952                    1.405957e+07  \n",
       "3955            57195.985528                    9.134036e+06  \n",
       "3956            41092.392901                    4.358913e+06  \n",
       "\n",
       "[3957 rows x 5 columns]"
      ]
     },
     "execution_count": 96,
     "metadata": {},
     "output_type": "execute_result"
    }
   ],
   "source": [
    "X"
   ]
  },
  {
   "cell_type": "code",
   "execution_count": 97,
   "id": "39215da0-9a1f-4413-a373-a5445cb5fa1c",
   "metadata": {
    "tags": []
   },
   "outputs": [
    {
     "name": "stdout",
     "output_type": "stream",
     "text": [
      "R² на обучающей выборке: 0.99\n",
      "R² на тестовой выборке: 0.99\n"
     ]
    }
   ],
   "source": [
    "\n",
    "# Выделяем входные признаки и целевой признак\n",
    "X = df.drop('Quality Rating', axis=1)\n",
    "y = df['Quality Rating']\n",
    "\n",
    "# Разбиваем данные на обучающую и тестовую выборки (80/20, random_state=10)\n",
    "X_train, X_test, y_train, y_test = train_test_split(X, y, test_size=0.20, random_state=10)\n",
    "\n",
    "# Создаем pipeline: полиномизация признаков до 3-й степени + линейная регрессия\n",
    "pipeline = Pipeline([\n",
    "    ('poly', PolynomialFeatures(degree=5, include_bias=True, interaction_only=False)),\n",
    "    ('linreg', LinearRegression())\n",
    "])\n",
    "\n",
    "# Обучаем модель\n",
    "pipeline.fit(X_train, y_train)\n",
    "\n",
    "# Вычисляем метрику R² на обучающих и тестовых выборках\n",
    "r2_train = pipeline.score(X_train, y_train)\n",
    "r2_test = pipeline.score(X_test, y_test)\n",
    "\n",
    "print(\"R² на обучающей выборке:\", round(r2_train, 2))\n",
    "print(\"R² на тестовой выборке:\", round(r2_test, 2))"
   ]
  },
  {
   "cell_type": "code",
   "execution_count": 103,
   "id": "bdead331-6c27-4b9d-82cd-1a00c8a83625",
   "metadata": {
    "tags": []
   },
   "outputs": [
    {
     "name": "stdout",
     "output_type": "stream",
     "text": [
      "Alpha | R² (Train) | R² (Test)\n",
      "--------------------------------\n",
      "  0.0 |       0.00 |     -0.00\n",
      "  1.0 |       0.50 |      0.53\n",
      "  2.0 |       0.86 |      0.86\n",
      "  3.0 |       0.96 |      0.96\n",
      "  4.0 |       0.98 |      0.98\n",
      "  5.0 |       0.99 |      0.99\n",
      "  6.0 |       1.00 |      1.00\n",
      "  7.0 |       1.00 |      1.00\n",
      "  8.0 |       1.00 |      1.00\n",
      "  9.0 |       1.00 |      1.00\n",
      " 10.0 |       1.00 |      1.00\n",
      "\n",
      "Лучшая метрика R² на тестовой выборке: 1.0\n",
      "Коэффициент регуляризации (alpha): 10.0\n"
     ]
    }
   ],
   "source": [
    "results = []\n",
    "\n",
    "print(\"Alpha | R² (Train) | R² (Test)\")\n",
    "print(\"--------------------------------\")\n",
    "# Перебор параметра регуляризации alpha от 0 до 10\n",
    "for degree in [i for i in range(0, 11)]:\n",
    "    pipeline = Pipeline([\n",
    "        ('poly', PolynomialFeatures(degree=degree)),\n",
    "        ('linreg', LinearRegression())\n",
    "    ])\n",
    "    pipeline.fit(X_train, y_train)\n",
    "    r2_train = pipeline.score(X_train, y_train)\n",
    "    r2_test = pipeline.score(X_test, y_test)\n",
    "    results.append((alpha, r2_train, r2_test))\n",
    "    print(f\"{degree:5.1f} | {r2_train:10.2f} | {r2_test:9.2f}\")\n",
    "\n",
    "# Выбираем значение alpha с максимальным R² на тестовой выборке\n",
    "best_alpha, best_r2_train, best_r2_test = max(results, key=lambda x: x[2])\n",
    "print(\"\\nЛучшая метрика R² на тестовой выборке:\", round(best_r2_test, 3))\n",
    "print(\"Коэффициент регуляризации (alpha):\", best_alpha)"
   ]
  },
  {
   "cell_type": "code",
   "execution_count": null,
   "id": "f21a7200-c171-4268-b88d-0e1d00c7bd7e",
   "metadata": {},
   "outputs": [],
   "source": []
  }
 ],
 "metadata": {
  "kernelspec": {
   "display_name": "Python 3 (ipykernel)",
   "language": "python",
   "name": "python3"
  },
  "language_info": {
   "codemirror_mode": {
    "name": "ipython",
    "version": 3
   },
   "file_extension": ".py",
   "mimetype": "text/x-python",
   "name": "python",
   "nbconvert_exporter": "python",
   "pygments_lexer": "ipython3",
   "version": "3.12.3"
  }
 },
 "nbformat": 4,
 "nbformat_minor": 5
}
