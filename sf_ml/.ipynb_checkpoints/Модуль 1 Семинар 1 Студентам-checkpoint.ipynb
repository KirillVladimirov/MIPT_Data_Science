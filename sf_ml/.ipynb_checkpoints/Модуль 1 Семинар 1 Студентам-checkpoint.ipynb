{
 "cells": [
  {
   "cell_type": "code",
   "execution_count": null,
   "metadata": {
    "id": "xzInNoi-Pzpf"
   },
   "outputs": [],
   "source": []
  },
  {
   "cell_type": "markdown",
   "metadata": {
    "id": "fFYA7pYmZj7Z"
   },
   "source": [
    "# Содержание\n",
    "- [Numpy](#numpy)\n",
    "    - [Создание массивов](#arr)\n",
    "    - [Операции на массивах](#ops)\n",
    "    - [Работа с пропущенными значениями](#nans)\n",
    "    - [Индексация и поиск в массивах](#index)\n",
    "    - [Объединение массивов](#join)\n",
    "    - [Поиск внутри массивов](#search)\n",
    "    - [Обработка элементов по условию](#conds)\n",
    "    - [Cортировка массивов](#sort)\n",
    "    - [Сравнение массивов](#compar)\n",
    "    - [Математические операции](#math)\n",
    "    - [Функции линейной алгебры](#linalg)\n"
   ]
  },
  {
   "cell_type": "markdown",
   "metadata": {
    "id": "rMUxxSH1Zj7e"
   },
   "source": [
    " <a name='numpy'></a>\n",
    "# Numpy"
   ]
  },
  {
   "cell_type": "markdown",
   "metadata": {
    "id": "DcdkMD2yAp-f"
   },
   "source": [
    " <a name='1.1'></a>\n",
    "## Описание"
   ]
  },
  {
   "cell_type": "markdown",
   "metadata": {
    "id": "61kcHyXLZj7e"
   },
   "source": [
    "NumPy - это библиотека для языка программирования Python, которая предоставляет мощные инструменты для работы с массивами и матрицами данных. Она включает в себя функции для работы с линейной алгеброй, случайными числами, преобразованиями Фурье и многими другими математическими операциями.\n",
    "\n",
    "Основным компонентом NumPy является объект массива numpy.ndarray, который представляет собой многомерный массив элементов одного типа данных. Эти массивы могут иметь разные размерности и формы, и могут быть использованы для выполнения быстрых математических операций на больших объемах данных.\n",
    "\n",
    "NumPy также предоставляет множество функций для работы с массивами, таких как сортировка, индексация, решение уравнений, операции с логическими значениями и т.д. Библиотека также имеет множество инструментов для визуализации данных, в том числе инструменты для построения графиков и диаграмм.\n",
    "\n",
    "NumPy является ключевой библиотекой для научных вычислений и анализа данных на Python, и широко используется в областях, таких как машинное обучение, обработка изображений, обработка звука и многих других.\n",
    "\n",
    "Объект ndarray (N-dimensional array) в библиотеке NumPy представляет собой многомерный массив элементов одного типа данных, в то время как обычный list в Python может содержать элементы разных типов и не имеет поддержки для многомерных массивов.\n",
    "\n",
    "Вот несколько отличий между ndarray и list:\n",
    "\n",
    "1. ndarray может иметь фиксированные размеры и формы (т.е. количество элементов в каждом измерении), в то время как list может иметь произвольную длину и может содержать элементы разных типов.\n",
    "\n",
    "2. ndarray обеспечивает быстрый доступ к элементам массива, в то время как для доступа к элементам списка требуется выполнение поиска элемента по индексу.\n",
    "\n",
    "3. ndarray имеет поддержку для операций линейной алгебры и других математических операций над многомерными массивами, что делает его полезным для выполнения научных и инженерных вычислений. В то время как списки могут быть использованы для хранения и манипулирования данными различных типов, но они не предоставляют такой же функциональности для выполнения математических операций.\n",
    "\n",
    "4. ndarray обычно занимает меньше памяти, чем list, особенно если массив содержит большое количество элементов, т.к. все элементы ndarray имеют одинаковый тип данных и могут быть хранены в памяти более эффективно.\n",
    "\n",
    "В целом, ndarray является более эффективным и удобным инструментом для работы с многомерными массивами и выполнения научных вычислений, в то время как list может быть полезен для хранения и манипулирования данными различных типов и длин."
   ]
  },
  {
   "cell_type": "code",
   "execution_count": null,
   "metadata": {
    "colab": {
     "base_uri": "https://localhost:8080/"
    },
    "executionInfo": {
     "elapsed": 3,
     "status": "ok",
     "timestamp": 1735013395471,
     "user": {
      "displayName": "Ekaterina Gracheva",
      "userId": "10986220086375316979"
     },
     "user_tz": -540
    },
    "id": "UzGtqNWkZj7g",
    "outputId": "208c1aa6-9647-458a-ec41-41148702f107"
   },
   "outputs": [],
   "source": [
    "import numpy as np\n",
    "print(dir(np))"
   ]
  },
  {
   "cell_type": "markdown",
   "metadata": {
    "id": "4nvW3p5ZZj7i"
   },
   "source": [
    " <a name='arr'></a>\n",
    "Создание массивов"
   ]
  },
  {
   "cell_type": "code",
   "execution_count": null,
   "metadata": {
    "colab": {
     "base_uri": "https://localhost:8080/"
    },
    "executionInfo": {
     "elapsed": 71,
     "status": "ok",
     "timestamp": 1698212662736,
     "user": {
      "displayName": "Sergey Korpachev",
      "userId": "09181340988160569540"
     },
     "user_tz": -180
    },
    "id": "dbMoBojDZj7j",
    "outputId": "63976a1a-8516-460a-a6ea-e07498bf1ff6"
   },
   "outputs": [],
   "source": [
    "# Создание массива ndarray из списка\n",
    "arr = np.array([1, 2, 3, 4, 5])\n",
    "print(arr) # [1 2 3 4 5]\n",
    "print(type(arr)) # <class 'numpy.ndarray'>\n",
    "\n",
    "# Создание списка\n",
    "lst = [1, 2, 3, 4, 5]\n",
    "print(lst) # [1, 2, 3, 4, 5]\n",
    "print(type(lst)) # <class 'list'>\n",
    "\n",
    "# Доступ к элементам массива\n",
    "print(arr[0]) # 1\n",
    "\n",
    "# Доступ к элементам списка\n",
    "print(lst[0]) # 1\n",
    "\n",
    "# Изменение элемента массива\n",
    "arr[0] = 0\n",
    "print(arr) # [0 2 3 4 5]\n",
    "\n",
    "# Изменение элемента списка\n",
    "lst[0] = 0\n",
    "print(lst) # [0, 2, 3, 4, 5]\n",
    "\n",
    "# Сложение элементов массива\n",
    "print(arr + arr) # [0 4 6 8 10]\n",
    "\n",
    "# Сложение элементов списка\n",
    "print(lst + lst) # [0, 2, 3, 4, 5, 0, 2, 3, 4, 5]\n",
    "\n",
    "# Умножение элементов массива\n",
    "print(arr * 2) # [ 0  4  6  8 10]\n",
    "\n",
    "# Умножение элементов списка\n",
    "print(lst * 2) # [0, 2, 3, 4, 5, 0, 2, 3, 4, 5]"
   ]
  },
  {
   "cell_type": "code",
   "execution_count": null,
   "metadata": {
    "colab": {
     "base_uri": "https://localhost:8080/"
    },
    "executionInfo": {
     "elapsed": 62,
     "status": "ok",
     "timestamp": 1698212662736,
     "user": {
      "displayName": "Sergey Korpachev",
      "userId": "09181340988160569540"
     },
     "user_tz": -180
    },
    "id": "2O8wYB2hZj7j",
    "outputId": "2bb7ff8f-baa5-4c9d-d7e9-ac3a0a7ddc40"
   },
   "outputs": [],
   "source": [
    "# Создание двумерного массива\n",
    "arr = np.array([[1, 2, 3], [4, 5, 6]])\n",
    "print(\"Создание двумерного массива:\\n\", arr)\n",
    "\n",
    "# Получение формы массива\n",
    "shape = arr.shape\n",
    "print(\"Получение формы массива:\\n\", shape)  # (2, 3)\n",
    "\n",
    "# Получение количества измерений\n",
    "ndim = arr.ndim\n",
    "print(\"Получение количества измерений:\\n\", ndim)  # 2\n",
    "\n",
    "# Получение общего количества элементов\n",
    "size = arr.size\n",
    "print(\"Получение общего количества элементов:\\n\", size)  # 6\n",
    "\n",
    "# Получение типа данных элементов массива\n",
    "dtype = arr.dtype\n",
    "print(\"Получение типа данных элементов массива:\\n\", dtype) # int64"
   ]
  },
  {
   "cell_type": "code",
   "execution_count": null,
   "metadata": {
    "colab": {
     "base_uri": "https://localhost:8080/"
    },
    "executionInfo": {
     "elapsed": 56,
     "status": "ok",
     "timestamp": 1698212662736,
     "user": {
      "displayName": "Sergey Korpachev",
      "userId": "09181340988160569540"
     },
     "user_tz": -180
    },
    "id": "h0L61y5dZj7k",
    "outputId": "c6e0b68f-a426-49a4-d919-0e1a6184e785"
   },
   "outputs": [],
   "source": [
    "# Создание трехмерного массива\n",
    "arr_3d = np.array([[[1, 2], [3, 4]], [[5, 6], [7, 8]]])\n",
    "print(\"Создание трехмерного массива:\\n\", arr_3d)\n",
    "\n",
    "# Получение формы массива\n",
    "shape = arr_3d.shape\n",
    "print(\"Получение формы массива:\\n\", shape)  # (2, 2, 2)\n",
    "\n",
    "# Получение количества измерений\n",
    "ndim = arr_3d.ndim\n",
    "print(\"Получение количества измерений:\\n\", ndim)  # 3\n",
    "\n",
    "# Получение общего количества элементов\n",
    "size = arr_3d.size\n",
    "print(\"Получение общего количества элементов:\\n\", size)  # 8\n",
    "\n",
    "# Получение типа данных элементов массива\n",
    "dtype = arr_3d.dtype\n",
    "print(\"Получение типа данных элементов массива:\\n\", dtype) # int64"
   ]
  },
  {
   "cell_type": "code",
   "execution_count": null,
   "metadata": {
    "colab": {
     "base_uri": "https://localhost:8080/"
    },
    "executionInfo": {
     "elapsed": 51,
     "status": "ok",
     "timestamp": 1698212662737,
     "user": {
      "displayName": "Sergey Korpachev",
      "userId": "09181340988160569540"
     },
     "user_tz": -180
    },
    "id": "_OcEdk3kZj7l",
    "outputId": "79be9e63-60ff-40d4-974a-7de165c71115"
   },
   "outputs": [],
   "source": [
    "# Создание массива из 10 нулей\n",
    "print(\"Массив нулей:\\n\", np.zeros(10))\n",
    "\n",
    "# Создание массива из 10 единиц\n",
    "print(\"Массив единиц:\\n\", np.ones(10))"
   ]
  },
  {
   "cell_type": "code",
   "execution_count": null,
   "metadata": {
    "colab": {
     "base_uri": "https://localhost:8080/"
    },
    "executionInfo": {
     "elapsed": 45,
     "status": "ok",
     "timestamp": 1698212662737,
     "user": {
      "displayName": "Sergey Korpachev",
      "userId": "09181340988160569540"
     },
     "user_tz": -180
    },
    "id": "_4-Cj9gDZj7l",
    "outputId": "fa0d09f8-03bc-4134-a081-e17b408153b5"
   },
   "outputs": [],
   "source": [
    "# Повторение числа 10 пять раз в массиве\n",
    "print(\"Повторение числа 10 пять раз в массиве:\\n\", np.repeat(10,5))\n",
    "\n",
    "# Повторение каждого элемента в массиве 'a' три раза\n",
    "a= np.array([10,20,30])\n",
    "print(\"Повторение каждого элемента в массиве 'a' три раза:\\n\", np.repeat(a,3))\n",
    "\n",
    "# Создание массива из числа 10\n",
    "print(\"Массив из числа 10:\\n\", np.full(5,10))"
   ]
  },
  {
   "cell_type": "code",
   "execution_count": null,
   "metadata": {
    "colab": {
     "base_uri": "https://localhost:8080/"
    },
    "executionInfo": {
     "elapsed": 38,
     "status": "ok",
     "timestamp": 1698212662737,
     "user": {
      "displayName": "Sergey Korpachev",
      "userId": "09181340988160569540"
     },
     "user_tz": -180
    },
    "id": "L-xoyv14Zj7m",
    "outputId": "58b44601-b2b0-41b3-f462-9611b367170a"
   },
   "outputs": [],
   "source": [
    "# Создание массива нечетных чисел от 1 до 19\n",
    "ar1 = np.arange(1,20)\n",
    "print(\"Массив нечетных чисел:\\n\", ar1[ar1%2 ==1])\n",
    "\n",
    "# Создание массива четных чисел от 2 до 20\n",
    "ar1 = np.arange(1,20)\n",
    "print(\"Массив четных чисел:\\n\", ar1[ar1%2 == 0])\n",
    "\n",
    "# Генерация четырех равномерно распределенных чисел в диапазоне от 10 до 20\n",
    "print(\"Генерация четырех равномерно распределенных чисел в диапазоне от 10 до 20:\\n\", np.linspace(10,20,4))\n",
    "\n",
    "# Генерация одиннадцати равномерно распределенных чисел в диапазоне от 10 до 20\n",
    "print(\"Генерация одиннадцати равномерно распределенных чисел в диапазоне от 10 до 20:\\n\", np.linspace(10,20,11))"
   ]
  },
  {
   "cell_type": "code",
   "execution_count": null,
   "metadata": {
    "colab": {
     "base_uri": "https://localhost:8080/"
    },
    "executionInfo": {
     "elapsed": 33,
     "status": "ok",
     "timestamp": 1698212662737,
     "user": {
      "displayName": "Sergey Korpachev",
      "userId": "09181340988160569540"
     },
     "user_tz": -180
    },
    "id": "r1KdhI5cZj7n",
    "outputId": "047d74f9-02ec-4737-caba-4c462b4e00c9"
   },
   "outputs": [],
   "source": [
    "# Создание массива из четырех случайных значений\n",
    "print(\"Массив случайных значений:\\n\", np.random.random(4))\n",
    "\n",
    "# Генерация массива из пяти случайных целых чисел в диапазоне от 0 до 499\n",
    "print(\"Генерация массива из пяти случайных целых чисел в диапазоне от 0 до 499:\\n\", np.random.randint(0,500,5))\n",
    "\n",
    "# Генерация массива из десяти случайных целых чисел в диапазоне от 0 до 499\n",
    "print(\"Генерация массива из десяти случайных целых чисел в диапазоне от 0 до 499:\\n\", np.random.randint(0,500,10))"
   ]
  },
  {
   "cell_type": "code",
   "execution_count": null,
   "metadata": {
    "colab": {
     "base_uri": "https://localhost:8080/"
    },
    "executionInfo": {
     "elapsed": 262,
     "status": "ok",
     "timestamp": 1735013467631,
     "user": {
      "displayName": "Ekaterina Gracheva",
      "userId": "10986220086375316979"
     },
     "user_tz": -540
    },
    "id": "Wgxi2lyMZj7n",
    "outputId": "0a8c7dad-be79-4d70-d8e9-12fc2e180183"
   },
   "outputs": [],
   "source": [
    "# С помощью random.seed можно генерировать один и тот же массив случайных чисел\n",
    "np.random.seed(0)\n",
    "print(\"Генерация массива случайных целых чисел от 0 до 99 с помощью random.seed:\\n\", np.random.randint(0,100,10))\n",
    "np.random.seed(0)\n",
    "print(\"Генерация массива случайных целых чисел от 0 до 99 с помощью random.seed:\\n\", np.random.randint(0,100,10))\n",
    "\n",
    "np.random.seed(1)\n",
    "print(\"Генерация массива случайных целых чисел от 0 до 99 с помощью random.seed:\\n\", np.random.randint(0,100,10))\n",
    "np.random.seed(1)\n",
    "print(\"Генерация массива случайных целых чисел от 0 до 99 с помощью random.seed:\\n\", np.random.randint(0,100,10))\n",
    "# Повторение той же команды без перезадания seed даст другой результат\n",
    "print(\"Генерация массива случайных целых чисел от 0 до 99 с помощью random.seed:\\n\", np.random.randint(0,100,10))"
   ]
  },
  {
   "cell_type": "code",
   "execution_count": null,
   "metadata": {
    "colab": {
     "base_uri": "https://localhost:8080/"
    },
    "executionInfo": {
     "elapsed": 22,
     "status": "ok",
     "timestamp": 1698212662738,
     "user": {
      "displayName": "Sergey Korpachev",
      "userId": "09181340988160569540"
     },
     "user_tz": -180
    },
    "id": "25KymlPqZj7o",
    "outputId": "dd5dcc34-5157-4ee1-ecd7-357c70488066"
   },
   "outputs": [],
   "source": [
    "# Создание массива случайных чисел с плавающей запятой\n",
    "print(\"Генерация массива случайных чисел с плавающей запятой от 5 до 10 с помощью random.uniform:\\n\", np.random.uniform(5,10, size=(10)))\n",
    "\n",
    "# Нормальное распределение (среднее значение=0 и дисперсия=1)\n",
    "print(\"\\nНормальное распределение:\", np.random.randn(10))"
   ]
  },
  {
   "cell_type": "code",
   "execution_count": null,
   "metadata": {
    "colab": {
     "base_uri": "https://localhost:8080/"
    },
    "executionInfo": {
     "elapsed": 224,
     "status": "ok",
     "timestamp": 1735027215744,
     "user": {
      "displayName": "Ekaterina Gracheva",
      "userId": "10986220086375316979"
     },
     "user_tz": -540
    },
    "id": "4v8msxalk6v9",
    "outputId": "8d3fe5dc-02fb-4260-b723-877e31d843e5"
   },
   "outputs": [],
   "source": [
    "# Создание массива целых чисел от 1 до 5\n",
    "a = np.arange(1,6)\n",
    "print(\"Исходный массив a: \")\n",
    "print(a)\n",
    "\n",
    "print(\"Случайный выбор 3 элементов из массива с повторениями: \")\n",
    "with_replacement = np.random.choice(a, size=3, replace=True)\n",
    "print(with_replacement)\n",
    "\n",
    "print(\"Случайный выбор 3 элементов из массива без повторений: \")\n",
    "without_replacement = np.random.choice(a, size=3, replace=False)\n",
    "print(without_replacement)"
   ]
  },
  {
   "cell_type": "markdown",
   "metadata": {
    "id": "CrUbPpvqZj7p"
   },
   "source": [
    " <a name='ops'></a>\n",
    "Операции на массивах"
   ]
  },
  {
   "cell_type": "code",
   "execution_count": null,
   "metadata": {
    "colab": {
     "base_uri": "https://localhost:8080/"
    },
    "executionInfo": {
     "elapsed": 830,
     "status": "ok",
     "timestamp": 1698212663552,
     "user": {
      "displayName": "Sergey Korpachev",
      "userId": "09181340988160569540"
     },
     "user_tz": -180
    },
    "id": "GViIZv4gZj7o",
    "outputId": "1bfd6a2f-20ed-4a90-eb96-57957a229b41"
   },
   "outputs": [],
   "source": [
    "# Извлечение целой части\n",
    "print(\"Целая часть:\", np.floor(np.random.uniform(5,10, size=(10))))\n",
    "\n",
    "# Отбрасывание десятичной части\n",
    "print(\"\\nОтбрасывание десятичной части:\", np.trunc(np.random.uniform(5,10, size=(10))))\n",
    "\n",
    "# Преобразование массива с плавающей запятой в массив целых чисел\n",
    "print(\"\\nПреобразование массива:\", np.random.uniform(5,10, size=(10)).astype(int))"
   ]
  },
  {
   "cell_type": "code",
   "execution_count": null,
   "metadata": {
    "colab": {
     "base_uri": "https://localhost:8080/"
    },
    "executionInfo": {
     "elapsed": 542,
     "status": "ok",
     "timestamp": 1734960324391,
     "user": {
      "displayName": "Ekaterina Gracheva",
      "userId": "10986220086375316979"
     },
     "user_tz": -540
    },
    "id": "XQ9V38rVZj7p",
    "outputId": "65182eba-c883-44bd-a916-8411bd3ebbe1"
   },
   "outputs": [],
   "source": [
    "# Перечисление элементов Numpy массивов\n",
    "print(\"\\nПеречисление элементов массива:\")\n",
    "for index, value in enumerate(np.random.randn(10)):\n",
    "    print(index, value)"
   ]
  },
  {
   "cell_type": "code",
   "execution_count": null,
   "metadata": {
    "colab": {
     "base_uri": "https://localhost:8080/"
    },
    "executionInfo": {
     "elapsed": 247,
     "status": "ok",
     "timestamp": 1735014341726,
     "user": {
      "displayName": "Ekaterina Gracheva",
      "userId": "10986220086375316979"
     },
     "user_tz": -540
    },
    "id": "F1_HLokPZj7q",
    "outputId": "2337cee0-dbd8-42b1-fe74-61ad0509301a"
   },
   "outputs": [],
   "source": [
    "arr2 = np.arange(1,20)\n",
    "print(\"Массив arr2:\")\n",
    "print(arr2)\n",
    "\n",
    "# Сумма всех элементов в массиве\n",
    "print(\"Сумма всех элементов в массиве arr2:\")\n",
    "print(arr2.sum())\n",
    "\n",
    "# Кумулятивная сумма элементов массива\n",
    "print(\"Кумулятивная сумма элементов массива arr2:\")\n",
    "print(np.cumsum(arr2))"
   ]
  },
  {
   "cell_type": "code",
   "execution_count": null,
   "metadata": {
    "colab": {
     "base_uri": "https://localhost:8080/"
    },
    "executionInfo": {
     "elapsed": 341,
     "status": "ok",
     "timestamp": 1735014343513,
     "user": {
      "displayName": "Ekaterina Gracheva",
      "userId": "10986220086375316979"
     },
     "user_tz": -540
    },
    "id": "f0mCca-XZj7q",
    "outputId": "1ade357b-a161-4708-e544-2dc01911e17e"
   },
   "outputs": [],
   "source": [
    "# Поиск минимального числа в массиве\n",
    "print(\"Минимальное число в массиве arr2:\")\n",
    "print(arr2.min())\n",
    "\n",
    "# Поиск максимального числа в массиве\n",
    "print(\"Максимальное число в массиве arr2:\")\n",
    "print(arr2.max())\n",
    "\n",
    "# Поиск индекса минимального числа в массиве\n",
    "print(\"Индекс минимального числа в массиве arr2:\")\n",
    "print(arr2.argmin())\n",
    "\n",
    "# Поиск индекса максимального числа в массиве\n",
    "print(\"Индекс максимального числа в массиве arr2:\")\n",
    "print(arr2.argmax())"
   ]
  },
  {
   "cell_type": "code",
   "execution_count": null,
   "metadata": {
    "colab": {
     "base_uri": "https://localhost:8080/"
    },
    "executionInfo": {
     "elapsed": 218,
     "status": "ok",
     "timestamp": 1735027365705,
     "user": {
      "displayName": "Ekaterina Gracheva",
      "userId": "10986220086375316979"
     },
     "user_tz": -540
    },
    "id": "TEvONQcNZj7r",
    "outputId": "44a72658-b210-4a3d-8847-72ecc3aa5932"
   },
   "outputs": [],
   "source": [
    "# Поиск среднего значения всех чисел в массиве\n",
    "print(\"Среднее значение всех чисел в массиве arr2:\")\n",
    "print(arr2.mean())\n",
    "\n",
    "# Поиск медианы всех чисел в массиве arr2\n",
    "print(\"Медиана всех чисел в массиве arr2:\")\n",
    "print(np.median(arr2))\n",
    "\n",
    "# Дисперсия\n",
    "print(\"Дисперсия массива arr2:\")\n",
    "print(np.var(arr2))\n",
    "\n",
    "# Стандартное отклонение\n",
    "print(\"Стандартное отклонение массива arr2:\")\n",
    "print(np.std(arr2))\n",
    "\n",
    "# Рассчет процентилей\n",
    "print(\"70-й процентиль массива arr2:\")\n",
    "print(np.percentile(arr2,70))\n",
    "\n",
    "# Рассчет 10-го и 70-го процентилей\n",
    "print(\"10-й и 70-й процентили массива arr2:\")\n",
    "print(np.percentile(arr2,[10,70]))"
   ]
  },
  {
   "cell_type": "code",
   "execution_count": null,
   "metadata": {
    "colab": {
     "base_uri": "https://localhost:8080/"
    },
    "executionInfo": {
     "elapsed": 485,
     "status": "ok",
     "timestamp": 1734960430442,
     "user": {
      "displayName": "Ekaterina Gracheva",
      "userId": "10986220086375316979"
     },
     "user_tz": -540
    },
    "id": "-eWN2sj8Zj7r",
    "outputId": "b2a6e1c7-a42e-4ed1-9f80-ea0474d09960"
   },
   "outputs": [],
   "source": [
    "A = np.array([[1,2,3,4] , [5,6,7,8] , [10 , 11 , 25 ,3] , [14,15,16,33]])\n",
    "print(A)\n",
    "# Сумма всех чисел в 2D массиве\n",
    "print(\"Сумма всех чисел в 2D массиве:\", A.sum())\n",
    "# Максимальное число в 2D массиве\n",
    "print(\"Максимальное число в 2D массиве:\", A.max())\n",
    "# Минимальное число в 2D массиве\n",
    "print(\"Минимальное число в 2D массиве:\", A.min())\n",
    "# Минимальное значение в столбцах\n",
    "print(\"Минимальное значение в столбцах:\", np.amin(A, axis=0))\n",
    "# Минимальное значение в строках\n",
    "print(\"Минимальное значение в строках:\", np.amin(A, axis=1))\n",
    "# Среднее значение всех чисел в 2D массиве\n",
    "print(\"Среднее значение всех чисел в 2D массиве:\", A.mean())\n",
    "# Среднее значение\n",
    "print(\"Среднее значение:\", np.mean(A))\n",
    "# Медиана\n",
    "print(\"Медиана:\", np.median(A))\n",
    "# 50-й процентиль = Медиана\n",
    "print(\"50-й процентиль = Медиана:\", np.percentile(A,50))\n",
    "# Дисперсия\n",
    "print(\"Дисперсия:\", np.var(A))\n",
    "# Стандартное отклонение\n",
    "print(\"Стандартное отклонение:\", np.std(A))\n",
    "# Расчет перцентилей\n",
    "print(\"75-й процентиль:\", np.percentile(A,75))\n",
    "# Расчет 10-го и 70-го процентилей\n",
    "print(\"25-й и 75-й процентили:\", np.percentile(A,[25,75]))\n",
    "# Перечисление элементов Numpy 2D массива\n",
    "print(\"Перечисление элементов Numpy 2D массива с помощью np.ndenumerate():\")\n",
    "for index, value in np.ndenumerate(A):\n",
    "    print(index, value)"
   ]
  },
  {
   "cell_type": "markdown",
   "metadata": {
    "id": "_xTCgGUGZj7s"
   },
   "source": [
    " <a name='index'></a>\n",
    "Индексация и поиск в массивах"
   ]
  },
  {
   "cell_type": "code",
   "execution_count": null,
   "metadata": {
    "colab": {
     "base_uri": "https://localhost:8080/"
    },
    "executionInfo": {
     "elapsed": 69,
     "status": "ok",
     "timestamp": 1698212663554,
     "user": {
      "displayName": "Sergey Korpachev",
      "userId": "09181340988160569540"
     },
     "user_tz": -180
    },
    "id": "Hff6BFbMZj7s",
    "outputId": "299b8ef6-411d-4dae-9c34-be8446f31241"
   },
   "outputs": [],
   "source": [
    "# Чтение элементов массива\n",
    "a = np.array([9,5,1,3,6,2])\n",
    "# Получение первого элемента массива\n",
    "print(\"Получение первого элемента массива\", a[0])\n",
    "# Получение всех элементов массива, кроме первого\n",
    "print(\"Получение всех элементов массива, кроме первого\", a[1:])\n",
    "# Получение 2-го, 3-го и 4-го значения из массива\n",
    "print(\"Получение 2-го, 3-го и 4-го значения из массива\", a[1:4])\n",
    "# Получение последнего элемента массива\n",
    "print(\"Получение последнего элемента массива\", a[-1])\n",
    "# Получение 3-го с конца элемента массива\n",
    "print(\"Получение 3-го с конца элемента массива\", a[-3])\n",
    "# Получение среза массива от 3-го до последнего\n",
    "print(\"Получение среза массива от 3-го до последнего\", a[-3:-1])\n",
    "# Замена элементов в массиве\n",
    "ar = np.arange(1,20)\n",
    "# Замена четных чисел на 0\n",
    "rep1 = np.where(ar % 2 == 0, 0 , ar)\n",
    "print(\"Замена четных чисел на 0\", rep1)\n",
    "ar2 = np.array([10, 20 , 30 , 10 ,10 ,20, 20])\n",
    "# Замена числа 10 на 99\n",
    "rep2 = np.where(ar2 == 10, 99 , ar2)\n",
    "print(\"Замена числа 10 на 99\", rep2)\n",
    "p2 = np.arange(0,100,10)\n",
    "# Замена значений с индексом 0, 3, 5 на 33, 55, 99\n",
    "np.put(p2, [0, 3 , 5], [33, 55, 99])\n",
    "print(\"Замена значений с индексом 0, 3, 5 на 33, 55, 99\", p2)"
   ]
  },
  {
   "cell_type": "markdown",
   "metadata": {
    "id": "aiDoVKANZj7t"
   },
   "source": [
    " <a name='nans'></a>\n",
    "Работа с пропущенными значениями"
   ]
  },
  {
   "cell_type": "code",
   "execution_count": null,
   "metadata": {
    "colab": {
     "base_uri": "https://localhost:8080/"
    },
    "executionInfo": {
     "elapsed": 63,
     "status": "ok",
     "timestamp": 1698212663554,
     "user": {
      "displayName": "Sergey Korpachev",
      "userId": "09181340988160569540"
     },
     "user_tz": -180
    },
    "id": "CdqG60aQZj7t",
    "outputId": "05a1f0ba-381c-4cad-d3e8-cba0de526823"
   },
   "outputs": [],
   "source": [
    "# Пропущенные значения в массиве\n",
    "a = np.array([3 ,np.nan,9,5,7,np.nan,11,np.inf])\n",
    "print(\"Пропущенные значения в массиве\",a)\n",
    "\n",
    "# Поиск пропущенных значений и возврат их в виде булевого массива\n",
    "print(\"Поиск пропущенных значений и возврат их в виде булевого массива\",np.isnan(a))\n",
    "\n",
    "# Индекс пропущенных значений в массиве\n",
    "print(\"Индекс пропущенных значений в массиве\",np.where(np.isnan(a)))\n",
    "\n",
    "# Замена всех пропущенных значений на 100\n",
    "a[np.isnan(a)] = 100\n",
    "print(\"Замена всех пропущенных значений на 100\",a)\n",
    "\n",
    "# Проверка наличия NULL значений в массиве\n",
    "print(\"Проверка наличия NULL значений в массиве\\n\",np.isnan(a).any())\n",
    "\n",
    "# 2D массив\n",
    "\n",
    "A = np.array([[1,2,np.nan,4] , [np.nan,6,7,8] , [9 , np.nan , 11 ,12] , [13,14,15,16]])\n",
    "print(\"2D массив:\\n\", A)\n",
    "\n",
    "# Поиск пропущенных значений и возврат их в виде булевого массива\n",
    "print(\"Поиск пропущенных значений и возврат их в виде булевого массива\\n\",np.isnan(A))\n",
    "\n",
    "# Индекс пропущенных значений в массиве\n",
    "print(\"Индекс пропущенных значений в массиве\\n\", np.where(np.isnan(A)))"
   ]
  },
  {
   "cell_type": "markdown",
   "metadata": {
    "id": "Vo0aTaugZj7t"
   },
   "source": [
    " <a name='join'></a>\n",
    "Объединение массивов"
   ]
  },
  {
   "cell_type": "code",
   "execution_count": null,
   "metadata": {
    "colab": {
     "base_uri": "https://localhost:8080/"
    },
    "executionInfo": {
     "elapsed": 56,
     "status": "ok",
     "timestamp": 1698212663554,
     "user": {
      "displayName": "Sergey Korpachev",
      "userId": "09181340988160569540"
     },
     "user_tz": -180
    },
    "id": "VPoDBatYZj7u",
    "outputId": "8718a7c6-b586-4f6b-b98b-ab533915176a"
   },
   "outputs": [],
   "source": [
    "# Создание массивов\n",
    "a = np.array([1,2,3])\n",
    "b = np.array([4,5,6])\n",
    "c = np.array([7,8,9])\n",
    "\n",
    "# Вертикальное объединение массивов\n",
    "vertical_stack = np.vstack((a,b,c))\n",
    "print(\"Вертикальное объединение массивов:\\n\", vertical_stack)\n",
    "\n",
    "# Горизонтальное объединение массивов\n",
    "horizontal_stack = np.hstack((a,b,c))\n",
    "print(\"Горизонтальное объединение массивов:\\n\", horizontal_stack)"
   ]
  },
  {
   "cell_type": "markdown",
   "metadata": {
    "id": "-woPo1TrZj7u"
   },
   "source": [
    " <a name='search'></a>\n",
    "Поиск внутри массивов"
   ]
  },
  {
   "cell_type": "code",
   "execution_count": null,
   "metadata": {
    "colab": {
     "base_uri": "https://localhost:8080/"
    },
    "executionInfo": {
     "elapsed": 50,
     "status": "ok",
     "timestamp": 1698212663554,
     "user": {
      "displayName": "Sergey Korpachev",
      "userId": "09181340988160569540"
     },
     "user_tz": -180
    },
    "id": "sp6_laykZj7v",
    "outputId": "13520a48-ca4d-466a-bc0e-ce71fd17e2b2"
   },
   "outputs": [],
   "source": [
    "# Создаем два массива\n",
    "c1 = np.array([1,2,3,4,5,6])\n",
    "c2 = np.array([12,2,33,4,55,6])\n",
    "\n",
    "# Находим общие элементы между двумя массивами\n",
    "common_items = np.intersect1d(c1,c2)\n",
    "print(\"Общие элементы массивов:\", common_items)\n",
    "\n",
    "# Удаляем общие элементы из первого массива\n",
    "c1_without_common = np.setdiff1d(c1,c2)\n",
    "print(\"Первый массив без общих элементов:\", c1_without_common)"
   ]
  },
  {
   "cell_type": "markdown",
   "metadata": {
    "id": "oBAV68QaZj7w"
   },
   "source": [
    " <a name='conds'></a>\n",
    "Обработка элементов по условию"
   ]
  },
  {
   "cell_type": "code",
   "execution_count": null,
   "metadata": {
    "colab": {
     "base_uri": "https://localhost:8080/"
    },
    "executionInfo": {
     "elapsed": 44,
     "status": "ok",
     "timestamp": 1698212663554,
     "user": {
      "displayName": "Sergey Korpachev",
      "userId": "09181340988160569540"
     },
     "user_tz": -180
    },
    "id": "LNVElqt4Zj7w",
    "outputId": "c7488e2e-9f6d-455f-e5c1-33b5e84664fc"
   },
   "outputs": [],
   "source": [
    "# Пример использования функции np.where для работы с условиями\n",
    "a = np.array([1,2,3,6,8])\n",
    "b = np.array([10,2,30,60,8])\n",
    "\n",
    "# Ищем индексы элементов, где условие a == b выполнено\n",
    "print(\"Ищем индексы элементов, где условие a == b выполнено\\n\", np.where(a == b))\n",
    "\n",
    "# Выводим элементы массива а, где условие a == b выполнено\n",
    "print(\"Выводим элементы массива а, где условие a == b выполнено\\n\", a[np.where(a == b)])\n",
    "\n",
    "# Создаем массив a1 от 0 до 59 и выводим все элементы, где условие (a1 > 20) & (a1 < 35) выполнено\n",
    "a1 = np.arange(0,60)\n",
    "a1[np.where ((a1>20) & (a1<35))]\n",
    "print(\"Создаем массив a1 от 0 до 59 и выводим все элементы, где условие (a1 > 20) & (a1 < 35) выполнено\\n\", a1[np.where ((a1>20) & (a1<35))])\n",
    "\n",
    "# Создаем массив a1 от 0 до 59 и выводим все элементы, где условие ((a1 > 20) & (a1 < 35)) | (a1 % 10 ==0) выполнено\n",
    "a1 = np.arange(0,60)\n",
    "a1[np.where (((a1>20) & (a1<35)) | (a1 % 10 ==0))]\n",
    "print(\"Создаем массив a1 от 0 до 59 и выводим все элементы, где условие ((a1 > 20) & (a1 < 35)) | (a1 % 10 ==0) выполнено\\n\", a1[np.where (((a1>20) & (a1<35)) | (a1 % 10 ==0))])\n",
    "\n",
    "# Создаем массив a1 от 0 до 59 и выводим все элементы, где условие (a1 > 20) & (a1 < 35) выполнено с помощью функции np.logical_and\n",
    "a1[np.where(np.logical_and(a1>20, a1<35))]\n",
    "print(\"Создаем массив a1 от 0 до 59 и выводим все элементы, где условие (a1 > 20) & (a1 < 35) выполнено с помощью функции np.logical_and\\n\",\n",
    "     a1[np.where(np.logical_and(a1>20, a1<35))])\n",
    "\n",
    "# Проверка наличия элементов в массиве с помощью функции np.isin()\n",
    "a = np.array([10,20,30,40,50,60,70])\n",
    "print(\"Массив a: \", a)\n",
    "\n",
    "# Проверяем, есть ли числа 11 и 20 в массиве\n",
    "print(\"Есть ли числа 11 и 20 в массиве a: \", np.isin(a, [11,20]))\n",
    "\n",
    "# Выводим числа, которые совпали с 20\n",
    "print(\"Числа из массива a, которые совпали с 20: \", a[np.isin(a,20)])\n",
    "\n",
    "# Проверяем, есть ли число 33 в массиве\n",
    "print(\"Есть ли число 33 в массиве a: \", np.isin(a, 33))\n",
    "\n",
    "# Выводим число, которое совпало с 33 (если такое есть)\n",
    "print(\"Число из массива a, которое совпало с 33: \", a[np.isin(a, 33)])\n",
    "\n",
    "b = np.array([10,20,30,40,10,10,70,80,70,90])\n",
    "print(\"Массив b: \", b)\n",
    "\n",
    "# Проверяем, есть ли числа 10 и 70 в массиве\n",
    "print(\"Есть ли числа 10 и 70 в массиве b: \", np.isin(b, [10,70]))\n",
    "\n",
    "# Выводим индексы, где совпадение было найдено\n",
    "print(\"Индексы элементов из массива b, которые совпали с числами 10 и 70: \", np.where(np.isin(b, [10,70])))\n",
    "\n",
    "# Выводим значения, которые совпали с числами 10 и 70\n",
    "print(\"Значения из массива b, которые совпали с числами 10 и 70: \", b[np.where(np.isin(b, [10,70]))])\n",
    "\n",
    "# Альтернативный вариант вывода значений, которые совпали с числами 10 и 70\n",
    "print(\"Значения из массива b, которые совпали с числами 10 и 70 (альтернативный вариант): \", b[np.isin(b, [10,70])])"
   ]
  },
  {
   "cell_type": "code",
   "execution_count": null,
   "metadata": {
    "id": "i5V6ox2Mt62b"
   },
   "outputs": [],
   "source": [
    "# Расчет количества вхождений каждого значния в массив\n",
    "# Обратите внимание, что np.bincount работает только с неотрицательными целыми числами\n",
    "arr = np.array([1, 1, 2, 3, 2, 1, 4])\n",
    "print(\"Массив arr: \")\n",
    "print(arr)\n",
    "\n",
    "bincount_result = np.bincount(arr)\n",
    "print(\"Количество вхождений каждого значения в массив arr с помощью np.bincount: \")\n",
    "print(bincount_result)"
   ]
  },
  {
   "cell_type": "markdown",
   "metadata": {
    "id": "RA8aUDehZj7x"
   },
   "source": [
    " <a name='sort'></a>\n",
    "Cортировка массивов"
   ]
  },
  {
   "cell_type": "code",
   "execution_count": null,
   "metadata": {
    "colab": {
     "base_uri": "https://localhost:8080/"
    },
    "executionInfo": {
     "elapsed": 39,
     "status": "ok",
     "timestamp": 1698212663555,
     "user": {
      "displayName": "Sergey Korpachev",
      "userId": "09181340988160569540"
     },
     "user_tz": -180
    },
    "id": "l-B39RZaZj7y",
    "outputId": "73c4bf74-cd99-4b5c-9519-6011ff5855bc"
   },
   "outputs": [],
   "source": [
    "# Обратный порядок массива\n",
    "a4 = np.arange(0,30)\n",
    "print(\"Исходный массив:\", a4)\n",
    "# Обратный порядок массива\n",
    "print(\"Массив в обратном порядке:\", a4[::-1])\n",
    "# Обратный порядок массива\n",
    "print(\"Массив в обратном порядке:\", np.flip(a4))\n",
    "\n",
    "a3 = np.array([[1,2,3,4] , [5,6,7,8] , [9,10,11,12] , [13,14,15,16]])\n",
    "print(\"Исходный массив:\")\n",
    "print(a3)\n",
    "# Обратный порядок строк\n",
    "print(\"Массив со строками в обратном порядке:\")\n",
    "print(a3[::-1,])\n",
    "# Обратный порядок столбцов\n",
    "print(\"Массив со столбцами в обратном порядке:\")\n",
    "print(a3[:,::-1])\n",
    "# Обратный порядок строк и столбцов\n",
    "print(\"Массив со строками и столбцами в обратном порядке:\")\n",
    "print(a3[::-1,::-1])"
   ]
  },
  {
   "cell_type": "code",
   "execution_count": null,
   "metadata": {
    "colab": {
     "base_uri": "https://localhost:8080/"
    },
    "executionInfo": {
     "elapsed": 32,
     "status": "ok",
     "timestamp": 1698212663555,
     "user": {
      "displayName": "Sergey Korpachev",
      "userId": "09181340988160569540"
     },
     "user_tz": -180
    },
    "id": "FBuIYhF9Zj7z",
    "outputId": "b042db3e-2541-49fa-ac06-2d8188f20d22"
   },
   "outputs": [],
   "source": [
    "# Сортировка массива\n",
    "a = np.array([10,5,2,22,12,92,17,33])\n",
    "# Сортировка по возрастанию\n",
    "print(\"Массив в отсортированном порядке по возрастанию:\")\n",
    "print(np.sort(a))\n",
    "a3 = np.array([[3,2,8,1] , [70,50,10,67] , [45,25,75,15]])\n",
    "print(\"Исходный массив:\")\n",
    "print(a3)\n",
    "# Сортировка строк по возрастанию\n",
    "print(\"Массив со строками в отсортированном порядке по возрастанию:\")\n",
    "print(np.sort(a3))\n",
    "# Сортировка строк по возрастанию\n",
    "print(\"Массив со строками в отсортированном порядке по возрастанию:\")\n",
    "print(np.sort(a3,axis =1))\n",
    "# Сортировка столбцов по возрастанию\n",
    "print(\"Массив со столбцами в отсортированном порядке по возрастанию:\")\n",
    "print(np.sort(a3,axis =0))\n",
    "# Сортировка по убыванию\n",
    "b = np.sort(a)\n",
    "b = b[::-1]\n",
    "print(\"Массив в отсортированном порядке по убыванию:\")\n",
    "print(b)\n",
    "# Сортировка по убыванию\n",
    "c = np.sort(a)\n",
    "print(\"Массив в отсортированном порядке по убыванию:\")\n",
    "print(np.flip(c))\n",
    "# Сортировка по убыванию\n",
    "a[::-1].sort()\n",
    "print(\"Массив в отсортированном порядке по убыванию:\")\n",
    "print(a)"
   ]
  },
  {
   "cell_type": "code",
   "execution_count": null,
   "metadata": {
    "colab": {
     "base_uri": "https://localhost:8080/"
    },
    "executionInfo": {
     "elapsed": 26,
     "status": "ok",
     "timestamp": 1698212663555,
     "user": {
      "displayName": "Sergey Korpachev",
      "userId": "09181340988160569540"
     },
     "user_tz": -180
    },
    "id": "wyvybQZaZj70",
    "outputId": "c60185c4-9686-468a-8ee8-c4723db29dbf"
   },
   "outputs": [],
   "source": [
    "# # \"N\" наибольших и наименьших чисел в массиве\n",
    "p = np.arange(0,50)\n",
    "print(\"Массив p: \")\n",
    "print(p)\n",
    "np.random.shuffle(p)\n",
    "print(\"Массив p после перемешивания: \")\n",
    "print(p)\n",
    "\n",
    "# Вернуть \"n\" наибольших чисел в массиве\n",
    "n = 4\n",
    "print(\"n наибольших чисел в массиве p: \")\n",
    "print(p[np.argsort(p)[-n:]])\n",
    "print(p[np.argpartition(-p,n)[:n]])\n",
    "\n",
    "# Вернуть \"n\" наименьших чисел в массиве\n",
    "print(\"n наименьших чисел в массиве p: \")\n",
    "print(p[np.argsort(-p)[-n:]])\n",
    "print(p[np.argpartition(p,n)[:n]])"
   ]
  },
  {
   "cell_type": "markdown",
   "metadata": {
    "id": "ot98sp0dZj70"
   },
   "source": [
    " <a name='compar'></a>\n",
    "Сравнение массивов"
   ]
  },
  {
   "cell_type": "code",
   "execution_count": null,
   "metadata": {
    "colab": {
     "base_uri": "https://localhost:8080/"
    },
    "executionInfo": {
     "elapsed": 20,
     "status": "ok",
     "timestamp": 1698212663555,
     "user": {
      "displayName": "Sergey Korpachev",
      "userId": "09181340988160569540"
     },
     "user_tz": -180
    },
    "id": "GoYWoWd7Zj71",
    "outputId": "a1a11a07-dc26-46cc-c1c6-279a3e639ff7"
   },
   "outputs": [],
   "source": [
    "# # Повторяющиеся последовательности\n",
    "a5 = [10,20,30]\n",
    "print(\"Массив a5: \")\n",
    "print(a5)\n",
    "\n",
    "# Повторить весь массив дважды\n",
    "print(\"Массив a5, повторенный дважды: \")\n",
    "print(np.tile(a5, 2))\n",
    "\n",
    "# Повторить каждый элемент в массиве три раза\n",
    "print(\"Каждый элемент массива a5, повторенный три раза: \")\n",
    "print(np.repeat(a5, 3))\n",
    "\n",
    "# # Сравнение массивов\n",
    "d1 = np.arange(0,10)\n",
    "print(\"Массив d1: \")\n",
    "print(d1)\n",
    "\n",
    "d2 = np.arange(0,10)\n",
    "print(\"Массив d2: \")\n",
    "print(d2)\n",
    "\n",
    "d3 = np.arange(10,20)\n",
    "print(\"Массив d3: \")\n",
    "print(d3)\n",
    "\n",
    "d4 = d1[::-1]\n",
    "print(\"Массив d4: \")\n",
    "print(d4)\n",
    "\n",
    "# Сравнить массивы с помощью функции \"allclose\". Если эта функция возвращает True, то массивы равны\n",
    "res1 = np.allclose(d1,d2)\n",
    "print(\"Результат сравнения массивов d1 и d2: \")\n",
    "print(res1)\n",
    "\n",
    "# Сравнить массивы с помощью функции \"allclose\". Если эта функция возвращает False, то массивы не равны\n",
    "res2 = np.allclose(d1,d3)\n",
    "print(\"Результат сравнения массивов d1 и d3: \")\n",
    "print(res2)\n",
    "\n",
    "# Сравнить массивы с помощью функции \"allclose\"\n",
    "res3 = np.allclose(d1,d4)\n",
    "print(\"Результат сравнения массивов d1 и d4: \")\n",
    "print(res3)"
   ]
  },
  {
   "cell_type": "markdown",
   "metadata": {
    "id": "Nwh_92Wsr9P_"
   },
   "source": [
    " <a name='math'></a>\n",
    "Математические операции"
   ]
  },
  {
   "cell_type": "code",
   "execution_count": null,
   "metadata": {
    "colab": {
     "base_uri": "https://localhost:8080/"
    },
    "executionInfo": {
     "elapsed": 273,
     "status": "ok",
     "timestamp": 1735027580265,
     "user": {
      "displayName": "Ekaterina Gracheva",
      "userId": "10986220086375316979"
     },
     "user_tz": -540
    },
    "id": "_WM6suxqr8Ta",
    "outputId": "6631747b-39b0-46ac-d4ef-7199ec44d65f"
   },
   "outputs": [],
   "source": [
    "a = np.array([4,1,16])\n",
    "\n",
    "# Деление массива на число\n",
    "number = 2\n",
    "divided = a / number\n",
    "print(f\"Массив a, делённый на {number}: \")\n",
    "print(divided)\n",
    "\n",
    "# Извлечение квадратного корня\n",
    "print(\"Извлечение квадратного корня:\")\n",
    "square_root = np.sqrt(a)\n",
    "print(square_root)\n",
    "\n",
    "# Экспоненциальная функция\n",
    "exp_values = np.exp(a)\n",
    "print(\"Экспонента (e^x) для массива a: \")\n",
    "print(exp_values)\n",
    "\n",
    "# Натуральный логарифм (ln(x))\n",
    "log_values = np.log(a)\n",
    "print(\"Натуральный логарифм (ln(x)) для массива a: \")\n",
    "print(log_values)\n",
    "\n",
    "# Логарифм по основанию 2\n",
    "log2_values = np.log2(a)\n",
    "print(\"Логарифм по основанию 2 для массива a: \")\n",
    "print(log2_values)\n",
    "\n",
    "# Логарифм по основанию 10\n",
    "log10_values = np.log10(a)\n",
    "print(\"Логарифм по основанию 10 для массива a: \")\n",
    "print(log10_values)"
   ]
  },
  {
   "cell_type": "markdown",
   "metadata": {
    "id": "TyVktore8VGp"
   },
   "source": [
    " <a name='linalg'></a>\n",
    "Функции линейной алгебры"
   ]
  },
  {
   "cell_type": "code",
   "execution_count": null,
   "metadata": {
    "colab": {
     "base_uri": "https://localhost:8080/"
    },
    "executionInfo": {
     "elapsed": 280,
     "status": "ok",
     "timestamp": 1735016882009,
     "user": {
      "displayName": "Ekaterina Gracheva",
      "userId": "10986220086375316979"
     },
     "user_tz": -540
    },
    "id": "cODVsHdI8TFY",
    "outputId": "25b48dca-4515-48ee-8066-4f27b70fed79"
   },
   "outputs": [],
   "source": [
    "# # Операции линейной алгебры\n",
    "v1 = np.array([3, 4])\n",
    "print(\"Вектор v1: \")\n",
    "print(v1)\n",
    "\n",
    "v2 = np.array([1, 2])\n",
    "print(\"Вектор v2: \")\n",
    "print(v2)\n",
    "\n",
    "m1 = np.array([[1, 2], [3, 4]])\n",
    "print(\"Матрица m1: \")\n",
    "print(m1)\n",
    "\n",
    "m2 = np.array([[2, 0], [1, 3]])\n",
    "print(\"Матрица m2: \")\n",
    "print(m2)\n",
    "\n",
    "# Норма вектора\n",
    "norm_v1 = np.linalg.norm(v1)\n",
    "print(\"Норма вектора v1: \")\n",
    "print(norm_v1)\n",
    "\n",
    "# Скалярное произведение двух векторов\n",
    "dot_product = np.dot(v1, v2)\n",
    "print(\"Скалярное произведение векторов v1 и v2: \")\n",
    "print(dot_product)\n",
    "\n",
    "# Поэлементное умножение\n",
    "print(\"Поэлементное произведение векторов v1 и v2: \")\n",
    "elementwise_product = np.multiply(v1, v2)\n",
    "print(elementwise_product)\n",
    "\n",
    "# Внешнее векторное произведение\n",
    "print(\"Внешнее произведение векторов v1 и v2: \")\n",
    "outer = np.outer(v1, v2)\n",
    "print(outer)\n",
    "\n",
    "# Поэлементное умножение: умножаются соответствующие элементы векторов.\n",
    "# Например, [1*4, 2*5, 3*6] = [4, 10, 18]\n",
    "\n",
    "# Внешнее произведение: формируется матрица, где каждый элемент - это произведение всех возможных пар элементов из двух векторов.\n",
    "# Например, для v1 = [1, 2, 3] и v2 = [4, 5, 6]:\n",
    "# [\n",
    "#   [1*4, 1*5, 1*6],\n",
    "#   [2*4, 2*5, 2*6],\n",
    "#   [3*4, 3*5, 3*6]\n",
    "# ]\n",
    "\n",
    "# Вычисление определителя матрицы\n",
    "det_matrix = np.linalg.det(m1)\n",
    "print(\"Определитель матрицы: \")\n",
    "print(det_matrix)\n",
    "\n",
    "# Умножение матриц\n",
    "product = np.matmul(m1, m2)\n",
    "print(\"Произведение матриц: \")\n",
    "print(product)\n",
    "\n",
    "# Вычисление обратной матрицы)\n",
    "print(\"Обратная матрица для первой матрицы: \")\n",
    "inverse_matrix = np.linalg.inv(m1)\n",
    "print(inverse_matrix)\n",
    "\n",
    "# Проверка умножения матрицы на её обратную (должен быть единичный массив)\n",
    "identity_check = np.matmul(m1, inverse_matrix)\n",
    "print(\"Результат умножения матрицы на её обратную: \")\n",
    "print(identity_check)"
   ]
  },
  {
   "cell_type": "markdown",
   "metadata": {
    "id": "5zC4z3BiZj72"
   },
   "source": [
    "[К оглавлению](#toc)"
   ]
  },
  {
   "cell_type": "markdown",
   "metadata": {
    "id": "20b5SKlz2OOc"
   },
   "source": [
    "## Упражнение"
   ]
  },
  {
   "cell_type": "markdown",
   "metadata": {
    "id": "j3-9eH48cmsS"
   },
   "source": [
    "Дан массив NumPy. Найти в нём максимальный элемент и заменить его на число 999.\n",
    "\n",
    "Задача должна быть решена в NumPy синтаксисе, без циклов."
   ]
  },
  {
   "cell_type": "code",
   "execution_count": null,
   "metadata": {
    "colab": {
     "base_uri": "https://localhost:8080/"
    },
    "executionInfo": {
     "elapsed": 14,
     "status": "ok",
     "timestamp": 1698212663555,
     "user": {
      "displayName": "Sergey Korpachev",
      "userId": "09181340988160569540"
     },
     "user_tz": -180
    },
    "id": "cW_9mpn-cMN2",
    "outputId": "0f8a032f-cf15-45a2-d2b6-bdd9fdb8d1e6"
   },
   "outputs": [],
   "source": [
    "# Ваш код и комментарии\n",
    "arr = np.array([1, 2, 3, 4, 5, 6, 7, 8, 9, 10])"
   ]
  },
  {
   "cell_type": "code",
   "execution_count": null,
   "metadata": {
    "id": "noK419PF177B"
   },
   "outputs": [],
   "source": []
  }
 ],
 "metadata": {
  "colab": {
   "provenance": []
  },
  "kernelspec": {
   "display_name": "Python 3",
   "language": "python",
   "name": "python3"
  },
  "language_info": {
   "codemirror_mode": {
    "name": "ipython",
    "version": 3
   },
   "file_extension": ".py",
   "mimetype": "text/x-python",
   "name": "python",
   "nbconvert_exporter": "python",
   "pygments_lexer": "ipython3",
   "version": "3.8.10"
  }
 },
 "nbformat": 4,
 "nbformat_minor": 1
}
